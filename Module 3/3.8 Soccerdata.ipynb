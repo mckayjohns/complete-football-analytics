{
 "cells": [
  {
   "metadata": {},
   "cell_type": "markdown",
   "source": [
    "# SoccerData package\n",
    "- Soccerdata is a python package developed to scrape football data from various sources.\n",
    "- https://soccerdata.readthedocs.io/en/latest/intro.html"
   ],
   "id": "9aab59860c1efde9"
  },
  {
   "metadata": {
    "collapsed": true,
    "ExecuteTime": {
     "end_time": "2025-06-17T12:22:27.502924Z",
     "start_time": "2025-06-17T12:22:21.586485Z"
    }
   },
   "cell_type": "code",
   "outputs": [
    {
     "name": "stdout",
     "output_type": "stream",
     "text": [
      "Collecting soccerdata\r\n",
      "  Downloading soccerdata-1.8.7-py3-none-any.whl.metadata (5.6 kB)\r\n",
      "Requirement already satisfied: PySocks<2.0.0,>=1.7.1 in /Users/mckayjohns/miniforge3/envs/complete-football-analytics/lib/python3.11/site-packages (from soccerdata) (1.7.1)\r\n",
      "Collecting Unidecode<2.0.0,>=1.2.0 (from soccerdata)\r\n",
      "  Downloading Unidecode-1.4.0-py3-none-any.whl.metadata (13 kB)\r\n",
      "Requirement already satisfied: cloudscraper<2.0.0,>=1.2.71 in /Users/mckayjohns/miniforge3/envs/complete-football-analytics/lib/python3.11/site-packages (from soccerdata) (1.2.71)\r\n",
      "Requirement already satisfied: html5lib<2.0,>=1.1 in /Users/mckayjohns/miniforge3/envs/complete-football-analytics/lib/python3.11/site-packages (from soccerdata) (1.1)\r\n",
      "Collecting lxml<5.0.0,>=4.9.3 (from soccerdata)\r\n",
      "  Downloading lxml-4.9.4-cp311-cp311-macosx_11_0_universal2.whl.metadata (3.7 kB)\r\n",
      "Collecting packaging<25.0,>=24.1 (from soccerdata)\r\n",
      "  Using cached packaging-24.2-py3-none-any.whl.metadata (3.2 kB)\r\n",
      "Requirement already satisfied: pandas!=2.1.0,<3.0.0,>=2.0.0 in /Users/mckayjohns/miniforge3/envs/complete-football-analytics/lib/python3.11/site-packages (from soccerdata) (2.2.0)\r\n",
      "Requirement already satisfied: requests<3.0,>=2.23 in /Users/mckayjohns/miniforge3/envs/complete-football-analytics/lib/python3.11/site-packages (from soccerdata) (2.32.3)\r\n",
      "Collecting rich<14.0.0,>=13.0.0 (from soccerdata)\r\n",
      "  Downloading rich-13.9.4-py3-none-any.whl.metadata (18 kB)\r\n",
      "Collecting undetected-chromedriver<4.0.0,>=3.5.0 (from soccerdata)\r\n",
      "  Downloading undetected-chromedriver-3.5.5.tar.gz (65 kB)\r\n",
      "\u001B[2K     \u001B[90m━━━━━━━━━━━━━━━━━━━━━━━━━━━━━━━━━━━━━━━━\u001B[0m \u001B[32m65.4/65.4 kB\u001B[0m \u001B[31m2.0 MB/s\u001B[0m eta \u001B[36m0:00:00\u001B[0m\r\n",
      "\u001B[?25h  Preparing metadata (setup.py) ... \u001B[?25ldone\r\n",
      "\u001B[?25hCollecting unicode<3.0,>=2.7 (from soccerdata)\r\n",
      "  Downloading unicode-2.9-py2.py3-none-any.whl.metadata (1.1 kB)\r\n",
      "Requirement already satisfied: pyparsing>=2.4.7 in /Users/mckayjohns/miniforge3/envs/complete-football-analytics/lib/python3.11/site-packages (from cloudscraper<2.0.0,>=1.2.71->soccerdata) (3.1.1)\r\n",
      "Requirement already satisfied: requests-toolbelt>=0.9.1 in /Users/mckayjohns/miniforge3/envs/complete-football-analytics/lib/python3.11/site-packages (from cloudscraper<2.0.0,>=1.2.71->soccerdata) (1.0.0)\r\n",
      "Requirement already satisfied: six>=1.9 in /Users/mckayjohns/miniforge3/envs/complete-football-analytics/lib/python3.11/site-packages (from html5lib<2.0,>=1.1->soccerdata) (1.16.0)\r\n",
      "Requirement already satisfied: webencodings in /Users/mckayjohns/miniforge3/envs/complete-football-analytics/lib/python3.11/site-packages (from html5lib<2.0,>=1.1->soccerdata) (0.5.1)\r\n",
      "Requirement already satisfied: numpy<2,>=1.23.2 in /Users/mckayjohns/miniforge3/envs/complete-football-analytics/lib/python3.11/site-packages (from pandas!=2.1.0,<3.0.0,>=2.0.0->soccerdata) (1.26.4)\r\n",
      "Requirement already satisfied: python-dateutil>=2.8.2 in /Users/mckayjohns/miniforge3/envs/complete-football-analytics/lib/python3.11/site-packages (from pandas!=2.1.0,<3.0.0,>=2.0.0->soccerdata) (2.8.2)\r\n",
      "Requirement already satisfied: pytz>=2020.1 in /Users/mckayjohns/miniforge3/envs/complete-football-analytics/lib/python3.11/site-packages (from pandas!=2.1.0,<3.0.0,>=2.0.0->soccerdata) (2024.1)\r\n",
      "Requirement already satisfied: tzdata>=2022.7 in /Users/mckayjohns/miniforge3/envs/complete-football-analytics/lib/python3.11/site-packages (from pandas!=2.1.0,<3.0.0,>=2.0.0->soccerdata) (2023.4)\r\n",
      "Requirement already satisfied: charset-normalizer<4,>=2 in /Users/mckayjohns/miniforge3/envs/complete-football-analytics/lib/python3.11/site-packages (from requests<3.0,>=2.23->soccerdata) (3.3.2)\r\n",
      "Requirement already satisfied: idna<4,>=2.5 in /Users/mckayjohns/miniforge3/envs/complete-football-analytics/lib/python3.11/site-packages (from requests<3.0,>=2.23->soccerdata) (3.7)\r\n",
      "Requirement already satisfied: urllib3<3,>=1.21.1 in /Users/mckayjohns/miniforge3/envs/complete-football-analytics/lib/python3.11/site-packages (from requests<3.0,>=2.23->soccerdata) (2.2.3)\r\n",
      "Requirement already satisfied: certifi>=2017.4.17 in /Users/mckayjohns/miniforge3/envs/complete-football-analytics/lib/python3.11/site-packages (from requests<3.0,>=2.23->soccerdata) (2024.2.2)\r\n",
      "Collecting markdown-it-py>=2.2.0 (from rich<14.0.0,>=13.0.0->soccerdata)\r\n",
      "  Downloading markdown_it_py-3.0.0-py3-none-any.whl.metadata (6.9 kB)\r\n",
      "Requirement already satisfied: pygments<3.0.0,>=2.13.0 in /Users/mckayjohns/miniforge3/envs/complete-football-analytics/lib/python3.11/site-packages (from rich<14.0.0,>=13.0.0->soccerdata) (2.17.2)\r\n",
      "Collecting selenium>=4.9.0 (from undetected-chromedriver<4.0.0,>=3.5.0->soccerdata)\r\n",
      "  Downloading selenium-4.33.0-py3-none-any.whl.metadata (7.5 kB)\r\n",
      "Collecting websockets (from undetected-chromedriver<4.0.0,>=3.5.0->soccerdata)\r\n",
      "  Using cached websockets-15.0.1-cp311-cp311-macosx_11_0_arm64.whl.metadata (6.8 kB)\r\n",
      "Collecting mdurl~=0.1 (from markdown-it-py>=2.2.0->rich<14.0.0,>=13.0.0->soccerdata)\r\n",
      "  Downloading mdurl-0.1.2-py3-none-any.whl.metadata (1.6 kB)\r\n",
      "Collecting urllib3<3,>=1.21.1 (from requests<3.0,>=2.23->soccerdata)\r\n",
      "  Using cached urllib3-2.4.0-py3-none-any.whl.metadata (6.5 kB)\r\n",
      "Collecting trio~=0.30.0 (from selenium>=4.9.0->undetected-chromedriver<4.0.0,>=3.5.0->soccerdata)\r\n",
      "  Downloading trio-0.30.0-py3-none-any.whl.metadata (8.5 kB)\r\n",
      "Collecting trio-websocket~=0.12.2 (from selenium>=4.9.0->undetected-chromedriver<4.0.0,>=3.5.0->soccerdata)\r\n",
      "  Downloading trio_websocket-0.12.2-py3-none-any.whl.metadata (5.1 kB)\r\n",
      "Collecting certifi>=2017.4.17 (from requests<3.0,>=2.23->soccerdata)\r\n",
      "  Downloading certifi-2025.6.15-py3-none-any.whl.metadata (2.4 kB)\r\n",
      "Collecting typing_extensions~=4.13.2 (from selenium>=4.9.0->undetected-chromedriver<4.0.0,>=3.5.0->soccerdata)\r\n",
      "  Using cached typing_extensions-4.13.2-py3-none-any.whl.metadata (3.0 kB)\r\n",
      "Collecting websocket-client~=1.8.0 (from selenium>=4.9.0->undetected-chromedriver<4.0.0,>=3.5.0->soccerdata)\r\n",
      "  Using cached websocket_client-1.8.0-py3-none-any.whl.metadata (8.0 kB)\r\n",
      "Requirement already satisfied: attrs>=23.2.0 in /Users/mckayjohns/miniforge3/envs/complete-football-analytics/lib/python3.11/site-packages (from trio~=0.30.0->selenium>=4.9.0->undetected-chromedriver<4.0.0,>=3.5.0->soccerdata) (23.2.0)\r\n",
      "Collecting sortedcontainers (from trio~=0.30.0->selenium>=4.9.0->undetected-chromedriver<4.0.0,>=3.5.0->soccerdata)\r\n",
      "  Downloading sortedcontainers-2.4.0-py2.py3-none-any.whl.metadata (10 kB)\r\n",
      "Collecting outcome (from trio~=0.30.0->selenium>=4.9.0->undetected-chromedriver<4.0.0,>=3.5.0->soccerdata)\r\n",
      "  Downloading outcome-1.3.0.post0-py2.py3-none-any.whl.metadata (2.6 kB)\r\n",
      "Requirement already satisfied: sniffio>=1.3.0 in /Users/mckayjohns/miniforge3/envs/complete-football-analytics/lib/python3.11/site-packages (from trio~=0.30.0->selenium>=4.9.0->undetected-chromedriver<4.0.0,>=3.5.0->soccerdata) (1.3.0)\r\n",
      "Collecting wsproto>=0.14 (from trio-websocket~=0.12.2->selenium>=4.9.0->undetected-chromedriver<4.0.0,>=3.5.0->soccerdata)\r\n",
      "  Downloading wsproto-1.2.0-py3-none-any.whl.metadata (5.6 kB)\r\n",
      "Requirement already satisfied: h11<1,>=0.9.0 in /Users/mckayjohns/miniforge3/envs/complete-football-analytics/lib/python3.11/site-packages (from wsproto>=0.14->trio-websocket~=0.12.2->selenium>=4.9.0->undetected-chromedriver<4.0.0,>=3.5.0->soccerdata) (0.14.0)\r\n",
      "Downloading soccerdata-1.8.7-py3-none-any.whl (58 kB)\r\n",
      "\u001B[2K   \u001B[90m━━━━━━━━━━━━━━━━━━━━━━━━━━━━━━━━━━━━━━━━\u001B[0m \u001B[32m58.0/58.0 kB\u001B[0m \u001B[31m5.8 MB/s\u001B[0m eta \u001B[36m0:00:00\u001B[0m\r\n",
      "\u001B[?25hDownloading lxml-4.9.4-cp311-cp311-macosx_11_0_universal2.whl (8.6 MB)\r\n",
      "\u001B[2K   \u001B[90m━━━━━━━━━━━━━━━━━━━━━━━━━━━━━━━━━━━━━━━━\u001B[0m \u001B[32m8.6/8.6 MB\u001B[0m \u001B[31m24.2 MB/s\u001B[0m eta \u001B[36m0:00:00\u001B[0m00:01\u001B[0m00:01\u001B[0m\r\n",
      "\u001B[?25hUsing cached packaging-24.2-py3-none-any.whl (65 kB)\r\n",
      "Downloading rich-13.9.4-py3-none-any.whl (242 kB)\r\n",
      "\u001B[2K   \u001B[90m━━━━━━━━━━━━━━━━━━━━━━━━━━━━━━━━━━━━━━━━\u001B[0m \u001B[32m242.4/242.4 kB\u001B[0m \u001B[31m19.9 MB/s\u001B[0m eta \u001B[36m0:00:00\u001B[0m\r\n",
      "\u001B[?25hDownloading unicode-2.9-py2.py3-none-any.whl (14 kB)\r\n",
      "Downloading Unidecode-1.4.0-py3-none-any.whl (235 kB)\r\n",
      "\u001B[2K   \u001B[90m━━━━━━━━━━━━━━━━━━━━━━━━━━━━━━━━━━━━━━━━\u001B[0m \u001B[32m235.8/235.8 kB\u001B[0m \u001B[31m23.1 MB/s\u001B[0m eta \u001B[36m0:00:00\u001B[0m\r\n",
      "\u001B[?25hDownloading markdown_it_py-3.0.0-py3-none-any.whl (87 kB)\r\n",
      "\u001B[2K   \u001B[90m━━━━━━━━━━━━━━━━━━━━━━━━━━━━━━━━━━━━━━━━\u001B[0m \u001B[32m87.5/87.5 kB\u001B[0m \u001B[31m10.0 MB/s\u001B[0m eta \u001B[36m0:00:00\u001B[0m\r\n",
      "\u001B[?25hDownloading selenium-4.33.0-py3-none-any.whl (9.4 MB)\r\n",
      "\u001B[2K   \u001B[90m━━━━━━━━━━━━━━━━━━━━━━━━━━━━━━━━━━━━━━━━\u001B[0m \u001B[32m9.4/9.4 MB\u001B[0m \u001B[31m51.9 MB/s\u001B[0m eta \u001B[36m0:00:00\u001B[0ma \u001B[36m0:00:01\u001B[0m\r\n",
      "\u001B[?25hDownloading certifi-2025.6.15-py3-none-any.whl (157 kB)\r\n",
      "\u001B[2K   \u001B[90m━━━━━━━━━━━━━━━━━━━━━━━━━━━━━━━━━━━━━━━━\u001B[0m \u001B[32m157.7/157.7 kB\u001B[0m \u001B[31m17.4 MB/s\u001B[0m eta \u001B[36m0:00:00\u001B[0m\r\n",
      "\u001B[?25hUsing cached urllib3-2.4.0-py3-none-any.whl (128 kB)\r\n",
      "Using cached websockets-15.0.1-cp311-cp311-macosx_11_0_arm64.whl (173 kB)\r\n",
      "Downloading mdurl-0.1.2-py3-none-any.whl (10.0 kB)\r\n",
      "Downloading trio-0.30.0-py3-none-any.whl (499 kB)\r\n",
      "\u001B[2K   \u001B[90m━━━━━━━━━━━━━━━━━━━━━━━━━━━━━━━━━━━━━━━━\u001B[0m \u001B[32m499.2/499.2 kB\u001B[0m \u001B[31m33.1 MB/s\u001B[0m eta \u001B[36m0:00:00\u001B[0m\r\n",
      "\u001B[?25hDownloading trio_websocket-0.12.2-py3-none-any.whl (21 kB)\r\n",
      "Using cached typing_extensions-4.13.2-py3-none-any.whl (45 kB)\r\n",
      "Using cached websocket_client-1.8.0-py3-none-any.whl (58 kB)\r\n",
      "Downloading outcome-1.3.0.post0-py2.py3-none-any.whl (10 kB)\r\n",
      "Downloading wsproto-1.2.0-py3-none-any.whl (24 kB)\r\n",
      "Downloading sortedcontainers-2.4.0-py2.py3-none-any.whl (29 kB)\r\n",
      "Building wheels for collected packages: undetected-chromedriver\r\n",
      "  Building wheel for undetected-chromedriver (setup.py) ... \u001B[?25ldone\r\n",
      "\u001B[?25h  Created wheel for undetected-chromedriver: filename=undetected_chromedriver-3.5.5-py3-none-any.whl size=47046 sha256=e5fb794437c508963ad903a7cc03277eb211864d962688e922d4590dd21d5618\r\n",
      "  Stored in directory: /Users/mckayjohns/Library/Caches/pip/wheels/5c/b9/03/4b6e38f019d6170e8c25df2e1e362d7bdf9ff4012df2dc85c0\r\n",
      "Successfully built undetected-chromedriver\r\n",
      "Installing collected packages: unicode, sortedcontainers, wsproto, websockets, websocket-client, urllib3, Unidecode, typing_extensions, packaging, outcome, mdurl, lxml, certifi, trio, markdown-it-py, trio-websocket, rich, selenium, undetected-chromedriver, soccerdata\r\n",
      "  Attempting uninstall: websocket-client\r\n",
      "    Found existing installation: websocket-client 1.7.0\r\n",
      "    Uninstalling websocket-client-1.7.0:\r\n",
      "      Successfully uninstalled websocket-client-1.7.0\r\n",
      "  Attempting uninstall: urllib3\r\n",
      "    Found existing installation: urllib3 2.2.3\r\n",
      "    Uninstalling urllib3-2.2.3:\r\n",
      "      Successfully uninstalled urllib3-2.2.3\r\n",
      "  Attempting uninstall: typing_extensions\r\n",
      "    Found existing installation: typing_extensions 4.9.0\r\n",
      "    Uninstalling typing_extensions-4.9.0:\r\n",
      "      Successfully uninstalled typing_extensions-4.9.0\r\n",
      "  Attempting uninstall: packaging\r\n",
      "    Found existing installation: packaging 23.2\r\n",
      "    Uninstalling packaging-23.2:\r\n",
      "      Successfully uninstalled packaging-23.2\r\n",
      "  Attempting uninstall: lxml\r\n",
      "    Found existing installation: lxml 5.1.0\r\n",
      "    Uninstalling lxml-5.1.0:\r\n",
      "      Successfully uninstalled lxml-5.1.0\r\n",
      "  Attempting uninstall: certifi\r\n",
      "    Found existing installation: certifi 2024.2.2\r\n",
      "    Uninstalling certifi-2024.2.2:\r\n",
      "      Successfully uninstalled certifi-2024.2.2\r\n",
      "\u001B[31mERROR: pip's dependency resolver does not currently take into account all the packages that are installed. This behaviour is the source of the following dependency conflicts.\r\n",
      "jupyterlab 4.2.5 requires jupyterlab-server<3,>=2.27.1, but you have jupyterlab-server 2.25.2 which is incompatible.\u001B[0m\u001B[31m\r\n",
      "\u001B[0mSuccessfully installed Unidecode-1.4.0 certifi-2025.6.15 lxml-4.9.4 markdown-it-py-3.0.0 mdurl-0.1.2 outcome-1.3.0.post0 packaging-24.2 rich-13.9.4 selenium-4.33.0 soccerdata-1.8.7 sortedcontainers-2.4.0 trio-0.30.0 trio-websocket-0.12.2 typing_extensions-4.13.2 undetected-chromedriver-3.5.5 unicode-2.9 urllib3-2.4.0 websocket-client-1.8.0 websockets-15.0.1 wsproto-1.2.0\r\n"
     ]
    }
   ],
   "execution_count": 1,
   "source": "!pip install soccerdata==1.8.7",
   "id": "initial_id"
  },
  {
   "metadata": {
    "ExecuteTime": {
     "end_time": "2025-06-17T12:25:15.417356Z",
     "start_time": "2025-06-17T12:25:15.414596Z"
    }
   },
   "cell_type": "code",
   "source": "import soccerdata as sd",
   "id": "cc673fdd35a63f1d",
   "outputs": [],
   "execution_count": 3
  },
  {
   "metadata": {
    "ExecuteTime": {
     "end_time": "2025-06-17T12:30:12.907388Z",
     "start_time": "2025-06-17T12:30:12.634873Z"
    }
   },
   "cell_type": "code",
   "source": [
    "# For example we can scrape fotmob fairly easily using soccerdata\n",
    "fotmob = sd.FotMob(leagues='ESP-La Liga', seasons='2024/2025')"
   ],
   "id": "194125c9bd96e4e9",
   "outputs": [
    {
     "data": {
      "text/plain": [
       "\u001B[2;36m[06/17/25 06:30:12]\u001B[0m\u001B[2;36m \u001B[0m\u001B[34mINFO    \u001B[0m Saving cached data to \u001B[35m/Users/mckayjohns/soccerdata/data/\u001B[0m\u001B[95mFotMob\u001B[0m          \u001B]8;id=718833;file:///Users/mckayjohns/miniforge3/envs/complete-football-analytics/lib/python3.11/site-packages/soccerdata/_common.py\u001B\\\u001B[2m_common.py\u001B[0m\u001B]8;;\u001B\\\u001B[2m:\u001B[0m\u001B]8;id=840903;file:///Users/mckayjohns/miniforge3/envs/complete-football-analytics/lib/python3.11/site-packages/soccerdata/_common.py#263\u001B\\\u001B[2m263\u001B[0m\u001B]8;;\u001B\\\n"
      ],
      "text/html": [
       "<pre style=\"white-space:pre;overflow-x:auto;line-height:normal;font-family:Menlo,'DejaVu Sans Mono',consolas,'Courier New',monospace\"><span style=\"color: #7fbfbf; text-decoration-color: #7fbfbf\">[06/17/25 06:30:12] </span><span style=\"color: #000080; text-decoration-color: #000080\">INFO    </span> Saving cached data to <span style=\"color: #800080; text-decoration-color: #800080\">/Users/mckayjohns/soccerdata/data/</span><span style=\"color: #ff00ff; text-decoration-color: #ff00ff\">FotMob</span>          <a href=\"file:///Users/mckayjohns/miniforge3/envs/complete-football-analytics/lib/python3.11/site-packages/soccerdata/_common.py\" target=\"_blank\"><span style=\"color: #7f7f7f; text-decoration-color: #7f7f7f\">_common.py</span></a><span style=\"color: #7f7f7f; text-decoration-color: #7f7f7f\">:</span><a href=\"file:///Users/mckayjohns/miniforge3/envs/complete-football-analytics/lib/python3.11/site-packages/soccerdata/_common.py#263\" target=\"_blank\"><span style=\"color: #7f7f7f; text-decoration-color: #7f7f7f\">263</span></a>\n",
       "</pre>\n"
      ]
     },
     "metadata": {},
     "output_type": "display_data"
    }
   ],
   "execution_count": 4
  },
  {
   "metadata": {
    "ExecuteTime": {
     "end_time": "2025-06-17T12:30:25.069975Z",
     "start_time": "2025-06-17T12:30:23.082392Z"
    }
   },
   "cell_type": "code",
   "source": [
    "league_table = fotmob.read_league_table()\n",
    "league_table.head()"
   ],
   "id": "f1f3e443103c5d30",
   "outputs": [
    {
     "data": {
      "text/plain": [
       "                               team  MP   W   D  L   GF  GA  GD  Pts\n",
       "league      season                                                  \n",
       "ESP-La Liga 2425          Barcelona  38  28   4  6  102  39  63   88\n",
       "            2425        Real Madrid  38  26   6  6   78  38  40   84\n",
       "            2425    Atletico Madrid  38  22  10  6   68  30  38   76\n",
       "            2425      Athletic Club  38  19  13  6   54  29  25   70\n",
       "            2425         Villarreal  38  20  10  8   71  51  20   70"
      ],
      "text/html": [
       "<div>\n",
       "<style scoped>\n",
       "    .dataframe tbody tr th:only-of-type {\n",
       "        vertical-align: middle;\n",
       "    }\n",
       "\n",
       "    .dataframe tbody tr th {\n",
       "        vertical-align: top;\n",
       "    }\n",
       "\n",
       "    .dataframe thead th {\n",
       "        text-align: right;\n",
       "    }\n",
       "</style>\n",
       "<table border=\"1\" class=\"dataframe\">\n",
       "  <thead>\n",
       "    <tr style=\"text-align: right;\">\n",
       "      <th></th>\n",
       "      <th></th>\n",
       "      <th>team</th>\n",
       "      <th>MP</th>\n",
       "      <th>W</th>\n",
       "      <th>D</th>\n",
       "      <th>L</th>\n",
       "      <th>GF</th>\n",
       "      <th>GA</th>\n",
       "      <th>GD</th>\n",
       "      <th>Pts</th>\n",
       "    </tr>\n",
       "    <tr>\n",
       "      <th>league</th>\n",
       "      <th>season</th>\n",
       "      <th></th>\n",
       "      <th></th>\n",
       "      <th></th>\n",
       "      <th></th>\n",
       "      <th></th>\n",
       "      <th></th>\n",
       "      <th></th>\n",
       "      <th></th>\n",
       "      <th></th>\n",
       "    </tr>\n",
       "  </thead>\n",
       "  <tbody>\n",
       "    <tr>\n",
       "      <th rowspan=\"5\" valign=\"top\">ESP-La Liga</th>\n",
       "      <th>2425</th>\n",
       "      <td>Barcelona</td>\n",
       "      <td>38</td>\n",
       "      <td>28</td>\n",
       "      <td>4</td>\n",
       "      <td>6</td>\n",
       "      <td>102</td>\n",
       "      <td>39</td>\n",
       "      <td>63</td>\n",
       "      <td>88</td>\n",
       "    </tr>\n",
       "    <tr>\n",
       "      <th>2425</th>\n",
       "      <td>Real Madrid</td>\n",
       "      <td>38</td>\n",
       "      <td>26</td>\n",
       "      <td>6</td>\n",
       "      <td>6</td>\n",
       "      <td>78</td>\n",
       "      <td>38</td>\n",
       "      <td>40</td>\n",
       "      <td>84</td>\n",
       "    </tr>\n",
       "    <tr>\n",
       "      <th>2425</th>\n",
       "      <td>Atletico Madrid</td>\n",
       "      <td>38</td>\n",
       "      <td>22</td>\n",
       "      <td>10</td>\n",
       "      <td>6</td>\n",
       "      <td>68</td>\n",
       "      <td>30</td>\n",
       "      <td>38</td>\n",
       "      <td>76</td>\n",
       "    </tr>\n",
       "    <tr>\n",
       "      <th>2425</th>\n",
       "      <td>Athletic Club</td>\n",
       "      <td>38</td>\n",
       "      <td>19</td>\n",
       "      <td>13</td>\n",
       "      <td>6</td>\n",
       "      <td>54</td>\n",
       "      <td>29</td>\n",
       "      <td>25</td>\n",
       "      <td>70</td>\n",
       "    </tr>\n",
       "    <tr>\n",
       "      <th>2425</th>\n",
       "      <td>Villarreal</td>\n",
       "      <td>38</td>\n",
       "      <td>20</td>\n",
       "      <td>10</td>\n",
       "      <td>8</td>\n",
       "      <td>71</td>\n",
       "      <td>51</td>\n",
       "      <td>20</td>\n",
       "      <td>70</td>\n",
       "    </tr>\n",
       "  </tbody>\n",
       "</table>\n",
       "</div>"
      ]
     },
     "execution_count": 5,
     "metadata": {},
     "output_type": "execute_result"
    }
   ],
   "execution_count": 5
  },
  {
   "metadata": {
    "ExecuteTime": {
     "end_time": "2025-06-17T12:31:15.429255Z",
     "start_time": "2025-06-17T12:30:43.643986Z"
    }
   },
   "cell_type": "code",
   "source": [
    "match_stats = fotmob.read_team_match_stats(opponent_stats=False, team='Barcelona')\n",
    "match_stats.head()"
   ],
   "id": "eb7a8f9b0db35cc6",
   "outputs": [
    {
     "data": {
      "text/plain": [
       "\u001B[2;36m[06/17/25 06:30:44]\u001B[0m\u001B[2;36m \u001B[0m\u001B[34mINFO    \u001B[0m \u001B[1m[\u001B[0m\u001B[1;36m1\u001B[0m/\u001B[1;36m38\u001B[0m\u001B[1m]\u001B[0m Retrieving game with \u001B[33mid\u001B[0m=\u001B[1;36m4506750\u001B[0m                                   \u001B]8;id=374193;file:///Users/mckayjohns/miniforge3/envs/complete-football-analytics/lib/python3.11/site-packages/soccerdata/fotmob.py\u001B\\\u001B[2mfotmob.py\u001B[0m\u001B]8;;\u001B\\\u001B[2m:\u001B[0m\u001B]8;id=886031;file:///Users/mckayjohns/miniforge3/envs/complete-football-analytics/lib/python3.11/site-packages/soccerdata/fotmob.py#403\u001B\\\u001B[2m403\u001B[0m\u001B]8;;\u001B\\\n"
      ],
      "text/html": [
       "<pre style=\"white-space:pre;overflow-x:auto;line-height:normal;font-family:Menlo,'DejaVu Sans Mono',consolas,'Courier New',monospace\"><span style=\"color: #7fbfbf; text-decoration-color: #7fbfbf\">[06/17/25 06:30:44] </span><span style=\"color: #000080; text-decoration-color: #000080\">INFO    </span> <span style=\"font-weight: bold\">[</span><span style=\"color: #008080; text-decoration-color: #008080; font-weight: bold\">1</span>/<span style=\"color: #008080; text-decoration-color: #008080; font-weight: bold\">38</span><span style=\"font-weight: bold\">]</span> Retrieving game with <span style=\"color: #808000; text-decoration-color: #808000\">id</span>=<span style=\"color: #008080; text-decoration-color: #008080; font-weight: bold\">4506750</span>                                   <a href=\"file:///Users/mckayjohns/miniforge3/envs/complete-football-analytics/lib/python3.11/site-packages/soccerdata/fotmob.py\" target=\"_blank\"><span style=\"color: #7f7f7f; text-decoration-color: #7f7f7f\">fotmob.py</span></a><span style=\"color: #7f7f7f; text-decoration-color: #7f7f7f\">:</span><a href=\"file:///Users/mckayjohns/miniforge3/envs/complete-football-analytics/lib/python3.11/site-packages/soccerdata/fotmob.py#403\" target=\"_blank\"><span style=\"color: #7f7f7f; text-decoration-color: #7f7f7f\">403</span></a>\n",
       "</pre>\n"
      ]
     },
     "metadata": {},
     "output_type": "display_data"
    },
    {
     "data": {
      "text/plain": [
       "\u001B[2;36m[06/17/25 06:30:45]\u001B[0m\u001B[2;36m \u001B[0m\u001B[34mINFO    \u001B[0m \u001B[1m[\u001B[0m\u001B[1;36m2\u001B[0m/\u001B[1;36m38\u001B[0m\u001B[1m]\u001B[0m Retrieving game with \u001B[33mid\u001B[0m=\u001B[1;36m4506764\u001B[0m                                   \u001B]8;id=243275;file:///Users/mckayjohns/miniforge3/envs/complete-football-analytics/lib/python3.11/site-packages/soccerdata/fotmob.py\u001B\\\u001B[2mfotmob.py\u001B[0m\u001B]8;;\u001B\\\u001B[2m:\u001B[0m\u001B]8;id=820601;file:///Users/mckayjohns/miniforge3/envs/complete-football-analytics/lib/python3.11/site-packages/soccerdata/fotmob.py#403\u001B\\\u001B[2m403\u001B[0m\u001B]8;;\u001B\\\n"
      ],
      "text/html": [
       "<pre style=\"white-space:pre;overflow-x:auto;line-height:normal;font-family:Menlo,'DejaVu Sans Mono',consolas,'Courier New',monospace\"><span style=\"color: #7fbfbf; text-decoration-color: #7fbfbf\">[06/17/25 06:30:45] </span><span style=\"color: #000080; text-decoration-color: #000080\">INFO    </span> <span style=\"font-weight: bold\">[</span><span style=\"color: #008080; text-decoration-color: #008080; font-weight: bold\">2</span>/<span style=\"color: #008080; text-decoration-color: #008080; font-weight: bold\">38</span><span style=\"font-weight: bold\">]</span> Retrieving game with <span style=\"color: #808000; text-decoration-color: #808000\">id</span>=<span style=\"color: #008080; text-decoration-color: #008080; font-weight: bold\">4506764</span>                                   <a href=\"file:///Users/mckayjohns/miniforge3/envs/complete-football-analytics/lib/python3.11/site-packages/soccerdata/fotmob.py\" target=\"_blank\"><span style=\"color: #7f7f7f; text-decoration-color: #7f7f7f\">fotmob.py</span></a><span style=\"color: #7f7f7f; text-decoration-color: #7f7f7f\">:</span><a href=\"file:///Users/mckayjohns/miniforge3/envs/complete-football-analytics/lib/python3.11/site-packages/soccerdata/fotmob.py#403\" target=\"_blank\"><span style=\"color: #7f7f7f; text-decoration-color: #7f7f7f\">403</span></a>\n",
       "</pre>\n"
      ]
     },
     "metadata": {},
     "output_type": "display_data"
    },
    {
     "data": {
      "text/plain": [
       "\u001B[2;36m[06/17/25 06:30:46]\u001B[0m\u001B[2;36m \u001B[0m\u001B[34mINFO    \u001B[0m \u001B[1m[\u001B[0m\u001B[1;36m3\u001B[0m/\u001B[1;36m38\u001B[0m\u001B[1m]\u001B[0m Retrieving game with \u001B[33mid\u001B[0m=\u001B[1;36m4506771\u001B[0m                                   \u001B]8;id=723448;file:///Users/mckayjohns/miniforge3/envs/complete-football-analytics/lib/python3.11/site-packages/soccerdata/fotmob.py\u001B\\\u001B[2mfotmob.py\u001B[0m\u001B]8;;\u001B\\\u001B[2m:\u001B[0m\u001B]8;id=23213;file:///Users/mckayjohns/miniforge3/envs/complete-football-analytics/lib/python3.11/site-packages/soccerdata/fotmob.py#403\u001B\\\u001B[2m403\u001B[0m\u001B]8;;\u001B\\\n"
      ],
      "text/html": [
       "<pre style=\"white-space:pre;overflow-x:auto;line-height:normal;font-family:Menlo,'DejaVu Sans Mono',consolas,'Courier New',monospace\"><span style=\"color: #7fbfbf; text-decoration-color: #7fbfbf\">[06/17/25 06:30:46] </span><span style=\"color: #000080; text-decoration-color: #000080\">INFO    </span> <span style=\"font-weight: bold\">[</span><span style=\"color: #008080; text-decoration-color: #008080; font-weight: bold\">3</span>/<span style=\"color: #008080; text-decoration-color: #008080; font-weight: bold\">38</span><span style=\"font-weight: bold\">]</span> Retrieving game with <span style=\"color: #808000; text-decoration-color: #808000\">id</span>=<span style=\"color: #008080; text-decoration-color: #008080; font-weight: bold\">4506771</span>                                   <a href=\"file:///Users/mckayjohns/miniforge3/envs/complete-football-analytics/lib/python3.11/site-packages/soccerdata/fotmob.py\" target=\"_blank\"><span style=\"color: #7f7f7f; text-decoration-color: #7f7f7f\">fotmob.py</span></a><span style=\"color: #7f7f7f; text-decoration-color: #7f7f7f\">:</span><a href=\"file:///Users/mckayjohns/miniforge3/envs/complete-football-analytics/lib/python3.11/site-packages/soccerdata/fotmob.py#403\" target=\"_blank\"><span style=\"color: #7f7f7f; text-decoration-color: #7f7f7f\">403</span></a>\n",
       "</pre>\n"
      ]
     },
     "metadata": {},
     "output_type": "display_data"
    },
    {
     "data": {
      "text/plain": [
       "\u001B[2;36m[06/17/25 06:30:47]\u001B[0m\u001B[2;36m \u001B[0m\u001B[34mINFO    \u001B[0m \u001B[1m[\u001B[0m\u001B[1;36m4\u001B[0m/\u001B[1;36m38\u001B[0m\u001B[1m]\u001B[0m Retrieving game with \u001B[33mid\u001B[0m=\u001B[1;36m4506777\u001B[0m                                   \u001B]8;id=585479;file:///Users/mckayjohns/miniforge3/envs/complete-football-analytics/lib/python3.11/site-packages/soccerdata/fotmob.py\u001B\\\u001B[2mfotmob.py\u001B[0m\u001B]8;;\u001B\\\u001B[2m:\u001B[0m\u001B]8;id=187098;file:///Users/mckayjohns/miniforge3/envs/complete-football-analytics/lib/python3.11/site-packages/soccerdata/fotmob.py#403\u001B\\\u001B[2m403\u001B[0m\u001B]8;;\u001B\\\n"
      ],
      "text/html": [
       "<pre style=\"white-space:pre;overflow-x:auto;line-height:normal;font-family:Menlo,'DejaVu Sans Mono',consolas,'Courier New',monospace\"><span style=\"color: #7fbfbf; text-decoration-color: #7fbfbf\">[06/17/25 06:30:47] </span><span style=\"color: #000080; text-decoration-color: #000080\">INFO    </span> <span style=\"font-weight: bold\">[</span><span style=\"color: #008080; text-decoration-color: #008080; font-weight: bold\">4</span>/<span style=\"color: #008080; text-decoration-color: #008080; font-weight: bold\">38</span><span style=\"font-weight: bold\">]</span> Retrieving game with <span style=\"color: #808000; text-decoration-color: #808000\">id</span>=<span style=\"color: #008080; text-decoration-color: #008080; font-weight: bold\">4506777</span>                                   <a href=\"file:///Users/mckayjohns/miniforge3/envs/complete-football-analytics/lib/python3.11/site-packages/soccerdata/fotmob.py\" target=\"_blank\"><span style=\"color: #7f7f7f; text-decoration-color: #7f7f7f\">fotmob.py</span></a><span style=\"color: #7f7f7f; text-decoration-color: #7f7f7f\">:</span><a href=\"file:///Users/mckayjohns/miniforge3/envs/complete-football-analytics/lib/python3.11/site-packages/soccerdata/fotmob.py#403\" target=\"_blank\"><span style=\"color: #7f7f7f; text-decoration-color: #7f7f7f\">403</span></a>\n",
       "</pre>\n"
      ]
     },
     "metadata": {},
     "output_type": "display_data"
    },
    {
     "data": {
      "text/plain": [
       "\u001B[2;36m[06/17/25 06:30:48]\u001B[0m\u001B[2;36m \u001B[0m\u001B[34mINFO    \u001B[0m \u001B[1m[\u001B[0m\u001B[1;36m5\u001B[0m/\u001B[1;36m38\u001B[0m\u001B[1m]\u001B[0m Retrieving game with \u001B[33mid\u001B[0m=\u001B[1;36m4506791\u001B[0m                                   \u001B]8;id=903124;file:///Users/mckayjohns/miniforge3/envs/complete-football-analytics/lib/python3.11/site-packages/soccerdata/fotmob.py\u001B\\\u001B[2mfotmob.py\u001B[0m\u001B]8;;\u001B\\\u001B[2m:\u001B[0m\u001B]8;id=471607;file:///Users/mckayjohns/miniforge3/envs/complete-football-analytics/lib/python3.11/site-packages/soccerdata/fotmob.py#403\u001B\\\u001B[2m403\u001B[0m\u001B]8;;\u001B\\\n"
      ],
      "text/html": [
       "<pre style=\"white-space:pre;overflow-x:auto;line-height:normal;font-family:Menlo,'DejaVu Sans Mono',consolas,'Courier New',monospace\"><span style=\"color: #7fbfbf; text-decoration-color: #7fbfbf\">[06/17/25 06:30:48] </span><span style=\"color: #000080; text-decoration-color: #000080\">INFO    </span> <span style=\"font-weight: bold\">[</span><span style=\"color: #008080; text-decoration-color: #008080; font-weight: bold\">5</span>/<span style=\"color: #008080; text-decoration-color: #008080; font-weight: bold\">38</span><span style=\"font-weight: bold\">]</span> Retrieving game with <span style=\"color: #808000; text-decoration-color: #808000\">id</span>=<span style=\"color: #008080; text-decoration-color: #008080; font-weight: bold\">4506791</span>                                   <a href=\"file:///Users/mckayjohns/miniforge3/envs/complete-football-analytics/lib/python3.11/site-packages/soccerdata/fotmob.py\" target=\"_blank\"><span style=\"color: #7f7f7f; text-decoration-color: #7f7f7f\">fotmob.py</span></a><span style=\"color: #7f7f7f; text-decoration-color: #7f7f7f\">:</span><a href=\"file:///Users/mckayjohns/miniforge3/envs/complete-football-analytics/lib/python3.11/site-packages/soccerdata/fotmob.py#403\" target=\"_blank\"><span style=\"color: #7f7f7f; text-decoration-color: #7f7f7f\">403</span></a>\n",
       "</pre>\n"
      ]
     },
     "metadata": {},
     "output_type": "display_data"
    },
    {
     "data": {
      "text/plain": [
       "\u001B[2;36m                   \u001B[0m\u001B[2;36m \u001B[0m\u001B[34mINFO    \u001B[0m \u001B[1m[\u001B[0m\u001B[1;36m6\u001B[0m/\u001B[1;36m38\u001B[0m\u001B[1m]\u001B[0m Retrieving game with \u001B[33mid\u001B[0m=\u001B[1;36m4506802\u001B[0m                                   \u001B]8;id=860705;file:///Users/mckayjohns/miniforge3/envs/complete-football-analytics/lib/python3.11/site-packages/soccerdata/fotmob.py\u001B\\\u001B[2mfotmob.py\u001B[0m\u001B]8;;\u001B\\\u001B[2m:\u001B[0m\u001B]8;id=775492;file:///Users/mckayjohns/miniforge3/envs/complete-football-analytics/lib/python3.11/site-packages/soccerdata/fotmob.py#403\u001B\\\u001B[2m403\u001B[0m\u001B]8;;\u001B\\\n"
      ],
      "text/html": [
       "<pre style=\"white-space:pre;overflow-x:auto;line-height:normal;font-family:Menlo,'DejaVu Sans Mono',consolas,'Courier New',monospace\"><span style=\"color: #7fbfbf; text-decoration-color: #7fbfbf\">                    </span><span style=\"color: #000080; text-decoration-color: #000080\">INFO    </span> <span style=\"font-weight: bold\">[</span><span style=\"color: #008080; text-decoration-color: #008080; font-weight: bold\">6</span>/<span style=\"color: #008080; text-decoration-color: #008080; font-weight: bold\">38</span><span style=\"font-weight: bold\">]</span> Retrieving game with <span style=\"color: #808000; text-decoration-color: #808000\">id</span>=<span style=\"color: #008080; text-decoration-color: #008080; font-weight: bold\">4506802</span>                                   <a href=\"file:///Users/mckayjohns/miniforge3/envs/complete-football-analytics/lib/python3.11/site-packages/soccerdata/fotmob.py\" target=\"_blank\"><span style=\"color: #7f7f7f; text-decoration-color: #7f7f7f\">fotmob.py</span></a><span style=\"color: #7f7f7f; text-decoration-color: #7f7f7f\">:</span><a href=\"file:///Users/mckayjohns/miniforge3/envs/complete-football-analytics/lib/python3.11/site-packages/soccerdata/fotmob.py#403\" target=\"_blank\"><span style=\"color: #7f7f7f; text-decoration-color: #7f7f7f\">403</span></a>\n",
       "</pre>\n"
      ]
     },
     "metadata": {},
     "output_type": "display_data"
    },
    {
     "data": {
      "text/plain": [
       "\u001B[2;36m[06/17/25 06:30:49]\u001B[0m\u001B[2;36m \u001B[0m\u001B[34mINFO    \u001B[0m \u001B[1m[\u001B[0m\u001B[1;36m7\u001B[0m/\u001B[1;36m38\u001B[0m\u001B[1m]\u001B[0m Retrieving game with \u001B[33mid\u001B[0m=\u001B[1;36m4506807\u001B[0m                                   \u001B]8;id=891579;file:///Users/mckayjohns/miniforge3/envs/complete-football-analytics/lib/python3.11/site-packages/soccerdata/fotmob.py\u001B\\\u001B[2mfotmob.py\u001B[0m\u001B]8;;\u001B\\\u001B[2m:\u001B[0m\u001B]8;id=442911;file:///Users/mckayjohns/miniforge3/envs/complete-football-analytics/lib/python3.11/site-packages/soccerdata/fotmob.py#403\u001B\\\u001B[2m403\u001B[0m\u001B]8;;\u001B\\\n"
      ],
      "text/html": [
       "<pre style=\"white-space:pre;overflow-x:auto;line-height:normal;font-family:Menlo,'DejaVu Sans Mono',consolas,'Courier New',monospace\"><span style=\"color: #7fbfbf; text-decoration-color: #7fbfbf\">[06/17/25 06:30:49] </span><span style=\"color: #000080; text-decoration-color: #000080\">INFO    </span> <span style=\"font-weight: bold\">[</span><span style=\"color: #008080; text-decoration-color: #008080; font-weight: bold\">7</span>/<span style=\"color: #008080; text-decoration-color: #008080; font-weight: bold\">38</span><span style=\"font-weight: bold\">]</span> Retrieving game with <span style=\"color: #808000; text-decoration-color: #808000\">id</span>=<span style=\"color: #008080; text-decoration-color: #008080; font-weight: bold\">4506807</span>                                   <a href=\"file:///Users/mckayjohns/miniforge3/envs/complete-football-analytics/lib/python3.11/site-packages/soccerdata/fotmob.py\" target=\"_blank\"><span style=\"color: #7f7f7f; text-decoration-color: #7f7f7f\">fotmob.py</span></a><span style=\"color: #7f7f7f; text-decoration-color: #7f7f7f\">:</span><a href=\"file:///Users/mckayjohns/miniforge3/envs/complete-football-analytics/lib/python3.11/site-packages/soccerdata/fotmob.py#403\" target=\"_blank\"><span style=\"color: #7f7f7f; text-decoration-color: #7f7f7f\">403</span></a>\n",
       "</pre>\n"
      ]
     },
     "metadata": {},
     "output_type": "display_data"
    },
    {
     "data": {
      "text/plain": [
       "\u001B[2;36m[06/17/25 06:30:50]\u001B[0m\u001B[2;36m \u001B[0m\u001B[34mINFO    \u001B[0m \u001B[1m[\u001B[0m\u001B[1;36m8\u001B[0m/\u001B[1;36m38\u001B[0m\u001B[1m]\u001B[0m Retrieving game with \u001B[33mid\u001B[0m=\u001B[1;36m4506822\u001B[0m                                   \u001B]8;id=639713;file:///Users/mckayjohns/miniforge3/envs/complete-football-analytics/lib/python3.11/site-packages/soccerdata/fotmob.py\u001B\\\u001B[2mfotmob.py\u001B[0m\u001B]8;;\u001B\\\u001B[2m:\u001B[0m\u001B]8;id=93865;file:///Users/mckayjohns/miniforge3/envs/complete-football-analytics/lib/python3.11/site-packages/soccerdata/fotmob.py#403\u001B\\\u001B[2m403\u001B[0m\u001B]8;;\u001B\\\n"
      ],
      "text/html": [
       "<pre style=\"white-space:pre;overflow-x:auto;line-height:normal;font-family:Menlo,'DejaVu Sans Mono',consolas,'Courier New',monospace\"><span style=\"color: #7fbfbf; text-decoration-color: #7fbfbf\">[06/17/25 06:30:50] </span><span style=\"color: #000080; text-decoration-color: #000080\">INFO    </span> <span style=\"font-weight: bold\">[</span><span style=\"color: #008080; text-decoration-color: #008080; font-weight: bold\">8</span>/<span style=\"color: #008080; text-decoration-color: #008080; font-weight: bold\">38</span><span style=\"font-weight: bold\">]</span> Retrieving game with <span style=\"color: #808000; text-decoration-color: #808000\">id</span>=<span style=\"color: #008080; text-decoration-color: #008080; font-weight: bold\">4506822</span>                                   <a href=\"file:///Users/mckayjohns/miniforge3/envs/complete-football-analytics/lib/python3.11/site-packages/soccerdata/fotmob.py\" target=\"_blank\"><span style=\"color: #7f7f7f; text-decoration-color: #7f7f7f\">fotmob.py</span></a><span style=\"color: #7f7f7f; text-decoration-color: #7f7f7f\">:</span><a href=\"file:///Users/mckayjohns/miniforge3/envs/complete-football-analytics/lib/python3.11/site-packages/soccerdata/fotmob.py#403\" target=\"_blank\"><span style=\"color: #7f7f7f; text-decoration-color: #7f7f7f\">403</span></a>\n",
       "</pre>\n"
      ]
     },
     "metadata": {},
     "output_type": "display_data"
    },
    {
     "data": {
      "text/plain": [
       "\u001B[2;36m[06/17/25 06:30:51]\u001B[0m\u001B[2;36m \u001B[0m\u001B[34mINFO    \u001B[0m \u001B[1m[\u001B[0m\u001B[1;36m9\u001B[0m/\u001B[1;36m38\u001B[0m\u001B[1m]\u001B[0m Retrieving game with \u001B[33mid\u001B[0m=\u001B[1;36m4506837\u001B[0m                                   \u001B]8;id=296053;file:///Users/mckayjohns/miniforge3/envs/complete-football-analytics/lib/python3.11/site-packages/soccerdata/fotmob.py\u001B\\\u001B[2mfotmob.py\u001B[0m\u001B]8;;\u001B\\\u001B[2m:\u001B[0m\u001B]8;id=727693;file:///Users/mckayjohns/miniforge3/envs/complete-football-analytics/lib/python3.11/site-packages/soccerdata/fotmob.py#403\u001B\\\u001B[2m403\u001B[0m\u001B]8;;\u001B\\\n"
      ],
      "text/html": [
       "<pre style=\"white-space:pre;overflow-x:auto;line-height:normal;font-family:Menlo,'DejaVu Sans Mono',consolas,'Courier New',monospace\"><span style=\"color: #7fbfbf; text-decoration-color: #7fbfbf\">[06/17/25 06:30:51] </span><span style=\"color: #000080; text-decoration-color: #000080\">INFO    </span> <span style=\"font-weight: bold\">[</span><span style=\"color: #008080; text-decoration-color: #008080; font-weight: bold\">9</span>/<span style=\"color: #008080; text-decoration-color: #008080; font-weight: bold\">38</span><span style=\"font-weight: bold\">]</span> Retrieving game with <span style=\"color: #808000; text-decoration-color: #808000\">id</span>=<span style=\"color: #008080; text-decoration-color: #008080; font-weight: bold\">4506837</span>                                   <a href=\"file:///Users/mckayjohns/miniforge3/envs/complete-football-analytics/lib/python3.11/site-packages/soccerdata/fotmob.py\" target=\"_blank\"><span style=\"color: #7f7f7f; text-decoration-color: #7f7f7f\">fotmob.py</span></a><span style=\"color: #7f7f7f; text-decoration-color: #7f7f7f\">:</span><a href=\"file:///Users/mckayjohns/miniforge3/envs/complete-football-analytics/lib/python3.11/site-packages/soccerdata/fotmob.py#403\" target=\"_blank\"><span style=\"color: #7f7f7f; text-decoration-color: #7f7f7f\">403</span></a>\n",
       "</pre>\n"
      ]
     },
     "metadata": {},
     "output_type": "display_data"
    },
    {
     "data": {
      "text/plain": [
       "\u001B[2;36m[06/17/25 06:30:52]\u001B[0m\u001B[2;36m \u001B[0m\u001B[34mINFO    \u001B[0m \u001B[1m[\u001B[0m\u001B[1;36m10\u001B[0m/\u001B[1;36m38\u001B[0m\u001B[1m]\u001B[0m Retrieving game with \u001B[33mid\u001B[0m=\u001B[1;36m4506846\u001B[0m                                  \u001B]8;id=742291;file:///Users/mckayjohns/miniforge3/envs/complete-football-analytics/lib/python3.11/site-packages/soccerdata/fotmob.py\u001B\\\u001B[2mfotmob.py\u001B[0m\u001B]8;;\u001B\\\u001B[2m:\u001B[0m\u001B]8;id=333651;file:///Users/mckayjohns/miniforge3/envs/complete-football-analytics/lib/python3.11/site-packages/soccerdata/fotmob.py#403\u001B\\\u001B[2m403\u001B[0m\u001B]8;;\u001B\\\n"
      ],
      "text/html": [
       "<pre style=\"white-space:pre;overflow-x:auto;line-height:normal;font-family:Menlo,'DejaVu Sans Mono',consolas,'Courier New',monospace\"><span style=\"color: #7fbfbf; text-decoration-color: #7fbfbf\">[06/17/25 06:30:52] </span><span style=\"color: #000080; text-decoration-color: #000080\">INFO    </span> <span style=\"font-weight: bold\">[</span><span style=\"color: #008080; text-decoration-color: #008080; font-weight: bold\">10</span>/<span style=\"color: #008080; text-decoration-color: #008080; font-weight: bold\">38</span><span style=\"font-weight: bold\">]</span> Retrieving game with <span style=\"color: #808000; text-decoration-color: #808000\">id</span>=<span style=\"color: #008080; text-decoration-color: #008080; font-weight: bold\">4506846</span>                                  <a href=\"file:///Users/mckayjohns/miniforge3/envs/complete-football-analytics/lib/python3.11/site-packages/soccerdata/fotmob.py\" target=\"_blank\"><span style=\"color: #7f7f7f; text-decoration-color: #7f7f7f\">fotmob.py</span></a><span style=\"color: #7f7f7f; text-decoration-color: #7f7f7f\">:</span><a href=\"file:///Users/mckayjohns/miniforge3/envs/complete-football-analytics/lib/python3.11/site-packages/soccerdata/fotmob.py#403\" target=\"_blank\"><span style=\"color: #7f7f7f; text-decoration-color: #7f7f7f\">403</span></a>\n",
       "</pre>\n"
      ]
     },
     "metadata": {},
     "output_type": "display_data"
    },
    {
     "data": {
      "text/plain": [
       "\u001B[2;36m[06/17/25 06:30:53]\u001B[0m\u001B[2;36m \u001B[0m\u001B[34mINFO    \u001B[0m \u001B[1m[\u001B[0m\u001B[1;36m11\u001B[0m/\u001B[1;36m38\u001B[0m\u001B[1m]\u001B[0m Retrieving game with \u001B[33mid\u001B[0m=\u001B[1;36m4506859\u001B[0m                                  \u001B]8;id=967307;file:///Users/mckayjohns/miniforge3/envs/complete-football-analytics/lib/python3.11/site-packages/soccerdata/fotmob.py\u001B\\\u001B[2mfotmob.py\u001B[0m\u001B]8;;\u001B\\\u001B[2m:\u001B[0m\u001B]8;id=739419;file:///Users/mckayjohns/miniforge3/envs/complete-football-analytics/lib/python3.11/site-packages/soccerdata/fotmob.py#403\u001B\\\u001B[2m403\u001B[0m\u001B]8;;\u001B\\\n"
      ],
      "text/html": [
       "<pre style=\"white-space:pre;overflow-x:auto;line-height:normal;font-family:Menlo,'DejaVu Sans Mono',consolas,'Courier New',monospace\"><span style=\"color: #7fbfbf; text-decoration-color: #7fbfbf\">[06/17/25 06:30:53] </span><span style=\"color: #000080; text-decoration-color: #000080\">INFO    </span> <span style=\"font-weight: bold\">[</span><span style=\"color: #008080; text-decoration-color: #008080; font-weight: bold\">11</span>/<span style=\"color: #008080; text-decoration-color: #008080; font-weight: bold\">38</span><span style=\"font-weight: bold\">]</span> Retrieving game with <span style=\"color: #808000; text-decoration-color: #808000\">id</span>=<span style=\"color: #008080; text-decoration-color: #008080; font-weight: bold\">4506859</span>                                  <a href=\"file:///Users/mckayjohns/miniforge3/envs/complete-football-analytics/lib/python3.11/site-packages/soccerdata/fotmob.py\" target=\"_blank\"><span style=\"color: #7f7f7f; text-decoration-color: #7f7f7f\">fotmob.py</span></a><span style=\"color: #7f7f7f; text-decoration-color: #7f7f7f\">:</span><a href=\"file:///Users/mckayjohns/miniforge3/envs/complete-football-analytics/lib/python3.11/site-packages/soccerdata/fotmob.py#403\" target=\"_blank\"><span style=\"color: #7f7f7f; text-decoration-color: #7f7f7f\">403</span></a>\n",
       "</pre>\n"
      ]
     },
     "metadata": {},
     "output_type": "display_data"
    },
    {
     "data": {
      "text/plain": [
       "\u001B[2;36m[06/17/25 06:30:54]\u001B[0m\u001B[2;36m \u001B[0m\u001B[34mINFO    \u001B[0m \u001B[1m[\u001B[0m\u001B[1;36m12\u001B[0m/\u001B[1;36m38\u001B[0m\u001B[1m]\u001B[0m Retrieving game with \u001B[33mid\u001B[0m=\u001B[1;36m4506874\u001B[0m                                  \u001B]8;id=112849;file:///Users/mckayjohns/miniforge3/envs/complete-football-analytics/lib/python3.11/site-packages/soccerdata/fotmob.py\u001B\\\u001B[2mfotmob.py\u001B[0m\u001B]8;;\u001B\\\u001B[2m:\u001B[0m\u001B]8;id=971028;file:///Users/mckayjohns/miniforge3/envs/complete-football-analytics/lib/python3.11/site-packages/soccerdata/fotmob.py#403\u001B\\\u001B[2m403\u001B[0m\u001B]8;;\u001B\\\n"
      ],
      "text/html": [
       "<pre style=\"white-space:pre;overflow-x:auto;line-height:normal;font-family:Menlo,'DejaVu Sans Mono',consolas,'Courier New',monospace\"><span style=\"color: #7fbfbf; text-decoration-color: #7fbfbf\">[06/17/25 06:30:54] </span><span style=\"color: #000080; text-decoration-color: #000080\">INFO    </span> <span style=\"font-weight: bold\">[</span><span style=\"color: #008080; text-decoration-color: #008080; font-weight: bold\">12</span>/<span style=\"color: #008080; text-decoration-color: #008080; font-weight: bold\">38</span><span style=\"font-weight: bold\">]</span> Retrieving game with <span style=\"color: #808000; text-decoration-color: #808000\">id</span>=<span style=\"color: #008080; text-decoration-color: #008080; font-weight: bold\">4506874</span>                                  <a href=\"file:///Users/mckayjohns/miniforge3/envs/complete-football-analytics/lib/python3.11/site-packages/soccerdata/fotmob.py\" target=\"_blank\"><span style=\"color: #7f7f7f; text-decoration-color: #7f7f7f\">fotmob.py</span></a><span style=\"color: #7f7f7f; text-decoration-color: #7f7f7f\">:</span><a href=\"file:///Users/mckayjohns/miniforge3/envs/complete-football-analytics/lib/python3.11/site-packages/soccerdata/fotmob.py#403\" target=\"_blank\"><span style=\"color: #7f7f7f; text-decoration-color: #7f7f7f\">403</span></a>\n",
       "</pre>\n"
      ]
     },
     "metadata": {},
     "output_type": "display_data"
    },
    {
     "data": {
      "text/plain": [
       "\u001B[2;36m                   \u001B[0m\u001B[2;36m \u001B[0m\u001B[34mINFO    \u001B[0m \u001B[1m[\u001B[0m\u001B[1;36m13\u001B[0m/\u001B[1;36m38\u001B[0m\u001B[1m]\u001B[0m Retrieving game with \u001B[33mid\u001B[0m=\u001B[1;36m4506881\u001B[0m                                  \u001B]8;id=891896;file:///Users/mckayjohns/miniforge3/envs/complete-football-analytics/lib/python3.11/site-packages/soccerdata/fotmob.py\u001B\\\u001B[2mfotmob.py\u001B[0m\u001B]8;;\u001B\\\u001B[2m:\u001B[0m\u001B]8;id=895071;file:///Users/mckayjohns/miniforge3/envs/complete-football-analytics/lib/python3.11/site-packages/soccerdata/fotmob.py#403\u001B\\\u001B[2m403\u001B[0m\u001B]8;;\u001B\\\n"
      ],
      "text/html": [
       "<pre style=\"white-space:pre;overflow-x:auto;line-height:normal;font-family:Menlo,'DejaVu Sans Mono',consolas,'Courier New',monospace\"><span style=\"color: #7fbfbf; text-decoration-color: #7fbfbf\">                    </span><span style=\"color: #000080; text-decoration-color: #000080\">INFO    </span> <span style=\"font-weight: bold\">[</span><span style=\"color: #008080; text-decoration-color: #008080; font-weight: bold\">13</span>/<span style=\"color: #008080; text-decoration-color: #008080; font-weight: bold\">38</span><span style=\"font-weight: bold\">]</span> Retrieving game with <span style=\"color: #808000; text-decoration-color: #808000\">id</span>=<span style=\"color: #008080; text-decoration-color: #008080; font-weight: bold\">4506881</span>                                  <a href=\"file:///Users/mckayjohns/miniforge3/envs/complete-football-analytics/lib/python3.11/site-packages/soccerdata/fotmob.py\" target=\"_blank\"><span style=\"color: #7f7f7f; text-decoration-color: #7f7f7f\">fotmob.py</span></a><span style=\"color: #7f7f7f; text-decoration-color: #7f7f7f\">:</span><a href=\"file:///Users/mckayjohns/miniforge3/envs/complete-football-analytics/lib/python3.11/site-packages/soccerdata/fotmob.py#403\" target=\"_blank\"><span style=\"color: #7f7f7f; text-decoration-color: #7f7f7f\">403</span></a>\n",
       "</pre>\n"
      ]
     },
     "metadata": {},
     "output_type": "display_data"
    },
    {
     "data": {
      "text/plain": [
       "\u001B[2;36m[06/17/25 06:30:55]\u001B[0m\u001B[2;36m \u001B[0m\u001B[34mINFO    \u001B[0m \u001B[1m[\u001B[0m\u001B[1;36m14\u001B[0m/\u001B[1;36m38\u001B[0m\u001B[1m]\u001B[0m Retrieving game with \u001B[33mid\u001B[0m=\u001B[1;36m4506890\u001B[0m                                  \u001B]8;id=562484;file:///Users/mckayjohns/miniforge3/envs/complete-football-analytics/lib/python3.11/site-packages/soccerdata/fotmob.py\u001B\\\u001B[2mfotmob.py\u001B[0m\u001B]8;;\u001B\\\u001B[2m:\u001B[0m\u001B]8;id=563498;file:///Users/mckayjohns/miniforge3/envs/complete-football-analytics/lib/python3.11/site-packages/soccerdata/fotmob.py#403\u001B\\\u001B[2m403\u001B[0m\u001B]8;;\u001B\\\n"
      ],
      "text/html": [
       "<pre style=\"white-space:pre;overflow-x:auto;line-height:normal;font-family:Menlo,'DejaVu Sans Mono',consolas,'Courier New',monospace\"><span style=\"color: #7fbfbf; text-decoration-color: #7fbfbf\">[06/17/25 06:30:55] </span><span style=\"color: #000080; text-decoration-color: #000080\">INFO    </span> <span style=\"font-weight: bold\">[</span><span style=\"color: #008080; text-decoration-color: #008080; font-weight: bold\">14</span>/<span style=\"color: #008080; text-decoration-color: #008080; font-weight: bold\">38</span><span style=\"font-weight: bold\">]</span> Retrieving game with <span style=\"color: #808000; text-decoration-color: #808000\">id</span>=<span style=\"color: #008080; text-decoration-color: #008080; font-weight: bold\">4506890</span>                                  <a href=\"file:///Users/mckayjohns/miniforge3/envs/complete-football-analytics/lib/python3.11/site-packages/soccerdata/fotmob.py\" target=\"_blank\"><span style=\"color: #7f7f7f; text-decoration-color: #7f7f7f\">fotmob.py</span></a><span style=\"color: #7f7f7f; text-decoration-color: #7f7f7f\">:</span><a href=\"file:///Users/mckayjohns/miniforge3/envs/complete-football-analytics/lib/python3.11/site-packages/soccerdata/fotmob.py#403\" target=\"_blank\"><span style=\"color: #7f7f7f; text-decoration-color: #7f7f7f\">403</span></a>\n",
       "</pre>\n"
      ]
     },
     "metadata": {},
     "output_type": "display_data"
    },
    {
     "data": {
      "text/plain": [
       "\u001B[2;36m[06/17/25 06:30:56]\u001B[0m\u001B[2;36m \u001B[0m\u001B[34mINFO    \u001B[0m \u001B[1m[\u001B[0m\u001B[1;36m15\u001B[0m/\u001B[1;36m38\u001B[0m\u001B[1m]\u001B[0m Retrieving game with \u001B[33mid\u001B[0m=\u001B[1;36m4506895\u001B[0m                                  \u001B]8;id=36623;file:///Users/mckayjohns/miniforge3/envs/complete-football-analytics/lib/python3.11/site-packages/soccerdata/fotmob.py\u001B\\\u001B[2mfotmob.py\u001B[0m\u001B]8;;\u001B\\\u001B[2m:\u001B[0m\u001B]8;id=176970;file:///Users/mckayjohns/miniforge3/envs/complete-football-analytics/lib/python3.11/site-packages/soccerdata/fotmob.py#403\u001B\\\u001B[2m403\u001B[0m\u001B]8;;\u001B\\\n"
      ],
      "text/html": [
       "<pre style=\"white-space:pre;overflow-x:auto;line-height:normal;font-family:Menlo,'DejaVu Sans Mono',consolas,'Courier New',monospace\"><span style=\"color: #7fbfbf; text-decoration-color: #7fbfbf\">[06/17/25 06:30:56] </span><span style=\"color: #000080; text-decoration-color: #000080\">INFO    </span> <span style=\"font-weight: bold\">[</span><span style=\"color: #008080; text-decoration-color: #008080; font-weight: bold\">15</span>/<span style=\"color: #008080; text-decoration-color: #008080; font-weight: bold\">38</span><span style=\"font-weight: bold\">]</span> Retrieving game with <span style=\"color: #808000; text-decoration-color: #808000\">id</span>=<span style=\"color: #008080; text-decoration-color: #008080; font-weight: bold\">4506895</span>                                  <a href=\"file:///Users/mckayjohns/miniforge3/envs/complete-football-analytics/lib/python3.11/site-packages/soccerdata/fotmob.py\" target=\"_blank\"><span style=\"color: #7f7f7f; text-decoration-color: #7f7f7f\">fotmob.py</span></a><span style=\"color: #7f7f7f; text-decoration-color: #7f7f7f\">:</span><a href=\"file:///Users/mckayjohns/miniforge3/envs/complete-football-analytics/lib/python3.11/site-packages/soccerdata/fotmob.py#403\" target=\"_blank\"><span style=\"color: #7f7f7f; text-decoration-color: #7f7f7f\">403</span></a>\n",
       "</pre>\n"
      ]
     },
     "metadata": {},
     "output_type": "display_data"
    },
    {
     "data": {
      "text/plain": [
       "\u001B[2;36m[06/17/25 06:30:57]\u001B[0m\u001B[2;36m \u001B[0m\u001B[34mINFO    \u001B[0m \u001B[1m[\u001B[0m\u001B[1;36m16\u001B[0m/\u001B[1;36m38\u001B[0m\u001B[1m]\u001B[0m Retrieving game with \u001B[33mid\u001B[0m=\u001B[1;36m4506941\u001B[0m                                  \u001B]8;id=184427;file:///Users/mckayjohns/miniforge3/envs/complete-football-analytics/lib/python3.11/site-packages/soccerdata/fotmob.py\u001B\\\u001B[2mfotmob.py\u001B[0m\u001B]8;;\u001B\\\u001B[2m:\u001B[0m\u001B]8;id=732597;file:///Users/mckayjohns/miniforge3/envs/complete-football-analytics/lib/python3.11/site-packages/soccerdata/fotmob.py#403\u001B\\\u001B[2m403\u001B[0m\u001B]8;;\u001B\\\n"
      ],
      "text/html": [
       "<pre style=\"white-space:pre;overflow-x:auto;line-height:normal;font-family:Menlo,'DejaVu Sans Mono',consolas,'Courier New',monospace\"><span style=\"color: #7fbfbf; text-decoration-color: #7fbfbf\">[06/17/25 06:30:57] </span><span style=\"color: #000080; text-decoration-color: #000080\">INFO    </span> <span style=\"font-weight: bold\">[</span><span style=\"color: #008080; text-decoration-color: #008080; font-weight: bold\">16</span>/<span style=\"color: #008080; text-decoration-color: #008080; font-weight: bold\">38</span><span style=\"font-weight: bold\">]</span> Retrieving game with <span style=\"color: #808000; text-decoration-color: #808000\">id</span>=<span style=\"color: #008080; text-decoration-color: #008080; font-weight: bold\">4506941</span>                                  <a href=\"file:///Users/mckayjohns/miniforge3/envs/complete-football-analytics/lib/python3.11/site-packages/soccerdata/fotmob.py\" target=\"_blank\"><span style=\"color: #7f7f7f; text-decoration-color: #7f7f7f\">fotmob.py</span></a><span style=\"color: #7f7f7f; text-decoration-color: #7f7f7f\">:</span><a href=\"file:///Users/mckayjohns/miniforge3/envs/complete-football-analytics/lib/python3.11/site-packages/soccerdata/fotmob.py#403\" target=\"_blank\"><span style=\"color: #7f7f7f; text-decoration-color: #7f7f7f\">403</span></a>\n",
       "</pre>\n"
      ]
     },
     "metadata": {},
     "output_type": "display_data"
    },
    {
     "data": {
      "text/plain": [
       "\u001B[2;36m[06/17/25 06:30:58]\u001B[0m\u001B[2;36m \u001B[0m\u001B[34mINFO    \u001B[0m \u001B[1m[\u001B[0m\u001B[1;36m17\u001B[0m/\u001B[1;36m38\u001B[0m\u001B[1m]\u001B[0m Retrieving game with \u001B[33mid\u001B[0m=\u001B[1;36m4506911\u001B[0m                                  \u001B]8;id=406768;file:///Users/mckayjohns/miniforge3/envs/complete-football-analytics/lib/python3.11/site-packages/soccerdata/fotmob.py\u001B\\\u001B[2mfotmob.py\u001B[0m\u001B]8;;\u001B\\\u001B[2m:\u001B[0m\u001B]8;id=338540;file:///Users/mckayjohns/miniforge3/envs/complete-football-analytics/lib/python3.11/site-packages/soccerdata/fotmob.py#403\u001B\\\u001B[2m403\u001B[0m\u001B]8;;\u001B\\\n"
      ],
      "text/html": [
       "<pre style=\"white-space:pre;overflow-x:auto;line-height:normal;font-family:Menlo,'DejaVu Sans Mono',consolas,'Courier New',monospace\"><span style=\"color: #7fbfbf; text-decoration-color: #7fbfbf\">[06/17/25 06:30:58] </span><span style=\"color: #000080; text-decoration-color: #000080\">INFO    </span> <span style=\"font-weight: bold\">[</span><span style=\"color: #008080; text-decoration-color: #008080; font-weight: bold\">17</span>/<span style=\"color: #008080; text-decoration-color: #008080; font-weight: bold\">38</span><span style=\"font-weight: bold\">]</span> Retrieving game with <span style=\"color: #808000; text-decoration-color: #808000\">id</span>=<span style=\"color: #008080; text-decoration-color: #008080; font-weight: bold\">4506911</span>                                  <a href=\"file:///Users/mckayjohns/miniforge3/envs/complete-football-analytics/lib/python3.11/site-packages/soccerdata/fotmob.py\" target=\"_blank\"><span style=\"color: #7f7f7f; text-decoration-color: #7f7f7f\">fotmob.py</span></a><span style=\"color: #7f7f7f; text-decoration-color: #7f7f7f\">:</span><a href=\"file:///Users/mckayjohns/miniforge3/envs/complete-football-analytics/lib/python3.11/site-packages/soccerdata/fotmob.py#403\" target=\"_blank\"><span style=\"color: #7f7f7f; text-decoration-color: #7f7f7f\">403</span></a>\n",
       "</pre>\n"
      ]
     },
     "metadata": {},
     "output_type": "display_data"
    },
    {
     "data": {
      "text/plain": [
       "\u001B[2;36m[06/17/25 06:30:59]\u001B[0m\u001B[2;36m \u001B[0m\u001B[34mINFO    \u001B[0m \u001B[1m[\u001B[0m\u001B[1;36m18\u001B[0m/\u001B[1;36m38\u001B[0m\u001B[1m]\u001B[0m Retrieving game with \u001B[33mid\u001B[0m=\u001B[1;36m4506916\u001B[0m                                  \u001B]8;id=425387;file:///Users/mckayjohns/miniforge3/envs/complete-football-analytics/lib/python3.11/site-packages/soccerdata/fotmob.py\u001B\\\u001B[2mfotmob.py\u001B[0m\u001B]8;;\u001B\\\u001B[2m:\u001B[0m\u001B]8;id=403892;file:///Users/mckayjohns/miniforge3/envs/complete-football-analytics/lib/python3.11/site-packages/soccerdata/fotmob.py#403\u001B\\\u001B[2m403\u001B[0m\u001B]8;;\u001B\\\n"
      ],
      "text/html": [
       "<pre style=\"white-space:pre;overflow-x:auto;line-height:normal;font-family:Menlo,'DejaVu Sans Mono',consolas,'Courier New',monospace\"><span style=\"color: #7fbfbf; text-decoration-color: #7fbfbf\">[06/17/25 06:30:59] </span><span style=\"color: #000080; text-decoration-color: #000080\">INFO    </span> <span style=\"font-weight: bold\">[</span><span style=\"color: #008080; text-decoration-color: #008080; font-weight: bold\">18</span>/<span style=\"color: #008080; text-decoration-color: #008080; font-weight: bold\">38</span><span style=\"font-weight: bold\">]</span> Retrieving game with <span style=\"color: #808000; text-decoration-color: #808000\">id</span>=<span style=\"color: #008080; text-decoration-color: #008080; font-weight: bold\">4506916</span>                                  <a href=\"file:///Users/mckayjohns/miniforge3/envs/complete-football-analytics/lib/python3.11/site-packages/soccerdata/fotmob.py\" target=\"_blank\"><span style=\"color: #7f7f7f; text-decoration-color: #7f7f7f\">fotmob.py</span></a><span style=\"color: #7f7f7f; text-decoration-color: #7f7f7f\">:</span><a href=\"file:///Users/mckayjohns/miniforge3/envs/complete-football-analytics/lib/python3.11/site-packages/soccerdata/fotmob.py#403\" target=\"_blank\"><span style=\"color: #7f7f7f; text-decoration-color: #7f7f7f\">403</span></a>\n",
       "</pre>\n"
      ]
     },
     "metadata": {},
     "output_type": "display_data"
    },
    {
     "data": {
      "text/plain": [
       "\u001B[2;36m[06/17/25 06:31:00]\u001B[0m\u001B[2;36m \u001B[0m\u001B[34mINFO    \u001B[0m \u001B[1m[\u001B[0m\u001B[1;36m19\u001B[0m/\u001B[1;36m38\u001B[0m\u001B[1m]\u001B[0m Retrieving game with \u001B[33mid\u001B[0m=\u001B[1;36m4506932\u001B[0m                                  \u001B]8;id=947781;file:///Users/mckayjohns/miniforge3/envs/complete-football-analytics/lib/python3.11/site-packages/soccerdata/fotmob.py\u001B\\\u001B[2mfotmob.py\u001B[0m\u001B]8;;\u001B\\\u001B[2m:\u001B[0m\u001B]8;id=396916;file:///Users/mckayjohns/miniforge3/envs/complete-football-analytics/lib/python3.11/site-packages/soccerdata/fotmob.py#403\u001B\\\u001B[2m403\u001B[0m\u001B]8;;\u001B\\\n"
      ],
      "text/html": [
       "<pre style=\"white-space:pre;overflow-x:auto;line-height:normal;font-family:Menlo,'DejaVu Sans Mono',consolas,'Courier New',monospace\"><span style=\"color: #7fbfbf; text-decoration-color: #7fbfbf\">[06/17/25 06:31:00] </span><span style=\"color: #000080; text-decoration-color: #000080\">INFO    </span> <span style=\"font-weight: bold\">[</span><span style=\"color: #008080; text-decoration-color: #008080; font-weight: bold\">19</span>/<span style=\"color: #008080; text-decoration-color: #008080; font-weight: bold\">38</span><span style=\"font-weight: bold\">]</span> Retrieving game with <span style=\"color: #808000; text-decoration-color: #808000\">id</span>=<span style=\"color: #008080; text-decoration-color: #008080; font-weight: bold\">4506932</span>                                  <a href=\"file:///Users/mckayjohns/miniforge3/envs/complete-football-analytics/lib/python3.11/site-packages/soccerdata/fotmob.py\" target=\"_blank\"><span style=\"color: #7f7f7f; text-decoration-color: #7f7f7f\">fotmob.py</span></a><span style=\"color: #7f7f7f; text-decoration-color: #7f7f7f\">:</span><a href=\"file:///Users/mckayjohns/miniforge3/envs/complete-football-analytics/lib/python3.11/site-packages/soccerdata/fotmob.py#403\" target=\"_blank\"><span style=\"color: #7f7f7f; text-decoration-color: #7f7f7f\">403</span></a>\n",
       "</pre>\n"
      ]
     },
     "metadata": {},
     "output_type": "display_data"
    },
    {
     "data": {
      "text/plain": [
       "\u001B[2;36m                   \u001B[0m\u001B[2;36m \u001B[0m\u001B[34mINFO    \u001B[0m \u001B[1m[\u001B[0m\u001B[1;36m20\u001B[0m/\u001B[1;36m38\u001B[0m\u001B[1m]\u001B[0m Retrieving game with \u001B[33mid\u001B[0m=\u001B[1;36m4506950\u001B[0m                                  \u001B]8;id=709385;file:///Users/mckayjohns/miniforge3/envs/complete-football-analytics/lib/python3.11/site-packages/soccerdata/fotmob.py\u001B\\\u001B[2mfotmob.py\u001B[0m\u001B]8;;\u001B\\\u001B[2m:\u001B[0m\u001B]8;id=518350;file:///Users/mckayjohns/miniforge3/envs/complete-football-analytics/lib/python3.11/site-packages/soccerdata/fotmob.py#403\u001B\\\u001B[2m403\u001B[0m\u001B]8;;\u001B\\\n"
      ],
      "text/html": [
       "<pre style=\"white-space:pre;overflow-x:auto;line-height:normal;font-family:Menlo,'DejaVu Sans Mono',consolas,'Courier New',monospace\"><span style=\"color: #7fbfbf; text-decoration-color: #7fbfbf\">                    </span><span style=\"color: #000080; text-decoration-color: #000080\">INFO    </span> <span style=\"font-weight: bold\">[</span><span style=\"color: #008080; text-decoration-color: #008080; font-weight: bold\">20</span>/<span style=\"color: #008080; text-decoration-color: #008080; font-weight: bold\">38</span><span style=\"font-weight: bold\">]</span> Retrieving game with <span style=\"color: #808000; text-decoration-color: #808000\">id</span>=<span style=\"color: #008080; text-decoration-color: #008080; font-weight: bold\">4506950</span>                                  <a href=\"file:///Users/mckayjohns/miniforge3/envs/complete-football-analytics/lib/python3.11/site-packages/soccerdata/fotmob.py\" target=\"_blank\"><span style=\"color: #7f7f7f; text-decoration-color: #7f7f7f\">fotmob.py</span></a><span style=\"color: #7f7f7f; text-decoration-color: #7f7f7f\">:</span><a href=\"file:///Users/mckayjohns/miniforge3/envs/complete-football-analytics/lib/python3.11/site-packages/soccerdata/fotmob.py#403\" target=\"_blank\"><span style=\"color: #7f7f7f; text-decoration-color: #7f7f7f\">403</span></a>\n",
       "</pre>\n"
      ]
     },
     "metadata": {},
     "output_type": "display_data"
    },
    {
     "data": {
      "text/plain": [
       "\u001B[2;36m[06/17/25 06:31:01]\u001B[0m\u001B[2;36m \u001B[0m\u001B[34mINFO    \u001B[0m \u001B[1m[\u001B[0m\u001B[1;36m21\u001B[0m/\u001B[1;36m38\u001B[0m\u001B[1m]\u001B[0m Retrieving game with \u001B[33mid\u001B[0m=\u001B[1;36m4506957\u001B[0m                                  \u001B]8;id=8274;file:///Users/mckayjohns/miniforge3/envs/complete-football-analytics/lib/python3.11/site-packages/soccerdata/fotmob.py\u001B\\\u001B[2mfotmob.py\u001B[0m\u001B]8;;\u001B\\\u001B[2m:\u001B[0m\u001B]8;id=866355;file:///Users/mckayjohns/miniforge3/envs/complete-football-analytics/lib/python3.11/site-packages/soccerdata/fotmob.py#403\u001B\\\u001B[2m403\u001B[0m\u001B]8;;\u001B\\\n"
      ],
      "text/html": [
       "<pre style=\"white-space:pre;overflow-x:auto;line-height:normal;font-family:Menlo,'DejaVu Sans Mono',consolas,'Courier New',monospace\"><span style=\"color: #7fbfbf; text-decoration-color: #7fbfbf\">[06/17/25 06:31:01] </span><span style=\"color: #000080; text-decoration-color: #000080\">INFO    </span> <span style=\"font-weight: bold\">[</span><span style=\"color: #008080; text-decoration-color: #008080; font-weight: bold\">21</span>/<span style=\"color: #008080; text-decoration-color: #008080; font-weight: bold\">38</span><span style=\"font-weight: bold\">]</span> Retrieving game with <span style=\"color: #808000; text-decoration-color: #808000\">id</span>=<span style=\"color: #008080; text-decoration-color: #008080; font-weight: bold\">4506957</span>                                  <a href=\"file:///Users/mckayjohns/miniforge3/envs/complete-football-analytics/lib/python3.11/site-packages/soccerdata/fotmob.py\" target=\"_blank\"><span style=\"color: #7f7f7f; text-decoration-color: #7f7f7f\">fotmob.py</span></a><span style=\"color: #7f7f7f; text-decoration-color: #7f7f7f\">:</span><a href=\"file:///Users/mckayjohns/miniforge3/envs/complete-football-analytics/lib/python3.11/site-packages/soccerdata/fotmob.py#403\" target=\"_blank\"><span style=\"color: #7f7f7f; text-decoration-color: #7f7f7f\">403</span></a>\n",
       "</pre>\n"
      ]
     },
     "metadata": {},
     "output_type": "display_data"
    },
    {
     "data": {
      "text/plain": [
       "\u001B[2;36m[06/17/25 06:31:02]\u001B[0m\u001B[2;36m \u001B[0m\u001B[34mINFO    \u001B[0m \u001B[1m[\u001B[0m\u001B[1;36m22\u001B[0m/\u001B[1;36m38\u001B[0m\u001B[1m]\u001B[0m Retrieving game with \u001B[33mid\u001B[0m=\u001B[1;36m4506974\u001B[0m                                  \u001B]8;id=37655;file:///Users/mckayjohns/miniforge3/envs/complete-football-analytics/lib/python3.11/site-packages/soccerdata/fotmob.py\u001B\\\u001B[2mfotmob.py\u001B[0m\u001B]8;;\u001B\\\u001B[2m:\u001B[0m\u001B]8;id=289374;file:///Users/mckayjohns/miniforge3/envs/complete-football-analytics/lib/python3.11/site-packages/soccerdata/fotmob.py#403\u001B\\\u001B[2m403\u001B[0m\u001B]8;;\u001B\\\n"
      ],
      "text/html": [
       "<pre style=\"white-space:pre;overflow-x:auto;line-height:normal;font-family:Menlo,'DejaVu Sans Mono',consolas,'Courier New',monospace\"><span style=\"color: #7fbfbf; text-decoration-color: #7fbfbf\">[06/17/25 06:31:02] </span><span style=\"color: #000080; text-decoration-color: #000080\">INFO    </span> <span style=\"font-weight: bold\">[</span><span style=\"color: #008080; text-decoration-color: #008080; font-weight: bold\">22</span>/<span style=\"color: #008080; text-decoration-color: #008080; font-weight: bold\">38</span><span style=\"font-weight: bold\">]</span> Retrieving game with <span style=\"color: #808000; text-decoration-color: #808000\">id</span>=<span style=\"color: #008080; text-decoration-color: #008080; font-weight: bold\">4506974</span>                                  <a href=\"file:///Users/mckayjohns/miniforge3/envs/complete-football-analytics/lib/python3.11/site-packages/soccerdata/fotmob.py\" target=\"_blank\"><span style=\"color: #7f7f7f; text-decoration-color: #7f7f7f\">fotmob.py</span></a><span style=\"color: #7f7f7f; text-decoration-color: #7f7f7f\">:</span><a href=\"file:///Users/mckayjohns/miniforge3/envs/complete-football-analytics/lib/python3.11/site-packages/soccerdata/fotmob.py#403\" target=\"_blank\"><span style=\"color: #7f7f7f; text-decoration-color: #7f7f7f\">403</span></a>\n",
       "</pre>\n"
      ]
     },
     "metadata": {},
     "output_type": "display_data"
    },
    {
     "data": {
      "text/plain": [
       "\u001B[2;36m[06/17/25 06:31:03]\u001B[0m\u001B[2;36m \u001B[0m\u001B[34mINFO    \u001B[0m \u001B[1m[\u001B[0m\u001B[1;36m23\u001B[0m/\u001B[1;36m38\u001B[0m\u001B[1m]\u001B[0m Retrieving game with \u001B[33mid\u001B[0m=\u001B[1;36m4506981\u001B[0m                                  \u001B]8;id=792327;file:///Users/mckayjohns/miniforge3/envs/complete-football-analytics/lib/python3.11/site-packages/soccerdata/fotmob.py\u001B\\\u001B[2mfotmob.py\u001B[0m\u001B]8;;\u001B\\\u001B[2m:\u001B[0m\u001B]8;id=757486;file:///Users/mckayjohns/miniforge3/envs/complete-football-analytics/lib/python3.11/site-packages/soccerdata/fotmob.py#403\u001B\\\u001B[2m403\u001B[0m\u001B]8;;\u001B\\\n"
      ],
      "text/html": [
       "<pre style=\"white-space:pre;overflow-x:auto;line-height:normal;font-family:Menlo,'DejaVu Sans Mono',consolas,'Courier New',monospace\"><span style=\"color: #7fbfbf; text-decoration-color: #7fbfbf\">[06/17/25 06:31:03] </span><span style=\"color: #000080; text-decoration-color: #000080\">INFO    </span> <span style=\"font-weight: bold\">[</span><span style=\"color: #008080; text-decoration-color: #008080; font-weight: bold\">23</span>/<span style=\"color: #008080; text-decoration-color: #008080; font-weight: bold\">38</span><span style=\"font-weight: bold\">]</span> Retrieving game with <span style=\"color: #808000; text-decoration-color: #808000\">id</span>=<span style=\"color: #008080; text-decoration-color: #008080; font-weight: bold\">4506981</span>                                  <a href=\"file:///Users/mckayjohns/miniforge3/envs/complete-football-analytics/lib/python3.11/site-packages/soccerdata/fotmob.py\" target=\"_blank\"><span style=\"color: #7f7f7f; text-decoration-color: #7f7f7f\">fotmob.py</span></a><span style=\"color: #7f7f7f; text-decoration-color: #7f7f7f\">:</span><a href=\"file:///Users/mckayjohns/miniforge3/envs/complete-football-analytics/lib/python3.11/site-packages/soccerdata/fotmob.py#403\" target=\"_blank\"><span style=\"color: #7f7f7f; text-decoration-color: #7f7f7f\">403</span></a>\n",
       "</pre>\n"
      ]
     },
     "metadata": {},
     "output_type": "display_data"
    },
    {
     "data": {
      "text/plain": [
       "\u001B[2;36m[06/17/25 06:31:04]\u001B[0m\u001B[2;36m \u001B[0m\u001B[34mINFO    \u001B[0m \u001B[1m[\u001B[0m\u001B[1;36m24\u001B[0m/\u001B[1;36m38\u001B[0m\u001B[1m]\u001B[0m Retrieving game with \u001B[33mid\u001B[0m=\u001B[1;36m4506986\u001B[0m                                  \u001B]8;id=664813;file:///Users/mckayjohns/miniforge3/envs/complete-football-analytics/lib/python3.11/site-packages/soccerdata/fotmob.py\u001B\\\u001B[2mfotmob.py\u001B[0m\u001B]8;;\u001B\\\u001B[2m:\u001B[0m\u001B]8;id=587632;file:///Users/mckayjohns/miniforge3/envs/complete-football-analytics/lib/python3.11/site-packages/soccerdata/fotmob.py#403\u001B\\\u001B[2m403\u001B[0m\u001B]8;;\u001B\\\n"
      ],
      "text/html": [
       "<pre style=\"white-space:pre;overflow-x:auto;line-height:normal;font-family:Menlo,'DejaVu Sans Mono',consolas,'Courier New',monospace\"><span style=\"color: #7fbfbf; text-decoration-color: #7fbfbf\">[06/17/25 06:31:04] </span><span style=\"color: #000080; text-decoration-color: #000080\">INFO    </span> <span style=\"font-weight: bold\">[</span><span style=\"color: #008080; text-decoration-color: #008080; font-weight: bold\">24</span>/<span style=\"color: #008080; text-decoration-color: #008080; font-weight: bold\">38</span><span style=\"font-weight: bold\">]</span> Retrieving game with <span style=\"color: #808000; text-decoration-color: #808000\">id</span>=<span style=\"color: #008080; text-decoration-color: #008080; font-weight: bold\">4506986</span>                                  <a href=\"file:///Users/mckayjohns/miniforge3/envs/complete-football-analytics/lib/python3.11/site-packages/soccerdata/fotmob.py\" target=\"_blank\"><span style=\"color: #7f7f7f; text-decoration-color: #7f7f7f\">fotmob.py</span></a><span style=\"color: #7f7f7f; text-decoration-color: #7f7f7f\">:</span><a href=\"file:///Users/mckayjohns/miniforge3/envs/complete-football-analytics/lib/python3.11/site-packages/soccerdata/fotmob.py#403\" target=\"_blank\"><span style=\"color: #7f7f7f; text-decoration-color: #7f7f7f\">403</span></a>\n",
       "</pre>\n"
      ]
     },
     "metadata": {},
     "output_type": "display_data"
    },
    {
     "data": {
      "text/plain": [
       "\u001B[2;36m                   \u001B[0m\u001B[2;36m \u001B[0m\u001B[34mINFO    \u001B[0m \u001B[1m[\u001B[0m\u001B[1;36m25\u001B[0m/\u001B[1;36m38\u001B[0m\u001B[1m]\u001B[0m Retrieving game with \u001B[33mid\u001B[0m=\u001B[1;36m4507000\u001B[0m                                  \u001B]8;id=225928;file:///Users/mckayjohns/miniforge3/envs/complete-football-analytics/lib/python3.11/site-packages/soccerdata/fotmob.py\u001B\\\u001B[2mfotmob.py\u001B[0m\u001B]8;;\u001B\\\u001B[2m:\u001B[0m\u001B]8;id=895843;file:///Users/mckayjohns/miniforge3/envs/complete-football-analytics/lib/python3.11/site-packages/soccerdata/fotmob.py#403\u001B\\\u001B[2m403\u001B[0m\u001B]8;;\u001B\\\n"
      ],
      "text/html": [
       "<pre style=\"white-space:pre;overflow-x:auto;line-height:normal;font-family:Menlo,'DejaVu Sans Mono',consolas,'Courier New',monospace\"><span style=\"color: #7fbfbf; text-decoration-color: #7fbfbf\">                    </span><span style=\"color: #000080; text-decoration-color: #000080\">INFO    </span> <span style=\"font-weight: bold\">[</span><span style=\"color: #008080; text-decoration-color: #008080; font-weight: bold\">25</span>/<span style=\"color: #008080; text-decoration-color: #008080; font-weight: bold\">38</span><span style=\"font-weight: bold\">]</span> Retrieving game with <span style=\"color: #808000; text-decoration-color: #808000\">id</span>=<span style=\"color: #008080; text-decoration-color: #008080; font-weight: bold\">4507000</span>                                  <a href=\"file:///Users/mckayjohns/miniforge3/envs/complete-football-analytics/lib/python3.11/site-packages/soccerdata/fotmob.py\" target=\"_blank\"><span style=\"color: #7f7f7f; text-decoration-color: #7f7f7f\">fotmob.py</span></a><span style=\"color: #7f7f7f; text-decoration-color: #7f7f7f\">:</span><a href=\"file:///Users/mckayjohns/miniforge3/envs/complete-football-analytics/lib/python3.11/site-packages/soccerdata/fotmob.py#403\" target=\"_blank\"><span style=\"color: #7f7f7f; text-decoration-color: #7f7f7f\">403</span></a>\n",
       "</pre>\n"
      ]
     },
     "metadata": {},
     "output_type": "display_data"
    },
    {
     "data": {
      "text/plain": [
       "\u001B[2;36m[06/17/25 06:31:05]\u001B[0m\u001B[2;36m \u001B[0m\u001B[34mINFO    \u001B[0m \u001B[1m[\u001B[0m\u001B[1;36m26\u001B[0m/\u001B[1;36m38\u001B[0m\u001B[1m]\u001B[0m Retrieving game with \u001B[33mid\u001B[0m=\u001B[1;36m4507005\u001B[0m                                  \u001B]8;id=258317;file:///Users/mckayjohns/miniforge3/envs/complete-football-analytics/lib/python3.11/site-packages/soccerdata/fotmob.py\u001B\\\u001B[2mfotmob.py\u001B[0m\u001B]8;;\u001B\\\u001B[2m:\u001B[0m\u001B]8;id=718772;file:///Users/mckayjohns/miniforge3/envs/complete-football-analytics/lib/python3.11/site-packages/soccerdata/fotmob.py#403\u001B\\\u001B[2m403\u001B[0m\u001B]8;;\u001B\\\n"
      ],
      "text/html": [
       "<pre style=\"white-space:pre;overflow-x:auto;line-height:normal;font-family:Menlo,'DejaVu Sans Mono',consolas,'Courier New',monospace\"><span style=\"color: #7fbfbf; text-decoration-color: #7fbfbf\">[06/17/25 06:31:05] </span><span style=\"color: #000080; text-decoration-color: #000080\">INFO    </span> <span style=\"font-weight: bold\">[</span><span style=\"color: #008080; text-decoration-color: #008080; font-weight: bold\">26</span>/<span style=\"color: #008080; text-decoration-color: #008080; font-weight: bold\">38</span><span style=\"font-weight: bold\">]</span> Retrieving game with <span style=\"color: #808000; text-decoration-color: #808000\">id</span>=<span style=\"color: #008080; text-decoration-color: #008080; font-weight: bold\">4507005</span>                                  <a href=\"file:///Users/mckayjohns/miniforge3/envs/complete-football-analytics/lib/python3.11/site-packages/soccerdata/fotmob.py\" target=\"_blank\"><span style=\"color: #7f7f7f; text-decoration-color: #7f7f7f\">fotmob.py</span></a><span style=\"color: #7f7f7f; text-decoration-color: #7f7f7f\">:</span><a href=\"file:///Users/mckayjohns/miniforge3/envs/complete-football-analytics/lib/python3.11/site-packages/soccerdata/fotmob.py#403\" target=\"_blank\"><span style=\"color: #7f7f7f; text-decoration-color: #7f7f7f\">403</span></a>\n",
       "</pre>\n"
      ]
     },
     "metadata": {},
     "output_type": "display_data"
    },
    {
     "data": {
      "text/plain": [
       "\u001B[2;36m[06/17/25 06:31:06]\u001B[0m\u001B[2;36m \u001B[0m\u001B[34mINFO    \u001B[0m \u001B[1m[\u001B[0m\u001B[1;36m27\u001B[0m/\u001B[1;36m38\u001B[0m\u001B[1m]\u001B[0m Retrieving game with \u001B[33mid\u001B[0m=\u001B[1;36m4507025\u001B[0m                                  \u001B]8;id=199209;file:///Users/mckayjohns/miniforge3/envs/complete-football-analytics/lib/python3.11/site-packages/soccerdata/fotmob.py\u001B\\\u001B[2mfotmob.py\u001B[0m\u001B]8;;\u001B\\\u001B[2m:\u001B[0m\u001B]8;id=715478;file:///Users/mckayjohns/miniforge3/envs/complete-football-analytics/lib/python3.11/site-packages/soccerdata/fotmob.py#403\u001B\\\u001B[2m403\u001B[0m\u001B]8;;\u001B\\\n"
      ],
      "text/html": [
       "<pre style=\"white-space:pre;overflow-x:auto;line-height:normal;font-family:Menlo,'DejaVu Sans Mono',consolas,'Courier New',monospace\"><span style=\"color: #7fbfbf; text-decoration-color: #7fbfbf\">[06/17/25 06:31:06] </span><span style=\"color: #000080; text-decoration-color: #000080\">INFO    </span> <span style=\"font-weight: bold\">[</span><span style=\"color: #008080; text-decoration-color: #008080; font-weight: bold\">27</span>/<span style=\"color: #008080; text-decoration-color: #008080; font-weight: bold\">38</span><span style=\"font-weight: bold\">]</span> Retrieving game with <span style=\"color: #808000; text-decoration-color: #808000\">id</span>=<span style=\"color: #008080; text-decoration-color: #008080; font-weight: bold\">4507025</span>                                  <a href=\"file:///Users/mckayjohns/miniforge3/envs/complete-football-analytics/lib/python3.11/site-packages/soccerdata/fotmob.py\" target=\"_blank\"><span style=\"color: #7f7f7f; text-decoration-color: #7f7f7f\">fotmob.py</span></a><span style=\"color: #7f7f7f; text-decoration-color: #7f7f7f\">:</span><a href=\"file:///Users/mckayjohns/miniforge3/envs/complete-football-analytics/lib/python3.11/site-packages/soccerdata/fotmob.py#403\" target=\"_blank\"><span style=\"color: #7f7f7f; text-decoration-color: #7f7f7f\">403</span></a>\n",
       "</pre>\n"
      ]
     },
     "metadata": {},
     "output_type": "display_data"
    },
    {
     "data": {
      "text/plain": [
       "\u001B[2;36m[06/17/25 06:31:07]\u001B[0m\u001B[2;36m \u001B[0m\u001B[34mINFO    \u001B[0m \u001B[1m[\u001B[0m\u001B[1;36m28\u001B[0m/\u001B[1;36m38\u001B[0m\u001B[1m]\u001B[0m Retrieving game with \u001B[33mid\u001B[0m=\u001B[1;36m4507016\u001B[0m                                  \u001B]8;id=843946;file:///Users/mckayjohns/miniforge3/envs/complete-football-analytics/lib/python3.11/site-packages/soccerdata/fotmob.py\u001B\\\u001B[2mfotmob.py\u001B[0m\u001B]8;;\u001B\\\u001B[2m:\u001B[0m\u001B]8;id=90371;file:///Users/mckayjohns/miniforge3/envs/complete-football-analytics/lib/python3.11/site-packages/soccerdata/fotmob.py#403\u001B\\\u001B[2m403\u001B[0m\u001B]8;;\u001B\\\n"
      ],
      "text/html": [
       "<pre style=\"white-space:pre;overflow-x:auto;line-height:normal;font-family:Menlo,'DejaVu Sans Mono',consolas,'Courier New',monospace\"><span style=\"color: #7fbfbf; text-decoration-color: #7fbfbf\">[06/17/25 06:31:07] </span><span style=\"color: #000080; text-decoration-color: #000080\">INFO    </span> <span style=\"font-weight: bold\">[</span><span style=\"color: #008080; text-decoration-color: #008080; font-weight: bold\">28</span>/<span style=\"color: #008080; text-decoration-color: #008080; font-weight: bold\">38</span><span style=\"font-weight: bold\">]</span> Retrieving game with <span style=\"color: #808000; text-decoration-color: #808000\">id</span>=<span style=\"color: #008080; text-decoration-color: #008080; font-weight: bold\">4507016</span>                                  <a href=\"file:///Users/mckayjohns/miniforge3/envs/complete-football-analytics/lib/python3.11/site-packages/soccerdata/fotmob.py\" target=\"_blank\"><span style=\"color: #7f7f7f; text-decoration-color: #7f7f7f\">fotmob.py</span></a><span style=\"color: #7f7f7f; text-decoration-color: #7f7f7f\">:</span><a href=\"file:///Users/mckayjohns/miniforge3/envs/complete-football-analytics/lib/python3.11/site-packages/soccerdata/fotmob.py#403\" target=\"_blank\"><span style=\"color: #7f7f7f; text-decoration-color: #7f7f7f\">403</span></a>\n",
       "</pre>\n"
      ]
     },
     "metadata": {},
     "output_type": "display_data"
    },
    {
     "data": {
      "text/plain": [
       "\u001B[2;36m[06/17/25 06:31:08]\u001B[0m\u001B[2;36m \u001B[0m\u001B[34mINFO    \u001B[0m \u001B[1m[\u001B[0m\u001B[1;36m29\u001B[0m/\u001B[1;36m38\u001B[0m\u001B[1m]\u001B[0m Retrieving game with \u001B[33mid\u001B[0m=\u001B[1;36m4507036\u001B[0m                                  \u001B]8;id=947162;file:///Users/mckayjohns/miniforge3/envs/complete-football-analytics/lib/python3.11/site-packages/soccerdata/fotmob.py\u001B\\\u001B[2mfotmob.py\u001B[0m\u001B]8;;\u001B\\\u001B[2m:\u001B[0m\u001B]8;id=657446;file:///Users/mckayjohns/miniforge3/envs/complete-football-analytics/lib/python3.11/site-packages/soccerdata/fotmob.py#403\u001B\\\u001B[2m403\u001B[0m\u001B]8;;\u001B\\\n"
      ],
      "text/html": [
       "<pre style=\"white-space:pre;overflow-x:auto;line-height:normal;font-family:Menlo,'DejaVu Sans Mono',consolas,'Courier New',monospace\"><span style=\"color: #7fbfbf; text-decoration-color: #7fbfbf\">[06/17/25 06:31:08] </span><span style=\"color: #000080; text-decoration-color: #000080\">INFO    </span> <span style=\"font-weight: bold\">[</span><span style=\"color: #008080; text-decoration-color: #008080; font-weight: bold\">29</span>/<span style=\"color: #008080; text-decoration-color: #008080; font-weight: bold\">38</span><span style=\"font-weight: bold\">]</span> Retrieving game with <span style=\"color: #808000; text-decoration-color: #808000\">id</span>=<span style=\"color: #008080; text-decoration-color: #008080; font-weight: bold\">4507036</span>                                  <a href=\"file:///Users/mckayjohns/miniforge3/envs/complete-football-analytics/lib/python3.11/site-packages/soccerdata/fotmob.py\" target=\"_blank\"><span style=\"color: #7f7f7f; text-decoration-color: #7f7f7f\">fotmob.py</span></a><span style=\"color: #7f7f7f; text-decoration-color: #7f7f7f\">:</span><a href=\"file:///Users/mckayjohns/miniforge3/envs/complete-football-analytics/lib/python3.11/site-packages/soccerdata/fotmob.py#403\" target=\"_blank\"><span style=\"color: #7f7f7f; text-decoration-color: #7f7f7f\">403</span></a>\n",
       "</pre>\n"
      ]
     },
     "metadata": {},
     "output_type": "display_data"
    },
    {
     "data": {
      "text/plain": [
       "\u001B[2;36m[06/17/25 06:31:09]\u001B[0m\u001B[2;36m \u001B[0m\u001B[34mINFO    \u001B[0m \u001B[1m[\u001B[0m\u001B[1;36m30\u001B[0m/\u001B[1;36m38\u001B[0m\u001B[1m]\u001B[0m Retrieving game with \u001B[33mid\u001B[0m=\u001B[1;36m4507045\u001B[0m                                  \u001B]8;id=206498;file:///Users/mckayjohns/miniforge3/envs/complete-football-analytics/lib/python3.11/site-packages/soccerdata/fotmob.py\u001B\\\u001B[2mfotmob.py\u001B[0m\u001B]8;;\u001B\\\u001B[2m:\u001B[0m\u001B]8;id=349399;file:///Users/mckayjohns/miniforge3/envs/complete-football-analytics/lib/python3.11/site-packages/soccerdata/fotmob.py#403\u001B\\\u001B[2m403\u001B[0m\u001B]8;;\u001B\\\n"
      ],
      "text/html": [
       "<pre style=\"white-space:pre;overflow-x:auto;line-height:normal;font-family:Menlo,'DejaVu Sans Mono',consolas,'Courier New',monospace\"><span style=\"color: #7fbfbf; text-decoration-color: #7fbfbf\">[06/17/25 06:31:09] </span><span style=\"color: #000080; text-decoration-color: #000080\">INFO    </span> <span style=\"font-weight: bold\">[</span><span style=\"color: #008080; text-decoration-color: #008080; font-weight: bold\">30</span>/<span style=\"color: #008080; text-decoration-color: #008080; font-weight: bold\">38</span><span style=\"font-weight: bold\">]</span> Retrieving game with <span style=\"color: #808000; text-decoration-color: #808000\">id</span>=<span style=\"color: #008080; text-decoration-color: #008080; font-weight: bold\">4507045</span>                                  <a href=\"file:///Users/mckayjohns/miniforge3/envs/complete-football-analytics/lib/python3.11/site-packages/soccerdata/fotmob.py\" target=\"_blank\"><span style=\"color: #7f7f7f; text-decoration-color: #7f7f7f\">fotmob.py</span></a><span style=\"color: #7f7f7f; text-decoration-color: #7f7f7f\">:</span><a href=\"file:///Users/mckayjohns/miniforge3/envs/complete-football-analytics/lib/python3.11/site-packages/soccerdata/fotmob.py#403\" target=\"_blank\"><span style=\"color: #7f7f7f; text-decoration-color: #7f7f7f\">403</span></a>\n",
       "</pre>\n"
      ]
     },
     "metadata": {},
     "output_type": "display_data"
    },
    {
     "data": {
      "text/plain": [
       "\u001B[2;36m                   \u001B[0m\u001B[2;36m \u001B[0m\u001B[34mINFO    \u001B[0m \u001B[1m[\u001B[0m\u001B[1;36m31\u001B[0m/\u001B[1;36m38\u001B[0m\u001B[1m]\u001B[0m Retrieving game with \u001B[33mid\u001B[0m=\u001B[1;36m4507060\u001B[0m                                  \u001B]8;id=97325;file:///Users/mckayjohns/miniforge3/envs/complete-football-analytics/lib/python3.11/site-packages/soccerdata/fotmob.py\u001B\\\u001B[2mfotmob.py\u001B[0m\u001B]8;;\u001B\\\u001B[2m:\u001B[0m\u001B]8;id=303816;file:///Users/mckayjohns/miniforge3/envs/complete-football-analytics/lib/python3.11/site-packages/soccerdata/fotmob.py#403\u001B\\\u001B[2m403\u001B[0m\u001B]8;;\u001B\\\n"
      ],
      "text/html": [
       "<pre style=\"white-space:pre;overflow-x:auto;line-height:normal;font-family:Menlo,'DejaVu Sans Mono',consolas,'Courier New',monospace\"><span style=\"color: #7fbfbf; text-decoration-color: #7fbfbf\">                    </span><span style=\"color: #000080; text-decoration-color: #000080\">INFO    </span> <span style=\"font-weight: bold\">[</span><span style=\"color: #008080; text-decoration-color: #008080; font-weight: bold\">31</span>/<span style=\"color: #008080; text-decoration-color: #008080; font-weight: bold\">38</span><span style=\"font-weight: bold\">]</span> Retrieving game with <span style=\"color: #808000; text-decoration-color: #808000\">id</span>=<span style=\"color: #008080; text-decoration-color: #008080; font-weight: bold\">4507060</span>                                  <a href=\"file:///Users/mckayjohns/miniforge3/envs/complete-football-analytics/lib/python3.11/site-packages/soccerdata/fotmob.py\" target=\"_blank\"><span style=\"color: #7f7f7f; text-decoration-color: #7f7f7f\">fotmob.py</span></a><span style=\"color: #7f7f7f; text-decoration-color: #7f7f7f\">:</span><a href=\"file:///Users/mckayjohns/miniforge3/envs/complete-football-analytics/lib/python3.11/site-packages/soccerdata/fotmob.py#403\" target=\"_blank\"><span style=\"color: #7f7f7f; text-decoration-color: #7f7f7f\">403</span></a>\n",
       "</pre>\n"
      ]
     },
     "metadata": {},
     "output_type": "display_data"
    },
    {
     "data": {
      "text/plain": [
       "\u001B[2;36m[06/17/25 06:31:10]\u001B[0m\u001B[2;36m \u001B[0m\u001B[34mINFO    \u001B[0m \u001B[1m[\u001B[0m\u001B[1;36m32\u001B[0m/\u001B[1;36m38\u001B[0m\u001B[1m]\u001B[0m Retrieving game with \u001B[33mid\u001B[0m=\u001B[1;36m4507066\u001B[0m                                  \u001B]8;id=168723;file:///Users/mckayjohns/miniforge3/envs/complete-football-analytics/lib/python3.11/site-packages/soccerdata/fotmob.py\u001B\\\u001B[2mfotmob.py\u001B[0m\u001B]8;;\u001B\\\u001B[2m:\u001B[0m\u001B]8;id=957412;file:///Users/mckayjohns/miniforge3/envs/complete-football-analytics/lib/python3.11/site-packages/soccerdata/fotmob.py#403\u001B\\\u001B[2m403\u001B[0m\u001B]8;;\u001B\\\n"
      ],
      "text/html": [
       "<pre style=\"white-space:pre;overflow-x:auto;line-height:normal;font-family:Menlo,'DejaVu Sans Mono',consolas,'Courier New',monospace\"><span style=\"color: #7fbfbf; text-decoration-color: #7fbfbf\">[06/17/25 06:31:10] </span><span style=\"color: #000080; text-decoration-color: #000080\">INFO    </span> <span style=\"font-weight: bold\">[</span><span style=\"color: #008080; text-decoration-color: #008080; font-weight: bold\">32</span>/<span style=\"color: #008080; text-decoration-color: #008080; font-weight: bold\">38</span><span style=\"font-weight: bold\">]</span> Retrieving game with <span style=\"color: #808000; text-decoration-color: #808000\">id</span>=<span style=\"color: #008080; text-decoration-color: #008080; font-weight: bold\">4507066</span>                                  <a href=\"file:///Users/mckayjohns/miniforge3/envs/complete-football-analytics/lib/python3.11/site-packages/soccerdata/fotmob.py\" target=\"_blank\"><span style=\"color: #7f7f7f; text-decoration-color: #7f7f7f\">fotmob.py</span></a><span style=\"color: #7f7f7f; text-decoration-color: #7f7f7f\">:</span><a href=\"file:///Users/mckayjohns/miniforge3/envs/complete-football-analytics/lib/python3.11/site-packages/soccerdata/fotmob.py#403\" target=\"_blank\"><span style=\"color: #7f7f7f; text-decoration-color: #7f7f7f\">403</span></a>\n",
       "</pre>\n"
      ]
     },
     "metadata": {},
     "output_type": "display_data"
    },
    {
     "data": {
      "text/plain": [
       "\u001B[2;36m[06/17/25 06:31:11]\u001B[0m\u001B[2;36m \u001B[0m\u001B[34mINFO    \u001B[0m \u001B[1m[\u001B[0m\u001B[1;36m33\u001B[0m/\u001B[1;36m38\u001B[0m\u001B[1m]\u001B[0m Retrieving game with \u001B[33mid\u001B[0m=\u001B[1;36m4507078\u001B[0m                                  \u001B]8;id=153085;file:///Users/mckayjohns/miniforge3/envs/complete-football-analytics/lib/python3.11/site-packages/soccerdata/fotmob.py\u001B\\\u001B[2mfotmob.py\u001B[0m\u001B]8;;\u001B\\\u001B[2m:\u001B[0m\u001B]8;id=978864;file:///Users/mckayjohns/miniforge3/envs/complete-football-analytics/lib/python3.11/site-packages/soccerdata/fotmob.py#403\u001B\\\u001B[2m403\u001B[0m\u001B]8;;\u001B\\\n"
      ],
      "text/html": [
       "<pre style=\"white-space:pre;overflow-x:auto;line-height:normal;font-family:Menlo,'DejaVu Sans Mono',consolas,'Courier New',monospace\"><span style=\"color: #7fbfbf; text-decoration-color: #7fbfbf\">[06/17/25 06:31:11] </span><span style=\"color: #000080; text-decoration-color: #000080\">INFO    </span> <span style=\"font-weight: bold\">[</span><span style=\"color: #008080; text-decoration-color: #008080; font-weight: bold\">33</span>/<span style=\"color: #008080; text-decoration-color: #008080; font-weight: bold\">38</span><span style=\"font-weight: bold\">]</span> Retrieving game with <span style=\"color: #808000; text-decoration-color: #808000\">id</span>=<span style=\"color: #008080; text-decoration-color: #008080; font-weight: bold\">4507078</span>                                  <a href=\"file:///Users/mckayjohns/miniforge3/envs/complete-football-analytics/lib/python3.11/site-packages/soccerdata/fotmob.py\" target=\"_blank\"><span style=\"color: #7f7f7f; text-decoration-color: #7f7f7f\">fotmob.py</span></a><span style=\"color: #7f7f7f; text-decoration-color: #7f7f7f\">:</span><a href=\"file:///Users/mckayjohns/miniforge3/envs/complete-football-analytics/lib/python3.11/site-packages/soccerdata/fotmob.py#403\" target=\"_blank\"><span style=\"color: #7f7f7f; text-decoration-color: #7f7f7f\">403</span></a>\n",
       "</pre>\n"
      ]
     },
     "metadata": {},
     "output_type": "display_data"
    },
    {
     "data": {
      "text/plain": [
       "\u001B[2;36m[06/17/25 06:31:12]\u001B[0m\u001B[2;36m \u001B[0m\u001B[34mINFO    \u001B[0m \u001B[1m[\u001B[0m\u001B[1;36m34\u001B[0m/\u001B[1;36m38\u001B[0m\u001B[1m]\u001B[0m Retrieving game with \u001B[33mid\u001B[0m=\u001B[1;36m4507091\u001B[0m                                  \u001B]8;id=261997;file:///Users/mckayjohns/miniforge3/envs/complete-football-analytics/lib/python3.11/site-packages/soccerdata/fotmob.py\u001B\\\u001B[2mfotmob.py\u001B[0m\u001B]8;;\u001B\\\u001B[2m:\u001B[0m\u001B]8;id=477912;file:///Users/mckayjohns/miniforge3/envs/complete-football-analytics/lib/python3.11/site-packages/soccerdata/fotmob.py#403\u001B\\\u001B[2m403\u001B[0m\u001B]8;;\u001B\\\n"
      ],
      "text/html": [
       "<pre style=\"white-space:pre;overflow-x:auto;line-height:normal;font-family:Menlo,'DejaVu Sans Mono',consolas,'Courier New',monospace\"><span style=\"color: #7fbfbf; text-decoration-color: #7fbfbf\">[06/17/25 06:31:12] </span><span style=\"color: #000080; text-decoration-color: #000080\">INFO    </span> <span style=\"font-weight: bold\">[</span><span style=\"color: #008080; text-decoration-color: #008080; font-weight: bold\">34</span>/<span style=\"color: #008080; text-decoration-color: #008080; font-weight: bold\">38</span><span style=\"font-weight: bold\">]</span> Retrieving game with <span style=\"color: #808000; text-decoration-color: #808000\">id</span>=<span style=\"color: #008080; text-decoration-color: #008080; font-weight: bold\">4507091</span>                                  <a href=\"file:///Users/mckayjohns/miniforge3/envs/complete-football-analytics/lib/python3.11/site-packages/soccerdata/fotmob.py\" target=\"_blank\"><span style=\"color: #7f7f7f; text-decoration-color: #7f7f7f\">fotmob.py</span></a><span style=\"color: #7f7f7f; text-decoration-color: #7f7f7f\">:</span><a href=\"file:///Users/mckayjohns/miniforge3/envs/complete-football-analytics/lib/python3.11/site-packages/soccerdata/fotmob.py#403\" target=\"_blank\"><span style=\"color: #7f7f7f; text-decoration-color: #7f7f7f\">403</span></a>\n",
       "</pre>\n"
      ]
     },
     "metadata": {},
     "output_type": "display_data"
    },
    {
     "data": {
      "text/plain": [
       "\u001B[2;36m                   \u001B[0m\u001B[2;36m \u001B[0m\u001B[34mINFO    \u001B[0m \u001B[1m[\u001B[0m\u001B[1;36m35\u001B[0m/\u001B[1;36m38\u001B[0m\u001B[1m]\u001B[0m Retrieving game with \u001B[33mid\u001B[0m=\u001B[1;36m4507097\u001B[0m                                  \u001B]8;id=562391;file:///Users/mckayjohns/miniforge3/envs/complete-football-analytics/lib/python3.11/site-packages/soccerdata/fotmob.py\u001B\\\u001B[2mfotmob.py\u001B[0m\u001B]8;;\u001B\\\u001B[2m:\u001B[0m\u001B]8;id=710663;file:///Users/mckayjohns/miniforge3/envs/complete-football-analytics/lib/python3.11/site-packages/soccerdata/fotmob.py#403\u001B\\\u001B[2m403\u001B[0m\u001B]8;;\u001B\\\n"
      ],
      "text/html": [
       "<pre style=\"white-space:pre;overflow-x:auto;line-height:normal;font-family:Menlo,'DejaVu Sans Mono',consolas,'Courier New',monospace\"><span style=\"color: #7fbfbf; text-decoration-color: #7fbfbf\">                    </span><span style=\"color: #000080; text-decoration-color: #000080\">INFO    </span> <span style=\"font-weight: bold\">[</span><span style=\"color: #008080; text-decoration-color: #008080; font-weight: bold\">35</span>/<span style=\"color: #008080; text-decoration-color: #008080; font-weight: bold\">38</span><span style=\"font-weight: bold\">]</span> Retrieving game with <span style=\"color: #808000; text-decoration-color: #808000\">id</span>=<span style=\"color: #008080; text-decoration-color: #008080; font-weight: bold\">4507097</span>                                  <a href=\"file:///Users/mckayjohns/miniforge3/envs/complete-football-analytics/lib/python3.11/site-packages/soccerdata/fotmob.py\" target=\"_blank\"><span style=\"color: #7f7f7f; text-decoration-color: #7f7f7f\">fotmob.py</span></a><span style=\"color: #7f7f7f; text-decoration-color: #7f7f7f\">:</span><a href=\"file:///Users/mckayjohns/miniforge3/envs/complete-football-analytics/lib/python3.11/site-packages/soccerdata/fotmob.py#403\" target=\"_blank\"><span style=\"color: #7f7f7f; text-decoration-color: #7f7f7f\">403</span></a>\n",
       "</pre>\n"
      ]
     },
     "metadata": {},
     "output_type": "display_data"
    },
    {
     "data": {
      "text/plain": [
       "\u001B[2;36m[06/17/25 06:31:13]\u001B[0m\u001B[2;36m \u001B[0m\u001B[34mINFO    \u001B[0m \u001B[1m[\u001B[0m\u001B[1;36m36\u001B[0m/\u001B[1;36m38\u001B[0m\u001B[1m]\u001B[0m Retrieving game with \u001B[33mid\u001B[0m=\u001B[1;36m4507107\u001B[0m                                  \u001B]8;id=419400;file:///Users/mckayjohns/miniforge3/envs/complete-football-analytics/lib/python3.11/site-packages/soccerdata/fotmob.py\u001B\\\u001B[2mfotmob.py\u001B[0m\u001B]8;;\u001B\\\u001B[2m:\u001B[0m\u001B]8;id=603976;file:///Users/mckayjohns/miniforge3/envs/complete-football-analytics/lib/python3.11/site-packages/soccerdata/fotmob.py#403\u001B\\\u001B[2m403\u001B[0m\u001B]8;;\u001B\\\n"
      ],
      "text/html": [
       "<pre style=\"white-space:pre;overflow-x:auto;line-height:normal;font-family:Menlo,'DejaVu Sans Mono',consolas,'Courier New',monospace\"><span style=\"color: #7fbfbf; text-decoration-color: #7fbfbf\">[06/17/25 06:31:13] </span><span style=\"color: #000080; text-decoration-color: #000080\">INFO    </span> <span style=\"font-weight: bold\">[</span><span style=\"color: #008080; text-decoration-color: #008080; font-weight: bold\">36</span>/<span style=\"color: #008080; text-decoration-color: #008080; font-weight: bold\">38</span><span style=\"font-weight: bold\">]</span> Retrieving game with <span style=\"color: #808000; text-decoration-color: #808000\">id</span>=<span style=\"color: #008080; text-decoration-color: #008080; font-weight: bold\">4507107</span>                                  <a href=\"file:///Users/mckayjohns/miniforge3/envs/complete-football-analytics/lib/python3.11/site-packages/soccerdata/fotmob.py\" target=\"_blank\"><span style=\"color: #7f7f7f; text-decoration-color: #7f7f7f\">fotmob.py</span></a><span style=\"color: #7f7f7f; text-decoration-color: #7f7f7f\">:</span><a href=\"file:///Users/mckayjohns/miniforge3/envs/complete-football-analytics/lib/python3.11/site-packages/soccerdata/fotmob.py#403\" target=\"_blank\"><span style=\"color: #7f7f7f; text-decoration-color: #7f7f7f\">403</span></a>\n",
       "</pre>\n"
      ]
     },
     "metadata": {},
     "output_type": "display_data"
    },
    {
     "data": {
      "text/plain": [
       "\u001B[2;36m[06/17/25 06:31:14]\u001B[0m\u001B[2;36m \u001B[0m\u001B[34mINFO    \u001B[0m \u001B[1m[\u001B[0m\u001B[1;36m37\u001B[0m/\u001B[1;36m38\u001B[0m\u001B[1m]\u001B[0m Retrieving game with \u001B[33mid\u001B[0m=\u001B[1;36m4507117\u001B[0m                                  \u001B]8;id=680310;file:///Users/mckayjohns/miniforge3/envs/complete-football-analytics/lib/python3.11/site-packages/soccerdata/fotmob.py\u001B\\\u001B[2mfotmob.py\u001B[0m\u001B]8;;\u001B\\\u001B[2m:\u001B[0m\u001B]8;id=705883;file:///Users/mckayjohns/miniforge3/envs/complete-football-analytics/lib/python3.11/site-packages/soccerdata/fotmob.py#403\u001B\\\u001B[2m403\u001B[0m\u001B]8;;\u001B\\\n"
      ],
      "text/html": [
       "<pre style=\"white-space:pre;overflow-x:auto;line-height:normal;font-family:Menlo,'DejaVu Sans Mono',consolas,'Courier New',monospace\"><span style=\"color: #7fbfbf; text-decoration-color: #7fbfbf\">[06/17/25 06:31:14] </span><span style=\"color: #000080; text-decoration-color: #000080\">INFO    </span> <span style=\"font-weight: bold\">[</span><span style=\"color: #008080; text-decoration-color: #008080; font-weight: bold\">37</span>/<span style=\"color: #008080; text-decoration-color: #008080; font-weight: bold\">38</span><span style=\"font-weight: bold\">]</span> Retrieving game with <span style=\"color: #808000; text-decoration-color: #808000\">id</span>=<span style=\"color: #008080; text-decoration-color: #008080; font-weight: bold\">4507117</span>                                  <a href=\"file:///Users/mckayjohns/miniforge3/envs/complete-football-analytics/lib/python3.11/site-packages/soccerdata/fotmob.py\" target=\"_blank\"><span style=\"color: #7f7f7f; text-decoration-color: #7f7f7f\">fotmob.py</span></a><span style=\"color: #7f7f7f; text-decoration-color: #7f7f7f\">:</span><a href=\"file:///Users/mckayjohns/miniforge3/envs/complete-football-analytics/lib/python3.11/site-packages/soccerdata/fotmob.py#403\" target=\"_blank\"><span style=\"color: #7f7f7f; text-decoration-color: #7f7f7f\">403</span></a>\n",
       "</pre>\n"
      ]
     },
     "metadata": {},
     "output_type": "display_data"
    },
    {
     "data": {
      "text/plain": [
       "\u001B[2;36m[06/17/25 06:31:15]\u001B[0m\u001B[2;36m \u001B[0m\u001B[34mINFO    \u001B[0m \u001B[1m[\u001B[0m\u001B[1;36m38\u001B[0m/\u001B[1;36m38\u001B[0m\u001B[1m]\u001B[0m Retrieving game with \u001B[33mid\u001B[0m=\u001B[1;36m4507126\u001B[0m                                  \u001B]8;id=133790;file:///Users/mckayjohns/miniforge3/envs/complete-football-analytics/lib/python3.11/site-packages/soccerdata/fotmob.py\u001B\\\u001B[2mfotmob.py\u001B[0m\u001B]8;;\u001B\\\u001B[2m:\u001B[0m\u001B]8;id=815804;file:///Users/mckayjohns/miniforge3/envs/complete-football-analytics/lib/python3.11/site-packages/soccerdata/fotmob.py#403\u001B\\\u001B[2m403\u001B[0m\u001B]8;;\u001B\\\n"
      ],
      "text/html": [
       "<pre style=\"white-space:pre;overflow-x:auto;line-height:normal;font-family:Menlo,'DejaVu Sans Mono',consolas,'Courier New',monospace\"><span style=\"color: #7fbfbf; text-decoration-color: #7fbfbf\">[06/17/25 06:31:15] </span><span style=\"color: #000080; text-decoration-color: #000080\">INFO    </span> <span style=\"font-weight: bold\">[</span><span style=\"color: #008080; text-decoration-color: #008080; font-weight: bold\">38</span>/<span style=\"color: #008080; text-decoration-color: #008080; font-weight: bold\">38</span><span style=\"font-weight: bold\">]</span> Retrieving game with <span style=\"color: #808000; text-decoration-color: #808000\">id</span>=<span style=\"color: #008080; text-decoration-color: #008080; font-weight: bold\">4507126</span>                                  <a href=\"file:///Users/mckayjohns/miniforge3/envs/complete-football-analytics/lib/python3.11/site-packages/soccerdata/fotmob.py\" target=\"_blank\"><span style=\"color: #7f7f7f; text-decoration-color: #7f7f7f\">fotmob.py</span></a><span style=\"color: #7f7f7f; text-decoration-color: #7f7f7f\">:</span><a href=\"file:///Users/mckayjohns/miniforge3/envs/complete-football-analytics/lib/python3.11/site-packages/soccerdata/fotmob.py#403\" target=\"_blank\"><span style=\"color: #7f7f7f; text-decoration-color: #7f7f7f\">403</span></a>\n",
       "</pre>\n"
      ]
     },
     "metadata": {},
     "output_type": "display_data"
    },
    {
     "data": {
      "text/plain": [
       "                                                                  Accurate passes  \\\n",
       "league      season game                                 team                        \n",
       "ESP-La Liga 2425   2024-08-17 Valencia-Barcelona        Barcelona             499   \n",
       "                   2024-08-24 Barcelona-Athletic Club   Barcelona             497   \n",
       "                   2024-08-27 Rayo Vallecano-Barcelona  Barcelona             444   \n",
       "                   2024-08-31 Barcelona-Real Valladolid Barcelona             545   \n",
       "                   2024-09-15 Girona-Barcelona          Barcelona             414   \n",
       "\n",
       "                                                                  Ball possession  \\\n",
       "league      season game                                 team                        \n",
       "ESP-La Liga 2425   2024-08-17 Valencia-Barcelona        Barcelona              64   \n",
       "                   2024-08-24 Barcelona-Athletic Club   Barcelona              65   \n",
       "                   2024-08-27 Rayo Vallecano-Barcelona  Barcelona              65   \n",
       "                   2024-08-31 Barcelona-Real Valladolid Barcelona              70   \n",
       "                   2024-09-15 Girona-Barcelona          Barcelona              55   \n",
       "\n",
       "                                                                  Big chances  \\\n",
       "league      season game                                 team                    \n",
       "ESP-La Liga 2425   2024-08-17 Valencia-Barcelona        Barcelona           5   \n",
       "                   2024-08-24 Barcelona-Athletic Club   Barcelona           5   \n",
       "                   2024-08-27 Rayo Vallecano-Barcelona  Barcelona           1   \n",
       "                   2024-08-31 Barcelona-Real Valladolid Barcelona          10   \n",
       "                   2024-09-15 Girona-Barcelona          Barcelona           4   \n",
       "\n",
       "                                                                  Big chances missed  \\\n",
       "league      season game                                 team                           \n",
       "ESP-La Liga 2425   2024-08-17 Valencia-Barcelona        Barcelona                  3   \n",
       "                   2024-08-24 Barcelona-Athletic Club   Barcelona                  4   \n",
       "                   2024-08-27 Rayo Vallecano-Barcelona  Barcelona                  1   \n",
       "                   2024-08-31 Barcelona-Real Valladolid Barcelona                  4   \n",
       "                   2024-09-15 Girona-Barcelona          Barcelona                  2   \n",
       "\n",
       "                                                                  Corners  \\\n",
       "league      season game                                 team                \n",
       "ESP-La Liga 2425   2024-08-17 Valencia-Barcelona        Barcelona       8   \n",
       "                   2024-08-24 Barcelona-Athletic Club   Barcelona       5   \n",
       "                   2024-08-27 Rayo Vallecano-Barcelona  Barcelona       6   \n",
       "                   2024-08-31 Barcelona-Real Valladolid Barcelona      10   \n",
       "                   2024-09-15 Girona-Barcelona          Barcelona       6   \n",
       "\n",
       "                                                                  Expected goals (xG)  \\\n",
       "league      season game                                 team                            \n",
       "ESP-La Liga 2425   2024-08-17 Valencia-Barcelona        Barcelona                3.22   \n",
       "                   2024-08-24 Barcelona-Athletic Club   Barcelona                1.83   \n",
       "                   2024-08-27 Rayo Vallecano-Barcelona  Barcelona                1.41   \n",
       "                   2024-08-31 Barcelona-Real Valladolid Barcelona                4.77   \n",
       "                   2024-09-15 Girona-Barcelona          Barcelona                1.88   \n",
       "\n",
       "                                                                  Fouls committed  \\\n",
       "league      season game                                 team                        \n",
       "ESP-La Liga 2425   2024-08-17 Valencia-Barcelona        Barcelona              13   \n",
       "                   2024-08-24 Barcelona-Athletic Club   Barcelona              11   \n",
       "                   2024-08-27 Rayo Vallecano-Barcelona  Barcelona              11   \n",
       "                   2024-08-31 Barcelona-Real Valladolid Barcelona               6   \n",
       "                   2024-09-15 Girona-Barcelona          Barcelona               4   \n",
       "\n",
       "                                                                  Shots on target  \\\n",
       "league      season game                                 team                        \n",
       "ESP-La Liga 2425   2024-08-17 Valencia-Barcelona        Barcelona               6   \n",
       "                   2024-08-24 Barcelona-Athletic Club   Barcelona               5   \n",
       "                   2024-08-27 Rayo Vallecano-Barcelona  Barcelona               5   \n",
       "                   2024-08-31 Barcelona-Real Valladolid Barcelona              11   \n",
       "                   2024-09-15 Girona-Barcelona          Barcelona               9   \n",
       "\n",
       "                                                                  Total shots  \\\n",
       "league      season game                                 team                    \n",
       "ESP-La Liga 2425   2024-08-17 Valencia-Barcelona        Barcelona          18   \n",
       "                   2024-08-24 Barcelona-Athletic Club   Barcelona          13   \n",
       "                   2024-08-27 Rayo Vallecano-Barcelona  Barcelona          22   \n",
       "                   2024-08-31 Barcelona-Real Valladolid Barcelona          23   \n",
       "                   2024-09-15 Girona-Barcelona          Barcelona          20   \n",
       "\n",
       "                                                                   Accurate passes (%)  \n",
       "league      season game                                 team                            \n",
       "ESP-La Liga 2425   2024-08-17 Valencia-Barcelona        Barcelona                 0.86  \n",
       "                   2024-08-24 Barcelona-Athletic Club   Barcelona                 0.88  \n",
       "                   2024-08-27 Rayo Vallecano-Barcelona  Barcelona                 0.84  \n",
       "                   2024-08-31 Barcelona-Real Valladolid Barcelona                 0.92  \n",
       "                   2024-09-15 Girona-Barcelona          Barcelona                 0.87  "
      ],
      "text/html": [
       "<div>\n",
       "<style scoped>\n",
       "    .dataframe tbody tr th:only-of-type {\n",
       "        vertical-align: middle;\n",
       "    }\n",
       "\n",
       "    .dataframe tbody tr th {\n",
       "        vertical-align: top;\n",
       "    }\n",
       "\n",
       "    .dataframe thead th {\n",
       "        text-align: right;\n",
       "    }\n",
       "</style>\n",
       "<table border=\"1\" class=\"dataframe\">\n",
       "  <thead>\n",
       "    <tr style=\"text-align: right;\">\n",
       "      <th></th>\n",
       "      <th></th>\n",
       "      <th></th>\n",
       "      <th></th>\n",
       "      <th>Accurate passes</th>\n",
       "      <th>Ball possession</th>\n",
       "      <th>Big chances</th>\n",
       "      <th>Big chances missed</th>\n",
       "      <th>Corners</th>\n",
       "      <th>Expected goals (xG)</th>\n",
       "      <th>Fouls committed</th>\n",
       "      <th>Shots on target</th>\n",
       "      <th>Total shots</th>\n",
       "      <th>Accurate passes (%)</th>\n",
       "    </tr>\n",
       "    <tr>\n",
       "      <th>league</th>\n",
       "      <th>season</th>\n",
       "      <th>game</th>\n",
       "      <th>team</th>\n",
       "      <th></th>\n",
       "      <th></th>\n",
       "      <th></th>\n",
       "      <th></th>\n",
       "      <th></th>\n",
       "      <th></th>\n",
       "      <th></th>\n",
       "      <th></th>\n",
       "      <th></th>\n",
       "      <th></th>\n",
       "    </tr>\n",
       "  </thead>\n",
       "  <tbody>\n",
       "    <tr>\n",
       "      <th rowspan=\"5\" valign=\"top\">ESP-La Liga</th>\n",
       "      <th rowspan=\"5\" valign=\"top\">2425</th>\n",
       "      <th>2024-08-17 Valencia-Barcelona</th>\n",
       "      <th>Barcelona</th>\n",
       "      <td>499</td>\n",
       "      <td>64</td>\n",
       "      <td>5</td>\n",
       "      <td>3</td>\n",
       "      <td>8</td>\n",
       "      <td>3.22</td>\n",
       "      <td>13</td>\n",
       "      <td>6</td>\n",
       "      <td>18</td>\n",
       "      <td>0.86</td>\n",
       "    </tr>\n",
       "    <tr>\n",
       "      <th>2024-08-24 Barcelona-Athletic Club</th>\n",
       "      <th>Barcelona</th>\n",
       "      <td>497</td>\n",
       "      <td>65</td>\n",
       "      <td>5</td>\n",
       "      <td>4</td>\n",
       "      <td>5</td>\n",
       "      <td>1.83</td>\n",
       "      <td>11</td>\n",
       "      <td>5</td>\n",
       "      <td>13</td>\n",
       "      <td>0.88</td>\n",
       "    </tr>\n",
       "    <tr>\n",
       "      <th>2024-08-27 Rayo Vallecano-Barcelona</th>\n",
       "      <th>Barcelona</th>\n",
       "      <td>444</td>\n",
       "      <td>65</td>\n",
       "      <td>1</td>\n",
       "      <td>1</td>\n",
       "      <td>6</td>\n",
       "      <td>1.41</td>\n",
       "      <td>11</td>\n",
       "      <td>5</td>\n",
       "      <td>22</td>\n",
       "      <td>0.84</td>\n",
       "    </tr>\n",
       "    <tr>\n",
       "      <th>2024-08-31 Barcelona-Real Valladolid</th>\n",
       "      <th>Barcelona</th>\n",
       "      <td>545</td>\n",
       "      <td>70</td>\n",
       "      <td>10</td>\n",
       "      <td>4</td>\n",
       "      <td>10</td>\n",
       "      <td>4.77</td>\n",
       "      <td>6</td>\n",
       "      <td>11</td>\n",
       "      <td>23</td>\n",
       "      <td>0.92</td>\n",
       "    </tr>\n",
       "    <tr>\n",
       "      <th>2024-09-15 Girona-Barcelona</th>\n",
       "      <th>Barcelona</th>\n",
       "      <td>414</td>\n",
       "      <td>55</td>\n",
       "      <td>4</td>\n",
       "      <td>2</td>\n",
       "      <td>6</td>\n",
       "      <td>1.88</td>\n",
       "      <td>4</td>\n",
       "      <td>9</td>\n",
       "      <td>20</td>\n",
       "      <td>0.87</td>\n",
       "    </tr>\n",
       "  </tbody>\n",
       "</table>\n",
       "</div>"
      ]
     },
     "execution_count": 6,
     "metadata": {},
     "output_type": "execute_result"
    }
   ],
   "execution_count": 6
  },
  {
   "metadata": {},
   "cell_type": "code",
   "outputs": [],
   "execution_count": null,
   "source": "",
   "id": "ced7431354b62e5d"
  }
 ],
 "metadata": {
  "kernelspec": {
   "display_name": "Python 3",
   "language": "python",
   "name": "python3"
  },
  "language_info": {
   "codemirror_mode": {
    "name": "ipython",
    "version": 2
   },
   "file_extension": ".py",
   "mimetype": "text/x-python",
   "name": "python",
   "nbconvert_exporter": "python",
   "pygments_lexer": "ipython2",
   "version": "2.7.6"
  }
 },
 "nbformat": 4,
 "nbformat_minor": 5
}
