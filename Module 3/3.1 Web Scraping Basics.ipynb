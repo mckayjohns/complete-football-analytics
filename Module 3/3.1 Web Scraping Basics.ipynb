{
 "cells": [
  {
   "cell_type": "markdown",
   "id": "250edc4c448fed01",
   "metadata": {
    "collapsed": false,
    "jupyter": {
     "outputs_hidden": false
    }
   },
   "source": [
    "# Web Scraping Basics\n",
    "\n",
    "Web scraping is a powerful tool to have as part of a data science, analyst, or engineering toolkit. \n",
    "It allows you to extract data from websites and use it for your own projects or analysis.\n",
    "\n",
    "In football analytics, web scraping can be used to collect data on players, teams, and matches.\n",
    "Most of the data that teams are using is coming from large and expensive data providers, but we can collect some of this data via web scraping.\n",
    "\n",
    "In this notebook, we will cover the basics of web scraping using Python and the `requests` and `BeautifulSoup` libraries.\n",
    "\n",
    "#### Web Scraping Steps\n",
    "1. Send an HTTP request to the URL of the webpage you want to access\n",
    "2. Get the HTML content of the webpage\n",
    "3. Parse the HTML content\n",
    "4. Extract the data"
   ]
  },
  {
   "cell_type": "code",
   "id": "58e872a85305f60b",
   "metadata": {
    "collapsed": false,
    "jupyter": {
     "outputs_hidden": false
    },
    "ExecuteTime": {
     "end_time": "2024-12-29T19:06:06.490253Z",
     "start_time": "2024-12-29T19:06:06.486725Z"
    }
   },
   "source": [
    "import requests\n",
    "from bs4 import BeautifulSoup"
   ],
   "outputs": [],
   "execution_count": 3
  },
  {
   "cell_type": "code",
   "id": "1ca0972c61b02590",
   "metadata": {
    "collapsed": false,
    "jupyter": {
     "outputs_hidden": false
    },
    "ExecuteTime": {
     "end_time": "2024-12-29T19:06:37.263297Z",
     "start_time": "2024-12-29T19:06:36.487978Z"
    }
   },
   "source": [
    "# We'll start by scraping a normal ecommerce website, Gymshark.com\n",
    "# First, we'll send an HTTP request to the URL of the webpage we want to access\n",
    "\n",
    "url = \"https://www.gymshark.com/products/gymshark-crest-hoodie-black-ss22\"\n",
    "\n",
    "# Let's also go get our headers to pass in\n",
    "headers = {\n",
    "    \"User-Agent\": \"Mozilla/5.0 (Macintosh; Intel Mac OS X 10_15_7) AppleWebKit/537.36 (KHTML, like Gecko) Chrome/121.0.0.0 Safari/537.36\"\n",
    "}\n",
    "\n",
    "response = requests.get(\n",
    "    url,\n",
    "    headers=headers\n",
    ")"
   ],
   "outputs": [],
   "execution_count": 5
  },
  {
   "cell_type": "code",
   "id": "6cb0b8d512a7053e",
   "metadata": {
    "collapsed": false,
    "jupyter": {
     "outputs_hidden": false
    },
    "ExecuteTime": {
     "end_time": "2024-12-29T19:06:37.957536Z",
     "start_time": "2024-12-29T19:06:37.950307Z"
    }
   },
   "source": [
    "# We can check the status code of the response to see if the request was successful\n",
    "response.status_code"
   ],
   "outputs": [
    {
     "data": {
      "text/plain": [
       "200"
      ]
     },
     "execution_count": 6,
     "metadata": {},
     "output_type": "execute_result"
    }
   ],
   "execution_count": 6
  },
  {
   "cell_type": "markdown",
   "id": "c896f750495c5d66",
   "metadata": {
    "collapsed": false,
    "jupyter": {
     "outputs_hidden": false
    }
   },
   "source": [
    "#### Status Codes\n",
    "You'll mainly see the following status codes when web scraping:\n",
    "\n",
    "- 200, the request was successful\n",
    "- 404, the page was not found\n",
    "- 403, access to the page was forbidden which means we need to add headers to our request or use a proxy\n",
    "- 500, there was an internal server error"
   ]
  },
  {
   "cell_type": "code",
   "id": "9c665a9b6ec39b66",
   "metadata": {
    "collapsed": false,
    "jupyter": {
     "outputs_hidden": false
    },
    "ExecuteTime": {
     "end_time": "2024-12-29T19:06:39.383105Z",
     "start_time": "2024-12-29T19:06:39.360991Z"
    }
   },
   "source": [
    "# We can then parse the HTML content of the webpage using BeautifulSoup\n",
    "soup = BeautifulSoup(response.content, \"html.parser\")"
   ],
   "outputs": [],
   "execution_count": 7
  },
  {
   "cell_type": "code",
   "id": "613c9912bb9b7fc5",
   "metadata": {
    "collapsed": false,
    "jupyter": {
     "outputs_hidden": false
    },
    "ExecuteTime": {
     "end_time": "2024-12-29T19:06:40.208516Z",
     "start_time": "2024-12-29T19:06:40.204907Z"
    }
   },
   "source": [
    "# Now let's use some css selectors to extract the data we want\n",
    "# Let's start off by getting the title of the product\n",
    "# To select just one element, we can use the `select_one` method\n",
    "title = soup.select_one('h1[class=\"product-information_title__3jR8K\"]').text"
   ],
   "outputs": [],
   "execution_count": 8
  },
  {
   "cell_type": "code",
   "id": "7d6763c6bc4096b",
   "metadata": {
    "collapsed": false,
    "jupyter": {
     "outputs_hidden": false
    },
    "ExecuteTime": {
     "end_time": "2024-12-29T19:06:41.066773Z",
     "start_time": "2024-12-29T19:06:41.061740Z"
    }
   },
   "source": [
    "# Now lets get the price of the product\n",
    "price = soup.select_one('div[class=\"product-information_price__pEWjj\"]').text"
   ],
   "outputs": [],
   "execution_count": 9
  },
  {
   "cell_type": "code",
   "id": "559e7b8b71f55096",
   "metadata": {
    "collapsed": false,
    "jupyter": {
     "outputs_hidden": false
    },
    "ExecuteTime": {
     "end_time": "2024-12-29T19:06:41.743108Z",
     "start_time": "2024-12-29T19:06:41.734567Z"
    }
   },
   "source": [
    "# Now let's try getting multiple elements\n",
    "# To do this, we can use the `select` method\n",
    "\n",
    "# Let's get the colors of the product\n",
    "# We can do pathings with css selectors to get to the element we want\n",
    "colors = soup.select('div[class=\"variants_variants__C9MOx\"] a img')"
   ],
   "outputs": [],
   "execution_count": 10
  },
  {
   "cell_type": "code",
   "id": "dd3a0df43986506",
   "metadata": {
    "collapsed": false,
    "jupyter": {
     "outputs_hidden": false
    },
    "ExecuteTime": {
     "end_time": "2024-12-29T19:06:42.652673Z",
     "start_time": "2024-12-29T19:06:42.650442Z"
    }
   },
   "source": [
    "# That returned a list of elements, so we can loop through them to get the text\n",
    "colors = [x.attrs['alt'].replace(title + ' in', '').strip() for x in colors]\n",
    "print(colors)"
   ],
   "outputs": [
    {
     "name": "stdout",
     "output_type": "stream",
     "text": [
      "['Light Grey Marl', 'Black', 'Navy']\n"
     ]
    }
   ],
   "execution_count": 11
  },
  {
   "cell_type": "markdown",
   "id": "ecb5bd38dfe6ab92",
   "metadata": {
    "collapsed": false,
    "jupyter": {
     "outputs_hidden": false
    }
   },
   "source": [
    "### Selector helpers\n",
    "- `soup.select_one` returns the first element that matches the selector\n",
    "- `soup.select` returns a list of elements that match the selector\n",
    "\n",
    "We can also use different ways to select elements so that it can be a wildcard, for example:\n",
    "- `*=` -> class name contains a value\n",
    "- `:-soup-contains()` -> text contains a value"
   ]
  },
  {
   "cell_type": "code",
   "id": "c7288da1d86a0531",
   "metadata": {
    "collapsed": false,
    "jupyter": {
     "outputs_hidden": false
    },
    "ExecuteTime": {
     "end_time": "2024-12-29T19:06:44.482540Z",
     "start_time": "2024-12-29T19:06:44.478730Z"
    }
   },
   "source": [
    "# So we could rewrite colors as \n",
    "colors = soup.select(f'img[alt*=\"{title} in \"]')"
   ],
   "outputs": [],
   "execution_count": 12
  },
  {
   "cell_type": "code",
   "id": "772ab5d79b0601da",
   "metadata": {
    "collapsed": false,
    "jupyter": {
     "outputs_hidden": false
    },
    "ExecuteTime": {
     "end_time": "2024-12-29T19:06:45.270627Z",
     "start_time": "2024-12-29T19:06:45.267027Z"
    }
   },
   "source": [
    "# if we wanted to get the button that had the \"add to bag\"\n",
    "add_to_bag = soup.select_one('button:-soup-contains(\"Add to bag\")')"
   ],
   "outputs": [],
   "execution_count": 13
  },
  {
   "cell_type": "markdown",
   "id": "ff4e6cb4154054df",
   "metadata": {
    "collapsed": false,
    "jupyter": {
     "outputs_hidden": false
    }
   },
   "source": [
    "### Exercise:\n",
    "\n",
    "Now that you've seen how to get the colors, use the same method to get the sizes of the product\n",
    "Make sure that you only select the sizes for this specific product and not all the sizes on the page (There should be 7)"
   ]
  },
  {
   "cell_type": "code",
   "id": "7ea2f999f000f26",
   "metadata": {
    "collapsed": false,
    "jupyter": {
     "outputs_hidden": false
    },
    "ExecuteTime": {
     "end_time": "2024-12-29T19:06:48.311027Z",
     "start_time": "2024-12-29T19:06:48.308842Z"
    }
   },
   "source": [
    "sizes = \"YOUR CODE HERE\""
   ],
   "outputs": [],
   "execution_count": 14
  },
  {
   "cell_type": "code",
   "id": "f839278b1fee9ac7",
   "metadata": {
    "collapsed": false,
    "jupyter": {
     "outputs_hidden": false
    },
    "ExecuteTime": {
     "end_time": "2024-12-29T19:15:27.631958Z",
     "start_time": "2024-12-29T19:15:27.627811Z"
    }
   },
   "source": [
    "# This is one of the couple of ways to do it\n",
    "sizes = soup.select('fieldset[class*=\"add-to-cart_sizes__MFqYI\"] label[data-locator-id*=\"pdp-size\"]')"
   ],
   "outputs": [],
   "execution_count": 30
  },
  {
   "metadata": {
    "ExecuteTime": {
     "end_time": "2024-12-29T19:15:27.941024Z",
     "start_time": "2024-12-29T19:15:27.938338Z"
    }
   },
   "cell_type": "code",
   "source": "[x.text for x in sizes]",
   "id": "922e7c7696e93375",
   "outputs": [
    {
     "data": {
      "text/plain": [
       "['xs', 's', 'm', 'l', 'xl', 'xxl', '3xl']"
      ]
     },
     "execution_count": 31,
     "metadata": {},
     "output_type": "execute_result"
    }
   ],
   "execution_count": 31
  },
  {
   "metadata": {},
   "cell_type": "code",
   "outputs": [],
   "execution_count": null,
   "source": "",
   "id": "356e1d186efd4737"
  }
 ],
 "metadata": {
  "kernelspec": {
   "display_name": "Python 3 (ipykernel)",
   "language": "python",
   "name": "python3"
  },
  "language_info": {
   "codemirror_mode": {
    "name": "ipython",
    "version": 3
   },
   "file_extension": ".py",
   "mimetype": "text/x-python",
   "name": "python",
   "nbconvert_exporter": "python",
   "pygments_lexer": "ipython3",
   "version": "3.11.7"
  }
 },
 "nbformat": 4,
 "nbformat_minor": 5
}
