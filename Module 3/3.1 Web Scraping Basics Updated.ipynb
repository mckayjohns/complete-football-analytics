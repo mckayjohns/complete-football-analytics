{
 "cells": [
  {
   "cell_type": "markdown",
   "id": "250edc4c448fed01",
   "metadata": {
    "collapsed": false,
    "jupyter": {
     "outputs_hidden": false
    }
   },
   "source": [
    "# Web Scraping Basics\n",
    "\n",
    "Web scraping is a powerful tool to have as part of a data science, analyst, or engineering toolkit. \n",
    "It allows you to extract data from websites and use it for your own projects or analysis.\n",
    "\n",
    "In football analytics, web scraping can be used to collect data on players, teams, and matches.\n",
    "Most of the data that teams are using is coming from large and expensive data providers, but we can collect some of this data via web scraping.\n",
    "\n",
    "In this notebook, we will cover the basics of web scraping using Python and the `requests` and `BeautifulSoup` libraries.\n",
    "\n",
    "#### Web Scraping Steps\n",
    "1. Send an HTTP request to the URL of the webpage you want to access\n",
    "2. Get the HTML content of the webpage\n",
    "3. Parse the HTML content\n",
    "4. Extract the data"
   ]
  },
  {
   "cell_type": "code",
   "id": "58e872a85305f60b",
   "metadata": {
    "collapsed": false,
    "jupyter": {
     "outputs_hidden": false
    },
    "ExecuteTime": {
     "end_time": "2025-02-15T15:13:58.895702Z",
     "start_time": "2025-02-15T15:13:58.780107Z"
    }
   },
   "source": [
    "import requests\n",
    "from bs4 import BeautifulSoup"
   ],
   "outputs": [],
   "execution_count": 2
  },
  {
   "cell_type": "code",
   "id": "1ca0972c61b02590",
   "metadata": {
    "collapsed": false,
    "jupyter": {
     "outputs_hidden": false
    },
    "ExecuteTime": {
     "end_time": "2025-02-15T15:14:00.361457Z",
     "start_time": "2025-02-15T15:13:59.773040Z"
    }
   },
   "source": [
    "# We'll start by scraping a normal ecommerce website, Gymshark.com\n",
    "# First, we'll send an HTTP request to the URL of the webpage we want to access\n",
    "url = \"https://www.scrapethissite.com/pages/simple/\"\n",
    "\n",
    "# Let's also go get our headers to pass in\n",
    "headers = {\n",
    "    \"User-Agent\": \"Mozilla/5.0 (Macintosh; Intel Mac OS X 10_15_7) AppleWebKit/537.36 (KHTML, like Gecko) Chrome/121.0.0.0 Safari/537.36\"\n",
    "}\n",
    "\n",
    "response = requests.get(\n",
    "    url,\n",
    "    headers=headers\n",
    ")"
   ],
   "outputs": [],
   "execution_count": 3
  },
  {
   "cell_type": "code",
   "id": "6cb0b8d512a7053e",
   "metadata": {
    "collapsed": false,
    "jupyter": {
     "outputs_hidden": false
    },
    "ExecuteTime": {
     "end_time": "2025-02-15T15:14:01.005629Z",
     "start_time": "2025-02-15T15:14:01.001471Z"
    }
   },
   "source": [
    "# We can check the status code of the response to see if the request was successful\n",
    "response.status_code"
   ],
   "outputs": [
    {
     "data": {
      "text/plain": [
       "200"
      ]
     },
     "execution_count": 4,
     "metadata": {},
     "output_type": "execute_result"
    }
   ],
   "execution_count": 4
  },
  {
   "cell_type": "markdown",
   "id": "c896f750495c5d66",
   "metadata": {
    "collapsed": false,
    "jupyter": {
     "outputs_hidden": false
    }
   },
   "source": [
    "#### Status Codes\n",
    "You'll mainly see the following status codes when web scraping:\n",
    "\n",
    "- 200, the request was successful\n",
    "- 404, the page was not found\n",
    "- 403, access to the page was forbidden which means we need to add headers to our request or use a proxy\n",
    "- 500, there was an internal server error"
   ]
  },
  {
   "cell_type": "code",
   "id": "9c665a9b6ec39b66",
   "metadata": {
    "collapsed": false,
    "jupyter": {
     "outputs_hidden": false
    },
    "ExecuteTime": {
     "end_time": "2025-02-15T15:14:06.164830Z",
     "start_time": "2025-02-15T15:14:06.077519Z"
    }
   },
   "source": [
    "# We can then parse the HTML content of the webpage using BeautifulSoup\n",
    "soup = BeautifulSoup(response.content, \"html.parser\")"
   ],
   "outputs": [],
   "execution_count": 5
  },
  {
   "cell_type": "code",
   "id": "613c9912bb9b7fc5",
   "metadata": {
    "collapsed": false,
    "jupyter": {
     "outputs_hidden": false
    },
    "ExecuteTime": {
     "end_time": "2025-02-15T15:15:15.978347Z",
     "start_time": "2025-02-15T15:15:15.972579Z"
    }
   },
   "source": [
    "# Now let's use some css selectors to extract the data we want\n",
    "# Let's start off by getting the page title\n",
    "# To select just one element, we can use the `select_one` method\n",
    "title = soup.select_one('h1').text\n",
    "print(title)"
   ],
   "outputs": [
    {
     "name": "stdout",
     "output_type": "stream",
     "text": [
      "\n",
      "                            Countries of the World: A Simple Example\n",
      "                            250 items\n",
      "\n"
     ]
    }
   ],
   "execution_count": 6
  },
  {
   "cell_type": "code",
   "id": "7d6763c6bc4096b",
   "metadata": {
    "collapsed": false,
    "jupyter": {
     "outputs_hidden": false
    },
    "ExecuteTime": {
     "end_time": "2025-02-15T15:15:58.736189Z",
     "start_time": "2025-02-15T15:15:58.730415Z"
    }
   },
   "source": [
    "# Now lets get the description of the page\n",
    "price = soup.select_one('p[class=\"lead\"]').text\n",
    "print(price)"
   ],
   "outputs": [
    {
     "name": "stdout",
     "output_type": "stream",
     "text": [
      "\n",
      "                            A single page that lists information about all the countries in the world. Good for those just get started with web scraping.\n",
      "                            Practice looking for patterns in the HTML that will allow you to extract information about each country. Then, build a simple web scraper that makes a request to this page, parses the HTML and prints out each country's name.\n",
      "                        \n"
     ]
    }
   ],
   "execution_count": 7
  },
  {
   "cell_type": "code",
   "id": "559e7b8b71f55096",
   "metadata": {
    "collapsed": false,
    "jupyter": {
     "outputs_hidden": false
    },
    "ExecuteTime": {
     "end_time": "2025-02-15T15:18:03.032438Z",
     "start_time": "2025-02-15T15:18:03.022081Z"
    }
   },
   "source": [
    "# Now let's try getting multiple elements\n",
    "# To do this, we can use the `select` method\n",
    "\n",
    "# Let's get all of the country names\n",
    "country_names = soup.select('h3[class=\"country-name\"]')\n",
    "print(country_names[0:5])"
   ],
   "outputs": [
    {
     "name": "stdout",
     "output_type": "stream",
     "text": [
      "[<h3 class=\"country-name\">\n",
      "<i class=\"flag-icon flag-icon-ad\"></i>\n",
      "                            Andorra\n",
      "                        </h3>, <h3 class=\"country-name\">\n",
      "<i class=\"flag-icon flag-icon-ae\"></i>\n",
      "                            United Arab Emirates\n",
      "                        </h3>, <h3 class=\"country-name\">\n",
      "<i class=\"flag-icon flag-icon-af\"></i>\n",
      "                            Afghanistan\n",
      "                        </h3>, <h3 class=\"country-name\">\n",
      "<i class=\"flag-icon flag-icon-ag\"></i>\n",
      "                            Antigua and Barbuda\n",
      "                        </h3>, <h3 class=\"country-name\">\n",
      "<i class=\"flag-icon flag-icon-ai\"></i>\n",
      "                            Anguilla\n",
      "                        </h3>]\n"
     ]
    }
   ],
   "execution_count": 12
  },
  {
   "metadata": {
    "ExecuteTime": {
     "end_time": "2025-02-15T15:18:03.637864Z",
     "start_time": "2025-02-15T15:18:03.634458Z"
    }
   },
   "cell_type": "code",
   "source": [
    "# filter to just the text\n",
    "country_names = [x.text.strip() for x in country_names]\n",
    "print(country_names)"
   ],
   "id": "ca0d5468c01d477d",
   "outputs": [
    {
     "name": "stdout",
     "output_type": "stream",
     "text": [
      "['Andorra', 'United Arab Emirates', 'Afghanistan', 'Antigua and Barbuda', 'Anguilla', 'Albania', 'Armenia', 'Angola', 'Antarctica', 'Argentina', 'American Samoa', 'Austria', 'Australia', 'Aruba', 'Åland', 'Azerbaijan', 'Bosnia and Herzegovina', 'Barbados', 'Bangladesh', 'Belgium', 'Burkina Faso', 'Bulgaria', 'Bahrain', 'Burundi', 'Benin', 'Saint Barthélemy', 'Bermuda', 'Brunei', 'Bolivia', 'Bonaire', 'Brazil', 'Bahamas', 'Bhutan', 'Bouvet Island', 'Botswana', 'Belarus', 'Belize', 'Canada', 'Cocos [Keeling] Islands', 'Democratic Republic of the Congo', 'Central African Republic', 'Republic of the Congo', 'Switzerland', 'Ivory Coast', 'Cook Islands', 'Chile', 'Cameroon', 'China', 'Colombia', 'Costa Rica', 'Cuba', 'Cape Verde', 'Curacao', 'Christmas Island', 'Cyprus', 'Czech Republic', 'Germany', 'Djibouti', 'Denmark', 'Dominica', 'Dominican Republic', 'Algeria', 'Ecuador', 'Estonia', 'Egypt', 'Western Sahara', 'Eritrea', 'Spain', 'Ethiopia', 'Finland', 'Fiji', 'Falkland Islands', 'Micronesia', 'Faroe Islands', 'France', 'Gabon', 'United Kingdom', 'Grenada', 'Georgia', 'French Guiana', 'Guernsey', 'Ghana', 'Gibraltar', 'Greenland', 'Gambia', 'Guinea', 'Guadeloupe', 'Equatorial Guinea', 'Greece', 'South Georgia and the South Sandwich Islands', 'Guatemala', 'Guam', 'Guinea-Bissau', 'Guyana', 'Hong Kong', 'Heard Island and McDonald Islands', 'Honduras', 'Croatia', 'Haiti', 'Hungary', 'Indonesia', 'Ireland', 'Israel', 'Isle of Man', 'India', 'British Indian Ocean Territory', 'Iraq', 'Iran', 'Iceland', 'Italy', 'Jersey', 'Jamaica', 'Jordan', 'Japan', 'Kenya', 'Kyrgyzstan', 'Cambodia', 'Kiribati', 'Comoros', 'Saint Kitts and Nevis', 'North Korea', 'South Korea', 'Kuwait', 'Cayman Islands', 'Kazakhstan', 'Laos', 'Lebanon', 'Saint Lucia', 'Liechtenstein', 'Sri Lanka', 'Liberia', 'Lesotho', 'Lithuania', 'Luxembourg', 'Latvia', 'Libya', 'Morocco', 'Monaco', 'Moldova', 'Montenegro', 'Saint Martin', 'Madagascar', 'Marshall Islands', 'Macedonia', 'Mali', 'Myanmar [Burma]', 'Mongolia', 'Macao', 'Northern Mariana Islands', 'Martinique', 'Mauritania', 'Montserrat', 'Malta', 'Mauritius', 'Maldives', 'Malawi', 'Mexico', 'Malaysia', 'Mozambique', 'Namibia', 'New Caledonia', 'Niger', 'Norfolk Island', 'Nigeria', 'Nicaragua', 'Netherlands', 'Norway', 'Nepal', 'Nauru', 'Niue', 'New Zealand', 'Oman', 'Panama', 'Peru', 'French Polynesia', 'Papua New Guinea', 'Philippines', 'Pakistan', 'Poland', 'Saint Pierre and Miquelon', 'Pitcairn Islands', 'Puerto Rico', 'Palestine', 'Portugal', 'Palau', 'Paraguay', 'Qatar', 'Réunion', 'Romania', 'Serbia', 'Russia', 'Rwanda', 'Saudi Arabia', 'Solomon Islands', 'Seychelles', 'Sudan', 'Sweden', 'Singapore', 'Saint Helena', 'Slovenia', 'Svalbard and Jan Mayen', 'Slovakia', 'Sierra Leone', 'San Marino', 'Senegal', 'Somalia', 'Suriname', 'South Sudan', 'São Tomé and Príncipe', 'El Salvador', 'Sint Maarten', 'Syria', 'Swaziland', 'Turks and Caicos Islands', 'Chad', 'French Southern Territories', 'Togo', 'Thailand', 'Tajikistan', 'Tokelau', 'East Timor', 'Turkmenistan', 'Tunisia', 'Tonga', 'Turkey', 'Trinidad and Tobago', 'Tuvalu', 'Taiwan', 'Tanzania', 'Ukraine', 'Uganda', 'U.S. Minor Outlying Islands', 'United States', 'Uruguay', 'Uzbekistan', 'Vatican City', 'Saint Vincent and the Grenadines', 'Venezuela', 'British Virgin Islands', 'U.S. Virgin Islands', 'Vietnam', 'Vanuatu', 'Wallis and Futuna', 'Samoa', 'Kosovo', 'Yemen', 'Mayotte', 'South Africa', 'Zambia', 'Zimbabwe']\n"
     ]
    }
   ],
   "execution_count": 13
  },
  {
   "cell_type": "markdown",
   "id": "ecb5bd38dfe6ab92",
   "metadata": {
    "collapsed": false,
    "jupyter": {
     "outputs_hidden": false
    }
   },
   "source": [
    "### Selector helpers\n",
    "- `soup.select_one` returns the first element that matches the selector\n",
    "- `soup.select` returns a list of elements that match the selector\n",
    "\n",
    "We can also use different ways to select elements so that it can be a wildcard, for example:\n",
    "- `*=` -> class name contains a value\n",
    "- `:-soup-contains()` -> text contains a value"
   ]
  },
  {
   "cell_type": "code",
   "id": "c7288da1d86a0531",
   "metadata": {
    "collapsed": false,
    "jupyter": {
     "outputs_hidden": false
    },
    "ExecuteTime": {
     "end_time": "2025-02-15T15:21:53.431114Z",
     "start_time": "2025-02-15T15:21:53.421452Z"
    }
   },
   "source": [
    "# So we could rewrite the above code to be more specific\n",
    "wild_card_names = soup.select(f'h3[class*=\"-name\"]')\n",
    "wild_card_names = [x.text.strip() for x in wild_card_names]\n",
    "print(wild_card_names)"
   ],
   "outputs": [
    {
     "name": "stdout",
     "output_type": "stream",
     "text": [
      "['Andorra', 'United Arab Emirates', 'Afghanistan', 'Antigua and Barbuda', 'Anguilla', 'Albania', 'Armenia', 'Angola', 'Antarctica', 'Argentina', 'American Samoa', 'Austria', 'Australia', 'Aruba', 'Åland', 'Azerbaijan', 'Bosnia and Herzegovina', 'Barbados', 'Bangladesh', 'Belgium', 'Burkina Faso', 'Bulgaria', 'Bahrain', 'Burundi', 'Benin', 'Saint Barthélemy', 'Bermuda', 'Brunei', 'Bolivia', 'Bonaire', 'Brazil', 'Bahamas', 'Bhutan', 'Bouvet Island', 'Botswana', 'Belarus', 'Belize', 'Canada', 'Cocos [Keeling] Islands', 'Democratic Republic of the Congo', 'Central African Republic', 'Republic of the Congo', 'Switzerland', 'Ivory Coast', 'Cook Islands', 'Chile', 'Cameroon', 'China', 'Colombia', 'Costa Rica', 'Cuba', 'Cape Verde', 'Curacao', 'Christmas Island', 'Cyprus', 'Czech Republic', 'Germany', 'Djibouti', 'Denmark', 'Dominica', 'Dominican Republic', 'Algeria', 'Ecuador', 'Estonia', 'Egypt', 'Western Sahara', 'Eritrea', 'Spain', 'Ethiopia', 'Finland', 'Fiji', 'Falkland Islands', 'Micronesia', 'Faroe Islands', 'France', 'Gabon', 'United Kingdom', 'Grenada', 'Georgia', 'French Guiana', 'Guernsey', 'Ghana', 'Gibraltar', 'Greenland', 'Gambia', 'Guinea', 'Guadeloupe', 'Equatorial Guinea', 'Greece', 'South Georgia and the South Sandwich Islands', 'Guatemala', 'Guam', 'Guinea-Bissau', 'Guyana', 'Hong Kong', 'Heard Island and McDonald Islands', 'Honduras', 'Croatia', 'Haiti', 'Hungary', 'Indonesia', 'Ireland', 'Israel', 'Isle of Man', 'India', 'British Indian Ocean Territory', 'Iraq', 'Iran', 'Iceland', 'Italy', 'Jersey', 'Jamaica', 'Jordan', 'Japan', 'Kenya', 'Kyrgyzstan', 'Cambodia', 'Kiribati', 'Comoros', 'Saint Kitts and Nevis', 'North Korea', 'South Korea', 'Kuwait', 'Cayman Islands', 'Kazakhstan', 'Laos', 'Lebanon', 'Saint Lucia', 'Liechtenstein', 'Sri Lanka', 'Liberia', 'Lesotho', 'Lithuania', 'Luxembourg', 'Latvia', 'Libya', 'Morocco', 'Monaco', 'Moldova', 'Montenegro', 'Saint Martin', 'Madagascar', 'Marshall Islands', 'Macedonia', 'Mali', 'Myanmar [Burma]', 'Mongolia', 'Macao', 'Northern Mariana Islands', 'Martinique', 'Mauritania', 'Montserrat', 'Malta', 'Mauritius', 'Maldives', 'Malawi', 'Mexico', 'Malaysia', 'Mozambique', 'Namibia', 'New Caledonia', 'Niger', 'Norfolk Island', 'Nigeria', 'Nicaragua', 'Netherlands', 'Norway', 'Nepal', 'Nauru', 'Niue', 'New Zealand', 'Oman', 'Panama', 'Peru', 'French Polynesia', 'Papua New Guinea', 'Philippines', 'Pakistan', 'Poland', 'Saint Pierre and Miquelon', 'Pitcairn Islands', 'Puerto Rico', 'Palestine', 'Portugal', 'Palau', 'Paraguay', 'Qatar', 'Réunion', 'Romania', 'Serbia', 'Russia', 'Rwanda', 'Saudi Arabia', 'Solomon Islands', 'Seychelles', 'Sudan', 'Sweden', 'Singapore', 'Saint Helena', 'Slovenia', 'Svalbard and Jan Mayen', 'Slovakia', 'Sierra Leone', 'San Marino', 'Senegal', 'Somalia', 'Suriname', 'South Sudan', 'São Tomé and Príncipe', 'El Salvador', 'Sint Maarten', 'Syria', 'Swaziland', 'Turks and Caicos Islands', 'Chad', 'French Southern Territories', 'Togo', 'Thailand', 'Tajikistan', 'Tokelau', 'East Timor', 'Turkmenistan', 'Tunisia', 'Tonga', 'Turkey', 'Trinidad and Tobago', 'Tuvalu', 'Taiwan', 'Tanzania', 'Ukraine', 'Uganda', 'U.S. Minor Outlying Islands', 'United States', 'Uruguay', 'Uzbekistan', 'Vatican City', 'Saint Vincent and the Grenadines', 'Venezuela', 'British Virgin Islands', 'U.S. Virgin Islands', 'Vietnam', 'Vanuatu', 'Wallis and Futuna', 'Samoa', 'Kosovo', 'Yemen', 'Mayotte', 'South Africa', 'Zambia', 'Zimbabwe']\n"
     ]
    }
   ],
   "execution_count": 16
  },
  {
   "cell_type": "code",
   "id": "772ab5d79b0601da",
   "metadata": {
    "collapsed": false,
    "jupyter": {
     "outputs_hidden": false
    },
    "ExecuteTime": {
     "end_time": "2025-02-15T15:22:42.936819Z",
     "start_time": "2025-02-15T15:22:42.933689Z"
    }
   },
   "source": [
    "# if we wanted to get a specific country name with the selector\n",
    "andorra = soup.select_one('h3:-soup-contains(\"Andorra\")').text\n",
    "print(andorra.strip())"
   ],
   "outputs": [
    {
     "name": "stdout",
     "output_type": "stream",
     "text": [
      "Andorra\n"
     ]
    }
   ],
   "execution_count": 19
  },
  {
   "metadata": {
    "ExecuteTime": {
     "end_time": "2025-02-15T15:29:06.928379Z",
     "start_time": "2025-02-15T15:29:06.901190Z"
    }
   },
   "cell_type": "code",
   "source": [
    "# One last thing we can do is step down the tree\n",
    "# For example, we can get the country population by stepping down the tree\n",
    "population = soup.select('div[class=\"country-info\"] span[class*=\"population\"]')\n",
    "print([x.text for x in population])"
   ],
   "id": "ea4008bedb1e6bba",
   "outputs": [
    {
     "name": "stdout",
     "output_type": "stream",
     "text": [
      "['84000', '4975593', '29121286', '86754', '13254', '2986952', '2968000', '13068161', '0', '41343201', '57881', '8205000', '21515754', '71566', '26711', '8303512', '4590000', '285653', '156118464', '10403000', '16241811', '7148785', '738004', '9863117', '9056010', '8450', '65365', '395027', '9947418', '18012', '201103330', '301790', '699847', '0', '2029307', '9685000', '314522', '33679000', '628', '70916439', '4844927', '3039126', '7581000', '21058798', '21388', '16746491', '19294149', '1330044000', '47790000', '4516220', '11423000', '508659', '141766', '1500', '1102677', '10476000', '81802257', '740528', '5484000', '72813', '9823821', '34586184', '14790608', '1291170', '80471869', '273008', '5792984', '46505963', '88013491', '5244000', '875983', '2638', '107708', '48228', '64768389', '1545255', '62348447', '107818', '4630000', '195506', '65228', '24339838', '27884', '56375', '1593256', '10324025', '443000', '1014999', '11000000', '30', '13550440', '159358', '1565126', '748486', '6898686', '0', '7989415', '4491000', '9648924', '9982000', '242968342', '4622917', '7353985', '75049', '1173108018', '4000', '29671605', '76923300', '308910', '60340328', '90812', '2847232', '6407085', '127288000', '40046566', '5776500', '14453680', '92533', '773407', '51134', '22912177', '48422644', '2789132', '44270', '15340000', '6368162', '4125247', '160922', '35000', '21513990', '3685076', '1919552', '2944459', '497538', '2217969', '6461454', '31627428', '32965', '4324000', '666730', '35925', '21281844', '65859', '2062294', '13796354', '53414374', '3086918', '449198', '53883', '432900', '3205060', '9341', '403000', '1294104', '395650', '15447500', '112468855', '28274729', '22061451', '2128471', '216494', '15878271', '1828', '154000000', '5995928', '16645000', '5009150', '28951852', '10065', '2166', '4252277', '2967717', '3410676', '29907003', '270485', '6064515', '99900177', '184404791', '38500000', '7012', '46', '3916632', '3800000', '10676000', '19907', '6375830', '840926', '776948', '21959278', '7344847', '140702000', '11055976', '25731776', '559198', '88340', '35000000', '9828655', '4701069', '7460', '2007000', '2550', '5455000', '5245695', '31477', '12323252', '10112453', '492829', '8260490', '175808', '6052064', '37429', '22198110', '1354051', '20556', '10543464', '140', '6587239', '67089500', '7487489', '1466', '1154625', '4940916', '10589025', '122580', '77804122', '1228691', '10472', '22894384', '41892895', '45415596', '33398682', '0', '310232863', '3477000', '27865738', '921', '104217', '27223228', '21730', '108708', '89571130', '221552', '16025', '192001', '1800000', '23495361', '159042', '49000000', '13460305', '11651858']\n"
     ]
    }
   ],
   "execution_count": 20
  },
  {
   "cell_type": "markdown",
   "id": "ff4e6cb4154054df",
   "metadata": {
    "collapsed": false,
    "jupyter": {
     "outputs_hidden": false
    }
   },
   "source": [
    "### Exercise:\n",
    "\n",
    "Now that you've seen how to get the country names, use the same method to get the capital cities of the countries."
   ]
  },
  {
   "cell_type": "code",
   "id": "7ea2f999f000f26",
   "metadata": {
    "collapsed": false,
    "jupyter": {
     "outputs_hidden": false
    },
    "ExecuteTime": {
     "end_time": "2024-12-29T19:06:48.311027Z",
     "start_time": "2024-12-29T19:06:48.308842Z"
    }
   },
   "source": "capitals = \"YOUR CODE HERE\"",
   "outputs": [],
   "execution_count": 14
  },
  {
   "cell_type": "code",
   "id": "f839278b1fee9ac7",
   "metadata": {
    "collapsed": false,
    "jupyter": {
     "outputs_hidden": false
    },
    "ExecuteTime": {
     "end_time": "2025-02-15T15:29:50.491911Z",
     "start_time": "2025-02-15T15:29:50.476771Z"
    }
   },
   "source": [
    "# This is one of the couple of ways to do it\n",
    "capitals = soup.select('span[class=\"country-capital\"]')\n",
    "print([x.text.strip() for x in capitals])"
   ],
   "outputs": [
    {
     "name": "stdout",
     "output_type": "stream",
     "text": [
      "['Andorra la Vella', 'Abu Dhabi', 'Kabul', \"St. John's\", 'The Valley', 'Tirana', 'Yerevan', 'Luanda', 'None', 'Buenos Aires', 'Pago Pago', 'Vienna', 'Canberra', 'Oranjestad', 'Mariehamn', 'Baku', 'Sarajevo', 'Bridgetown', 'Dhaka', 'Brussels', 'Ouagadougou', 'Sofia', 'Manama', 'Bujumbura', 'Porto-Novo', 'Gustavia', 'Hamilton', 'Bandar Seri Begawan', 'Sucre', 'Kralendijk', 'Brasília', 'Nassau', 'Thimphu', 'None', 'Gaborone', 'Minsk', 'Belmopan', 'Ottawa', 'West Island', 'Kinshasa', 'Bangui', 'Brazzaville', 'Bern', 'Yamoussoukro', 'Avarua', 'Santiago', 'Yaoundé', 'Beijing', 'Bogotá', 'San José', 'Havana', 'Praia', 'Willemstad', 'Flying Fish Cove', 'Nicosia', 'Prague', 'Berlin', 'Djibouti', 'Copenhagen', 'Roseau', 'Santo Domingo', 'Algiers', 'Quito', 'Tallinn', 'Cairo', 'Laâyoune / El Aaiún', 'Asmara', 'Madrid', 'Addis Ababa', 'Helsinki', 'Suva', 'Stanley', 'Palikir', 'Tórshavn', 'Paris', 'Libreville', 'London', \"St. George's\", 'Tbilisi', 'Cayenne', 'St Peter Port', 'Accra', 'Gibraltar', 'Nuuk', 'Bathurst', 'Conakry', 'Basse-Terre', 'Malabo', 'Athens', 'Grytviken', 'Guatemala City', 'Hagåtña', 'Bissau', 'Georgetown', 'Hong Kong', 'None', 'Tegucigalpa', 'Zagreb', 'Port-au-Prince', 'Budapest', 'Jakarta', 'Dublin', 'None', 'Douglas', 'New Delhi', 'None', 'Baghdad', 'Tehran', 'Reykjavik', 'Rome', 'Saint Helier', 'Kingston', 'Amman', 'Tokyo', 'Nairobi', 'Bishkek', 'Phnom Penh', 'Tarawa', 'Moroni', 'Basseterre', 'Pyongyang', 'Seoul', 'Kuwait City', 'George Town', 'Astana', 'Vientiane', 'Beirut', 'Castries', 'Vaduz', 'Colombo', 'Monrovia', 'Maseru', 'Vilnius', 'Luxembourg', 'Riga', 'Tripoli', 'Rabat', 'Monaco', 'Chişinău', 'Podgorica', 'Marigot', 'Antananarivo', 'Majuro', 'Skopje', 'Bamako', 'Naypyitaw', 'Ulan Bator', 'Macao', 'Saipan', 'Fort-de-France', 'Nouakchott', 'Plymouth', 'Valletta', 'Port Louis', 'Malé', 'Lilongwe', 'Mexico City', 'Kuala Lumpur', 'Maputo', 'Windhoek', 'Noumea', 'Niamey', 'Kingston', 'Abuja', 'Managua', 'Amsterdam', 'Oslo', 'Kathmandu', 'Yaren', 'Alofi', 'Wellington', 'Muscat', 'Panama City', 'Lima', 'Papeete', 'Port Moresby', 'Manila', 'Islamabad', 'Warsaw', 'Saint-Pierre', 'Adamstown', 'San Juan', 'None', 'Lisbon', 'Melekeok', 'Asunción', 'Doha', 'Saint-Denis', 'Bucharest', 'Belgrade', 'Moscow', 'Kigali', 'Riyadh', 'Honiara', 'Victoria', 'Khartoum', 'Stockholm', 'Singapore', 'Jamestown', 'Ljubljana', 'Longyearbyen', 'Bratislava', 'Freetown', 'San Marino', 'Dakar', 'Mogadishu', 'Paramaribo', 'Juba', 'São Tomé', 'San Salvador', 'Philipsburg', 'Damascus', 'Mbabane', 'Cockburn Town', \"N'Djamena\", 'Port-aux-Français', 'Lomé', 'Bangkok', 'Dushanbe', 'None', 'Dili', 'Ashgabat', 'Tunis', \"Nuku'alofa\", 'Ankara', 'Port of Spain', 'Funafuti', 'Taipei', 'Dodoma', 'Kiev', 'Kampala', 'None', 'Washington', 'Montevideo', 'Tashkent', 'Vatican City', 'Kingstown', 'Caracas', 'Road Town', 'Charlotte Amalie', 'Hanoi', 'Port Vila', 'Mata-Utu', 'Apia', 'Pristina', 'Sanaa', 'Mamoudzou', 'Pretoria', 'Lusaka', 'Harare']\n"
     ]
    }
   ],
   "execution_count": 21
  },
  {
   "metadata": {
    "ExecuteTime": {
     "end_time": "2025-02-15T15:29:53.858592Z",
     "start_time": "2025-02-15T15:29:53.844386Z"
    }
   },
   "cell_type": "code",
   "source": [
    "# This is another way to do it\n",
    "capitals = soup.select('div[class=\"country-info\"] span[class*=\"capital\"]')\n",
    "print([x.text for x in capitals])"
   ],
   "id": "356e1d186efd4737",
   "outputs": [
    {
     "name": "stdout",
     "output_type": "stream",
     "text": [
      "['Andorra la Vella', 'Abu Dhabi', 'Kabul', \"St. John's\", 'The Valley', 'Tirana', 'Yerevan', 'Luanda', 'None', 'Buenos Aires', 'Pago Pago', 'Vienna', 'Canberra', 'Oranjestad', 'Mariehamn', 'Baku', 'Sarajevo', 'Bridgetown', 'Dhaka', 'Brussels', 'Ouagadougou', 'Sofia', 'Manama', 'Bujumbura', 'Porto-Novo', 'Gustavia', 'Hamilton', 'Bandar Seri Begawan', 'Sucre', 'Kralendijk', 'Brasília', 'Nassau', 'Thimphu', 'None', 'Gaborone', 'Minsk', 'Belmopan', 'Ottawa', 'West Island', 'Kinshasa', 'Bangui', 'Brazzaville', 'Bern', 'Yamoussoukro', 'Avarua', 'Santiago', 'Yaoundé', 'Beijing', 'Bogotá', 'San José', 'Havana', 'Praia', 'Willemstad', 'Flying Fish Cove', 'Nicosia', 'Prague', 'Berlin', 'Djibouti', 'Copenhagen', 'Roseau', 'Santo Domingo', 'Algiers', 'Quito', 'Tallinn', 'Cairo', 'Laâyoune / El Aaiún', 'Asmara', 'Madrid', 'Addis Ababa', 'Helsinki', 'Suva', 'Stanley', 'Palikir', 'Tórshavn', 'Paris', 'Libreville', 'London', \"St. George's\", 'Tbilisi', 'Cayenne', 'St Peter Port', 'Accra', 'Gibraltar', 'Nuuk', 'Bathurst', 'Conakry', 'Basse-Terre', 'Malabo', 'Athens', 'Grytviken', 'Guatemala City', 'Hagåtña', 'Bissau', 'Georgetown', 'Hong Kong', 'None', 'Tegucigalpa', 'Zagreb', 'Port-au-Prince', 'Budapest', 'Jakarta', 'Dublin', 'None', 'Douglas', 'New Delhi', 'None', 'Baghdad', 'Tehran', 'Reykjavik', 'Rome', 'Saint Helier', 'Kingston', 'Amman', 'Tokyo', 'Nairobi', 'Bishkek', 'Phnom Penh', 'Tarawa', 'Moroni', 'Basseterre', 'Pyongyang', 'Seoul', 'Kuwait City', 'George Town', 'Astana', 'Vientiane', 'Beirut', 'Castries', 'Vaduz', 'Colombo', 'Monrovia', 'Maseru', 'Vilnius', 'Luxembourg', 'Riga', 'Tripoli', 'Rabat', 'Monaco', 'Chişinău', 'Podgorica', 'Marigot', 'Antananarivo', 'Majuro', 'Skopje', 'Bamako', 'Naypyitaw', 'Ulan Bator', 'Macao', 'Saipan', 'Fort-de-France', 'Nouakchott', 'Plymouth', 'Valletta', 'Port Louis', 'Malé', 'Lilongwe', 'Mexico City', 'Kuala Lumpur', 'Maputo', 'Windhoek', 'Noumea', 'Niamey', 'Kingston', 'Abuja', 'Managua', 'Amsterdam', 'Oslo', 'Kathmandu', 'Yaren', 'Alofi', 'Wellington', 'Muscat', 'Panama City', 'Lima', 'Papeete', 'Port Moresby', 'Manila', 'Islamabad', 'Warsaw', 'Saint-Pierre', 'Adamstown', 'San Juan', 'None', 'Lisbon', 'Melekeok', 'Asunción', 'Doha', 'Saint-Denis', 'Bucharest', 'Belgrade', 'Moscow', 'Kigali', 'Riyadh', 'Honiara', 'Victoria', 'Khartoum', 'Stockholm', 'Singapore', 'Jamestown', 'Ljubljana', 'Longyearbyen', 'Bratislava', 'Freetown', 'San Marino', 'Dakar', 'Mogadishu', 'Paramaribo', 'Juba', 'São Tomé', 'San Salvador', 'Philipsburg', 'Damascus', 'Mbabane', 'Cockburn Town', \"N'Djamena\", 'Port-aux-Français', 'Lomé', 'Bangkok', 'Dushanbe', 'None', 'Dili', 'Ashgabat', 'Tunis', \"Nuku'alofa\", 'Ankara', 'Port of Spain', 'Funafuti', 'Taipei', 'Dodoma', 'Kiev', 'Kampala', 'None', 'Washington', 'Montevideo', 'Tashkent', 'Vatican City', 'Kingstown', 'Caracas', 'Road Town', 'Charlotte Amalie', 'Hanoi', 'Port Vila', 'Mata-Utu', 'Apia', 'Pristina', 'Sanaa', 'Mamoudzou', 'Pretoria', 'Lusaka', 'Harare']\n"
     ]
    }
   ],
   "execution_count": 22
  },
  {
   "metadata": {},
   "cell_type": "code",
   "outputs": [],
   "execution_count": null,
   "source": "",
   "id": "eb880a7730834cf2"
  }
 ],
 "metadata": {
  "kernelspec": {
   "display_name": "Python 3 (ipykernel)",
   "language": "python",
   "name": "python3"
  },
  "language_info": {
   "codemirror_mode": {
    "name": "ipython",
    "version": 3
   },
   "file_extension": ".py",
   "mimetype": "text/x-python",
   "name": "python",
   "nbconvert_exporter": "python",
   "pygments_lexer": "ipython3",
   "version": "3.11.7"
  }
 },
 "nbformat": 4,
 "nbformat_minor": 5
}
