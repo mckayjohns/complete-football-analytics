{
 "cells": [
  {
   "metadata": {},
   "cell_type": "code",
   "outputs": [],
   "execution_count": null,
   "source": "#!pip install cloudscraper",
   "id": "6db2387257301409"
  },
  {
   "metadata": {
    "collapsed": true,
    "ExecuteTime": {
     "end_time": "2025-02-02T19:55:10.140200Z",
     "start_time": "2025-02-02T19:55:10.122420Z"
    }
   },
   "cell_type": "code",
   "outputs": [],
   "execution_count": 15,
   "source": [
    "import requests\n",
    "import cloudscraper"
   ],
   "id": "initial_id"
  },
  {
   "cell_type": "code",
   "source": [
    "# How to get the match id from a url\n",
    "url = 'https://www.fotmob.com/matches/barcelona-vs-deportivo-alaves/2tw7n8#4506974'\n",
    "match_id = url.split('#')[-1]"
   ],
   "metadata": {
    "collapsed": false,
    "ExecuteTime": {
     "end_time": "2025-02-02T19:55:10.391414Z",
     "start_time": "2025-02-02T19:55:10.388841Z"
    }
   },
   "id": "56852ddb4da09ed3",
   "outputs": [],
   "execution_count": 16
  },
  {
   "metadata": {
    "ExecuteTime": {
     "end_time": "2025-02-02T19:56:32.263337Z",
     "start_time": "2025-02-02T19:56:31.868165Z"
    }
   },
   "cell_type": "code",
   "source": [
    "request_token = requests.get('http://46.101.91.154:6006/').json()\n",
    "\n",
    "session = cloudscraper.create_scraper(\n",
    "    browser={\"browser\": \"chrome\", \"platform\": \"linux\", \"mobile\": False}\n",
    ")\n",
    "\n",
    "session.headers.update({\n",
    "    'x-mas': request_token['x-mas']\n",
    "})"
   ],
   "id": "2ae6099a18bffd1b",
   "outputs": [],
   "execution_count": 18
  },
  {
   "cell_type": "code",
   "source": [
    "params = {\n",
    "    'matchId': match_id,\n",
    "}\n",
    "\n",
    "response = session.get(\n",
    "    'https://www.fotmob.com/api/matchDetails', \n",
    "    params=params\n",
    ")"
   ],
   "metadata": {
    "collapsed": false,
    "ExecuteTime": {
     "end_time": "2025-02-02T19:57:16.033479Z",
     "start_time": "2025-02-02T19:57:14.943571Z"
    }
   },
   "id": "393a8434381b02c8",
   "outputs": [],
   "execution_count": 19
  },
  {
   "cell_type": "code",
   "source": [
    "data = response.json()"
   ],
   "metadata": {
    "collapsed": false,
    "ExecuteTime": {
     "end_time": "2025-02-02T19:57:16.632142Z",
     "start_time": "2025-02-02T19:57:16.616013Z"
    }
   },
   "id": "591457693f1cb832",
   "outputs": [],
   "execution_count": 20
  },
  {
   "cell_type": "code",
   "execution_count": 11,
   "outputs": [],
   "source": "shotmap = data['content']['shotmap']['shots']",
   "metadata": {
    "collapsed": false,
    "ExecuteTime": {
     "end_time": "2024-04-20T15:35:17.893946Z",
     "start_time": "2024-04-20T15:35:17.868070Z"
    }
   },
   "id": "1f0c85a2c79ab5fc"
  },
  {
   "cell_type": "code",
   "execution_count": 12,
   "outputs": [],
   "source": [
    "import pandas as pd\n",
    "\n",
    "df = pd.DataFrame(shotmap)"
   ],
   "metadata": {
    "collapsed": false,
    "ExecuteTime": {
     "end_time": "2024-04-20T15:35:46.281104Z",
     "start_time": "2024-04-20T15:35:45.933815Z"
    }
   },
   "id": "515ebc182a913901"
  },
  {
   "cell_type": "code",
   "execution_count": 13,
   "outputs": [
    {
     "data": {
      "text/plain": "           id     eventType  teamId  playerId          playerName          x  \\\n0  2674472075          Post    8686    540307  Lorenzo Pellegrini  81.133495   \n1  2674472095          Goal    8686    588687    Gianluca Mancini  97.570175   \n2  2674473419          Miss    8564    724371      Theo Hernández  87.533824   \n3  2674475183  AttemptSaved    8564    604982  Ruben Loftus-Cheek  96.315789   \n4  2674475365          Miss    8564    844996       Matteo Gabbia  94.578947   \n\n           y  min  minAdded  isBlocked  ...    situation     period  \\\n0  37.768000   12       NaN      False  ...  RegularPlay  FirstHalf   \n1  36.897500   12       NaN      False  ...  RegularPlay  FirstHalf   \n2  45.892484   15       NaN      False  ...  RegularPlay  FirstHalf   \n3  24.209427   20       NaN       True  ...  RegularPlay  FirstHalf   \n4  34.457500   20       NaN      False  ...   FromCorner  FirstHalf   \n\n   isOwnGoal                                         onGoalShot  \\\n0      False  {'x': 1.9809523809523806, 'y': 0.4195767175132...   \n1      False  {'x': 1.7867063492063497, 'y': 0.3771094384126...   \n2      False  {'x': 0.6365427388217646, 'y': 0.6772486772486...   \n3      False  {'x': 1.665674603174603, 'y': 0.32275132116402...   \n4      False  {'x': 0, 'y': 0.10979912106703142, 'zoomRatio'...   \n\n   isSavedOffLine  isFromInsideBox  firstName      lastName  \\\n0           False            False    Lorenzo    Pellegrini   \n1           False             True   Gianluca       Mancini   \n2           False            False       Theo     Hernández   \n3           False             True      Ruben  Loftus-Cheek   \n4           False             True     Matteo        Gabbia   \n\n             fullName teamColor  \n0  Lorenzo Pellegrini   #9c0922  \n1    Gianluca Mancini   #9c0922  \n2      Theo Hernández   #CF2C27  \n3  Ruben Loftus-Cheek   #CF2C27  \n4       Matteo Gabbia   #CF2C27  \n\n[5 rows x 28 columns]",
      "text/html": "<div>\n<style scoped>\n    .dataframe tbody tr th:only-of-type {\n        vertical-align: middle;\n    }\n\n    .dataframe tbody tr th {\n        vertical-align: top;\n    }\n\n    .dataframe thead th {\n        text-align: right;\n    }\n</style>\n<table border=\"1\" class=\"dataframe\">\n  <thead>\n    <tr style=\"text-align: right;\">\n      <th></th>\n      <th>id</th>\n      <th>eventType</th>\n      <th>teamId</th>\n      <th>playerId</th>\n      <th>playerName</th>\n      <th>x</th>\n      <th>y</th>\n      <th>min</th>\n      <th>minAdded</th>\n      <th>isBlocked</th>\n      <th>...</th>\n      <th>situation</th>\n      <th>period</th>\n      <th>isOwnGoal</th>\n      <th>onGoalShot</th>\n      <th>isSavedOffLine</th>\n      <th>isFromInsideBox</th>\n      <th>firstName</th>\n      <th>lastName</th>\n      <th>fullName</th>\n      <th>teamColor</th>\n    </tr>\n  </thead>\n  <tbody>\n    <tr>\n      <th>0</th>\n      <td>2674472075</td>\n      <td>Post</td>\n      <td>8686</td>\n      <td>540307</td>\n      <td>Lorenzo Pellegrini</td>\n      <td>81.133495</td>\n      <td>37.768000</td>\n      <td>12</td>\n      <td>NaN</td>\n      <td>False</td>\n      <td>...</td>\n      <td>RegularPlay</td>\n      <td>FirstHalf</td>\n      <td>False</td>\n      <td>{'x': 1.9809523809523806, 'y': 0.4195767175132...</td>\n      <td>False</td>\n      <td>False</td>\n      <td>Lorenzo</td>\n      <td>Pellegrini</td>\n      <td>Lorenzo Pellegrini</td>\n      <td>#9c0922</td>\n    </tr>\n    <tr>\n      <th>1</th>\n      <td>2674472095</td>\n      <td>Goal</td>\n      <td>8686</td>\n      <td>588687</td>\n      <td>Gianluca Mancini</td>\n      <td>97.570175</td>\n      <td>36.897500</td>\n      <td>12</td>\n      <td>NaN</td>\n      <td>False</td>\n      <td>...</td>\n      <td>RegularPlay</td>\n      <td>FirstHalf</td>\n      <td>False</td>\n      <td>{'x': 1.7867063492063497, 'y': 0.3771094384126...</td>\n      <td>False</td>\n      <td>True</td>\n      <td>Gianluca</td>\n      <td>Mancini</td>\n      <td>Gianluca Mancini</td>\n      <td>#9c0922</td>\n    </tr>\n    <tr>\n      <th>2</th>\n      <td>2674473419</td>\n      <td>Miss</td>\n      <td>8564</td>\n      <td>724371</td>\n      <td>Theo Hernández</td>\n      <td>87.533824</td>\n      <td>45.892484</td>\n      <td>15</td>\n      <td>NaN</td>\n      <td>False</td>\n      <td>...</td>\n      <td>RegularPlay</td>\n      <td>FirstHalf</td>\n      <td>False</td>\n      <td>{'x': 0.6365427388217646, 'y': 0.6772486772486...</td>\n      <td>False</td>\n      <td>False</td>\n      <td>Theo</td>\n      <td>Hernández</td>\n      <td>Theo Hernández</td>\n      <td>#CF2C27</td>\n    </tr>\n    <tr>\n      <th>3</th>\n      <td>2674475183</td>\n      <td>AttemptSaved</td>\n      <td>8564</td>\n      <td>604982</td>\n      <td>Ruben Loftus-Cheek</td>\n      <td>96.315789</td>\n      <td>24.209427</td>\n      <td>20</td>\n      <td>NaN</td>\n      <td>True</td>\n      <td>...</td>\n      <td>RegularPlay</td>\n      <td>FirstHalf</td>\n      <td>False</td>\n      <td>{'x': 1.665674603174603, 'y': 0.32275132116402...</td>\n      <td>False</td>\n      <td>True</td>\n      <td>Ruben</td>\n      <td>Loftus-Cheek</td>\n      <td>Ruben Loftus-Cheek</td>\n      <td>#CF2C27</td>\n    </tr>\n    <tr>\n      <th>4</th>\n      <td>2674475365</td>\n      <td>Miss</td>\n      <td>8564</td>\n      <td>844996</td>\n      <td>Matteo Gabbia</td>\n      <td>94.578947</td>\n      <td>34.457500</td>\n      <td>20</td>\n      <td>NaN</td>\n      <td>False</td>\n      <td>...</td>\n      <td>FromCorner</td>\n      <td>FirstHalf</td>\n      <td>False</td>\n      <td>{'x': 0, 'y': 0.10979912106703142, 'zoomRatio'...</td>\n      <td>False</td>\n      <td>True</td>\n      <td>Matteo</td>\n      <td>Gabbia</td>\n      <td>Matteo Gabbia</td>\n      <td>#CF2C27</td>\n    </tr>\n  </tbody>\n</table>\n<p>5 rows × 28 columns</p>\n</div>"
     },
     "execution_count": 13,
     "metadata": {},
     "output_type": "execute_result"
    }
   ],
   "source": "df.head()",
   "metadata": {
    "collapsed": false,
    "ExecuteTime": {
     "end_time": "2024-04-20T15:35:52.369593Z",
     "start_time": "2024-04-20T15:35:52.362757Z"
    }
   },
   "id": "9b26fde111788ebf"
  },
  {
   "cell_type": "code",
   "execution_count": null,
   "outputs": [],
   "source": "df.to_csv('/Users/mckayjohns/Documents/fotmob.csv')",
   "metadata": {
    "collapsed": false
   },
   "id": "497dba46ec215894"
  },
  {
   "metadata": {
    "ExecuteTime": {
     "end_time": "2025-02-03T13:38:08.334053Z",
     "start_time": "2025-02-03T13:38:07.502586Z"
    }
   },
   "cell_type": "code",
   "source": [
    "session = cloudscraper.create_scraper(\n",
    "    browser={\"browser\": \"chrome\", \"platform\": \"linux\", \"mobile\": False}\n",
    ")\n",
    "\n",
    "response = session.get('https://www.whoscored.com/matches/1834958/live/italy-serie-a-2024-2025-roma-napoli')"
   ],
   "id": "b7c0da7b3df722b3",
   "outputs": [],
   "execution_count": 22
  },
  {
   "metadata": {},
   "cell_type": "code",
   "outputs": [],
   "execution_count": null,
   "source": "response",
   "id": "fa6ad21a598e77ab"
  }
 ],
 "metadata": {
  "kernelspec": {
   "display_name": "Python 3",
   "language": "python",
   "name": "python3"
  },
  "language_info": {
   "codemirror_mode": {
    "name": "ipython",
    "version": 2
   },
   "file_extension": ".py",
   "mimetype": "text/x-python",
   "name": "python",
   "nbconvert_exporter": "python",
   "pygments_lexer": "ipython2",
   "version": "2.7.6"
  }
 },
 "nbformat": 4,
 "nbformat_minor": 5
}
