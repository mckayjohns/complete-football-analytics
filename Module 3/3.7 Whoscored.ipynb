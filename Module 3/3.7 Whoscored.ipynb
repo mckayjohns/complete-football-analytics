{
 "cells": [
  {
   "metadata": {},
   "cell_type": "code",
   "outputs": [],
   "execution_count": null,
   "source": [
    "#!pip install undetected-chromedriver\n",
    "# make sure you also have Chrome installed"
   ],
   "id": "9c63e459a8afe344"
  },
  {
   "metadata": {
    "ExecuteTime": {
     "end_time": "2025-08-26T04:00:40.068109Z",
     "start_time": "2025-08-26T04:00:39.879316Z"
    }
   },
   "cell_type": "code",
   "source": [
    "import json\n",
    "import pandas as pd\n",
    "import undetected_chromedriver as uc\n",
    "\n",
    "from bs4 import BeautifulSoup"
   ],
   "id": "e6f32ff670f9a0e6",
   "outputs": [],
   "execution_count": 1
  },
  {
   "metadata": {
    "ExecuteTime": {
     "end_time": "2025-08-16T22:28:39.554445Z",
     "start_time": "2025-08-16T22:28:35.942356Z"
    }
   },
   "cell_type": "code",
   "source": [
    "driver = uc.Chrome()\n",
    "driver.set_page_load_timeout(5)"
   ],
   "id": "5d04852ec5c6843c",
   "outputs": [
    {
     "data": {
      "text/plain": [
       "\u001B[2;36m[08/16/25 16:28:37]\u001B[0m\u001B[2;36m \u001B[0m\u001B[34mINFO    \u001B[0m patching driver executable \u001B[35m/Users/mckayjohns/Library/\u001B[0m\u001B[95mApplication\u001B[0m        \u001B]8;id=915745;file:///Users/mckayjohns/miniforge3/envs/complete-football-analytics/lib/python3.11/site-packages/undetected_chromedriver/patcher.py\u001B\\\u001B[2mpatcher.py\u001B[0m\u001B]8;;\u001B\\\u001B[2m:\u001B[0m\u001B]8;id=222933;file:///Users/mckayjohns/miniforge3/envs/complete-football-analytics/lib/python3.11/site-packages/undetected_chromedriver/patcher.py#346\u001B\\\u001B[2m346\u001B[0m\u001B]8;;\u001B\\\n",
       "\u001B[2;36m                    \u001B[0m         Support/undetected_chromedriver/undetected_chromedriver                 \u001B[2m              \u001B[0m\n"
      ],
      "text/html": [
       "<pre style=\"white-space:pre;overflow-x:auto;line-height:normal;font-family:Menlo,'DejaVu Sans Mono',consolas,'Courier New',monospace\"><span style=\"color: #7fbfbf; text-decoration-color: #7fbfbf\">[08/16/25 16:28:37] </span><span style=\"color: #000080; text-decoration-color: #000080\">INFO    </span> patching driver executable <span style=\"color: #800080; text-decoration-color: #800080\">/Users/mckayjohns/Library/</span><span style=\"color: #ff00ff; text-decoration-color: #ff00ff\">Application</span>        <a href=\"file:///Users/mckayjohns/miniforge3/envs/complete-football-analytics/lib/python3.11/site-packages/undetected_chromedriver/patcher.py\" target=\"_blank\"><span style=\"color: #7f7f7f; text-decoration-color: #7f7f7f\">patcher.py</span></a><span style=\"color: #7f7f7f; text-decoration-color: #7f7f7f\">:</span><a href=\"file:///Users/mckayjohns/miniforge3/envs/complete-football-analytics/lib/python3.11/site-packages/undetected_chromedriver/patcher.py#346\" target=\"_blank\"><span style=\"color: #7f7f7f; text-decoration-color: #7f7f7f\">346</span></a>\n",
       "<span style=\"color: #7fbfbf; text-decoration-color: #7fbfbf\">                    </span>         Support/undetected_chromedriver/undetected_chromedriver                 <span style=\"color: #7f7f7f; text-decoration-color: #7f7f7f\">              </span>\n",
       "</pre>\n"
      ]
     },
     "metadata": {},
     "output_type": "display_data"
    }
   ],
   "execution_count": 71
  },
  {
   "metadata": {
    "collapsed": true,
    "ExecuteTime": {
     "end_time": "2025-08-16T22:28:41.067688Z",
     "start_time": "2025-08-16T22:28:41.065382Z"
    }
   },
   "cell_type": "code",
   "source": "whoscored_url = 'https://www.whoscored.com/matches/1821720/live/spain-laliga-2024-2025-barcelona-real-madrid'",
   "id": "initial_id",
   "outputs": [],
   "execution_count": 72
  },
  {
   "metadata": {
    "ExecuteTime": {
     "end_time": "2025-08-16T22:28:48.985015Z",
     "start_time": "2025-08-16T22:28:43.933092Z"
    }
   },
   "cell_type": "code",
   "source": [
    "# Scrape the webpage\n",
    "try:\n",
    "    driver.get(whoscored_url)\n",
    "except:\n",
    "    driver.execute_script(\"window.stop();\")"
   ],
   "id": "6b8a8c758210f41e",
   "outputs": [],
   "execution_count": 73
  },
  {
   "metadata": {
    "ExecuteTime": {
     "end_time": "2025-08-16T22:28:51.265407Z",
     "start_time": "2025-08-16T22:28:51.147529Z"
    }
   },
   "cell_type": "code",
   "source": "soup = BeautifulSoup(driver.page_source, 'html.parser')",
   "id": "bf49a91bed929f76",
   "outputs": [],
   "execution_count": 74
  },
  {
   "metadata": {
    "ExecuteTime": {
     "end_time": "2025-08-16T22:28:51.906693Z",
     "start_time": "2025-08-16T22:28:51.897183Z"
    }
   },
   "cell_type": "code",
   "source": [
    "# Extract match data from script tag\n",
    "data = soup.select_one('script:-soup-contains(\"matchCentreData\")')\n",
    "print(data.text[:1000])"
   ],
   "id": "33dff36890cddcb3",
   "outputs": [
    {
     "name": "stdout",
     "output_type": "stream",
     "text": [
      "\n",
      "        require.config.params[\"args\"] = {\n",
      "            matchId:1821720,\n",
      "            matchCentreData: {\"playerIdNameDictionary\":{\"300447\":\"Raphinha\",\"130331\":\"Andreas Christensen\",\"80774\":\"Marc-André ter Stegen\",\"279423\":\"Frenkie de Jong\",\"29400\":\"Robert Lewandowski\",\"73379\":\"Wojciech Szczesny\",\"106885\":\"Iñigo Martínez\",\"349760\":\"Ferran Torres\",\"367164\":\"Iñaki Peña\",\"368091\":\"Eric García\",\"382234\":\"Ansu Fati\",\"402197\":\"Pedri\",\"422937\":\"Gavi\",\"422938\":\"Alejandro Balde\",\"444243\":\"Pau Víctor\",\"454343\":\"Marc Casadó\",\"463838\":\"Fermín López\",\"480249\":\"Lamine Yamal\",\"483206\":\"Héctor Fort\",\"498386\":\"Pau Cubarsí\",\"512879\":\"Gerard Martín\",\"261212\":\"Dani Olmo\",\"384711\":\"Ronald Araujo\",\"73798\":\"Thibaut Courtois\",\"337782\":\"Vinícius Júnior\",\"347862\":\"Rodrygo\",\"20874\":\"Luka Modric\",\"300713\":\"Kylian Mbappé\",\"353423\":\"Aurélien Tchouaméni\",\"317541\":\"Brahim Díaz\",\"144511\":\"Lucas Vázquez\",\"144890\":\"Dani Ceballos\",\"238901\":\"Jesús Vallejo\",\"516374\":\"Jacobo Ramón\",\"534899\":\"Raúl Asencio\",\"415181\":\"Arda Güler\"\n"
     ]
    }
   ],
   "execution_count": 75
  },
  {
   "metadata": {
    "ExecuteTime": {
     "end_time": "2025-08-16T22:28:52.722918Z",
     "start_time": "2025-08-16T22:28:52.711986Z"
    }
   },
   "cell_type": "code",
   "source": [
    "matchdict = json.loads(\n",
    "    data.text.split(\"matchCentreData: \")[1].split('matchCentreEventTypeJson')[0].strip()[:-1]\n",
    ")"
   ],
   "id": "1f09d16303d7ca2c",
   "outputs": [],
   "execution_count": 76
  },
  {
   "metadata": {
    "ExecuteTime": {
     "end_time": "2025-08-16T22:28:53.483392Z",
     "start_time": "2025-08-16T22:28:53.480439Z"
    }
   },
   "cell_type": "code",
   "source": "matchdict.keys()",
   "id": "8b02273656ab8963",
   "outputs": [
    {
     "data": {
      "text/plain": [
       "dict_keys(['playerIdNameDictionary', 'periodMinuteLimits', 'timeStamp', 'attendance', 'venueName', 'referee', 'weatherCode', 'elapsed', 'startTime', 'startDate', 'score', 'htScore', 'ftScore', 'etScore', 'pkScore', 'statusCode', 'periodCode', 'home', 'away', 'maxMinute', 'minuteExpanded', 'maxPeriod', 'expandedMinutes', 'expandedMaxMinute', 'periodEndMinutes', 'commonEvents', 'events', 'timeoutInSeconds'])"
      ]
     },
     "execution_count": 77,
     "metadata": {},
     "output_type": "execute_result"
    }
   ],
   "execution_count": 77
  },
  {
   "metadata": {
    "ExecuteTime": {
     "end_time": "2025-08-16T22:28:54.312342Z",
     "start_time": "2025-08-16T22:28:54.304681Z"
    }
   },
   "cell_type": "code",
   "source": [
    "# Extract match events\n",
    "match_events = matchdict['events']\n",
    "df = pd.DataFrame(match_events)"
   ],
   "id": "9688a92cad844c4e",
   "outputs": [],
   "execution_count": 78
  },
  {
   "metadata": {
    "ExecuteTime": {
     "end_time": "2025-08-16T22:28:55.137802Z",
     "start_time": "2025-08-16T22:28:55.128189Z"
    }
   },
   "cell_type": "code",
   "source": "df.head()",
   "id": "6eab827e38d0d43e",
   "outputs": [
    {
     "data": {
      "text/plain": [
       "             id  eventId  minute  second  teamId     x     y  expandedMinute  \\\n",
       "0  2.813573e+09        2       0     0.0      65   0.0   0.0               0   \n",
       "1  2.813573e+09        2       0     0.0      52   0.0   0.0               0   \n",
       "2  2.813573e+09        3       0     0.0      52  49.9  49.8               0   \n",
       "3  2.813573e+09        4       0     3.0      52  27.7  36.7               0   \n",
       "4  2.813573e+09        5       0     5.0      52  23.9  19.7               0   \n",
       "\n",
       "                                     period  \\\n",
       "0  {'value': 1, 'displayName': 'FirstHalf'}   \n",
       "1  {'value': 1, 'displayName': 'FirstHalf'}   \n",
       "2  {'value': 1, 'displayName': 'FirstHalf'}   \n",
       "3  {'value': 1, 'displayName': 'FirstHalf'}   \n",
       "4  {'value': 1, 'displayName': 'FirstHalf'}   \n",
       "\n",
       "                                    type  ...  endY goalMouthZ goalMouthY  \\\n",
       "0  {'value': 32, 'displayName': 'Start'}  ...   NaN        NaN        NaN   \n",
       "1  {'value': 32, 'displayName': 'Start'}  ...   NaN        NaN        NaN   \n",
       "2    {'value': 1, 'displayName': 'Pass'}  ...  37.3        NaN        NaN   \n",
       "3    {'value': 1, 'displayName': 'Pass'}  ...  19.7        NaN        NaN   \n",
       "4    {'value': 1, 'displayName': 'Pass'}  ...  45.7        NaN        NaN   \n",
       "\n",
       "   isGoal  isShot  relatedEventId  relatedPlayerId  blockedX  blockedY  \\\n",
       "0     NaN     NaN             NaN              NaN       NaN       NaN   \n",
       "1     NaN     NaN             NaN              NaN       NaN       NaN   \n",
       "2     NaN     NaN             NaN              NaN       NaN       NaN   \n",
       "3     NaN     NaN             NaN              NaN       NaN       NaN   \n",
       "4     NaN     NaN             NaN              NaN       NaN       NaN   \n",
       "\n",
       "  cardType  \n",
       "0      NaN  \n",
       "1      NaN  \n",
       "2      NaN  \n",
       "3      NaN  \n",
       "4      NaN  \n",
       "\n",
       "[5 rows x 26 columns]"
      ],
      "text/html": [
       "<div>\n",
       "<style scoped>\n",
       "    .dataframe tbody tr th:only-of-type {\n",
       "        vertical-align: middle;\n",
       "    }\n",
       "\n",
       "    .dataframe tbody tr th {\n",
       "        vertical-align: top;\n",
       "    }\n",
       "\n",
       "    .dataframe thead th {\n",
       "        text-align: right;\n",
       "    }\n",
       "</style>\n",
       "<table border=\"1\" class=\"dataframe\">\n",
       "  <thead>\n",
       "    <tr style=\"text-align: right;\">\n",
       "      <th></th>\n",
       "      <th>id</th>\n",
       "      <th>eventId</th>\n",
       "      <th>minute</th>\n",
       "      <th>second</th>\n",
       "      <th>teamId</th>\n",
       "      <th>x</th>\n",
       "      <th>y</th>\n",
       "      <th>expandedMinute</th>\n",
       "      <th>period</th>\n",
       "      <th>type</th>\n",
       "      <th>...</th>\n",
       "      <th>endY</th>\n",
       "      <th>goalMouthZ</th>\n",
       "      <th>goalMouthY</th>\n",
       "      <th>isGoal</th>\n",
       "      <th>isShot</th>\n",
       "      <th>relatedEventId</th>\n",
       "      <th>relatedPlayerId</th>\n",
       "      <th>blockedX</th>\n",
       "      <th>blockedY</th>\n",
       "      <th>cardType</th>\n",
       "    </tr>\n",
       "  </thead>\n",
       "  <tbody>\n",
       "    <tr>\n",
       "      <th>0</th>\n",
       "      <td>2.813573e+09</td>\n",
       "      <td>2</td>\n",
       "      <td>0</td>\n",
       "      <td>0.0</td>\n",
       "      <td>65</td>\n",
       "      <td>0.0</td>\n",
       "      <td>0.0</td>\n",
       "      <td>0</td>\n",
       "      <td>{'value': 1, 'displayName': 'FirstHalf'}</td>\n",
       "      <td>{'value': 32, 'displayName': 'Start'}</td>\n",
       "      <td>...</td>\n",
       "      <td>NaN</td>\n",
       "      <td>NaN</td>\n",
       "      <td>NaN</td>\n",
       "      <td>NaN</td>\n",
       "      <td>NaN</td>\n",
       "      <td>NaN</td>\n",
       "      <td>NaN</td>\n",
       "      <td>NaN</td>\n",
       "      <td>NaN</td>\n",
       "      <td>NaN</td>\n",
       "    </tr>\n",
       "    <tr>\n",
       "      <th>1</th>\n",
       "      <td>2.813573e+09</td>\n",
       "      <td>2</td>\n",
       "      <td>0</td>\n",
       "      <td>0.0</td>\n",
       "      <td>52</td>\n",
       "      <td>0.0</td>\n",
       "      <td>0.0</td>\n",
       "      <td>0</td>\n",
       "      <td>{'value': 1, 'displayName': 'FirstHalf'}</td>\n",
       "      <td>{'value': 32, 'displayName': 'Start'}</td>\n",
       "      <td>...</td>\n",
       "      <td>NaN</td>\n",
       "      <td>NaN</td>\n",
       "      <td>NaN</td>\n",
       "      <td>NaN</td>\n",
       "      <td>NaN</td>\n",
       "      <td>NaN</td>\n",
       "      <td>NaN</td>\n",
       "      <td>NaN</td>\n",
       "      <td>NaN</td>\n",
       "      <td>NaN</td>\n",
       "    </tr>\n",
       "    <tr>\n",
       "      <th>2</th>\n",
       "      <td>2.813573e+09</td>\n",
       "      <td>3</td>\n",
       "      <td>0</td>\n",
       "      <td>0.0</td>\n",
       "      <td>52</td>\n",
       "      <td>49.9</td>\n",
       "      <td>49.8</td>\n",
       "      <td>0</td>\n",
       "      <td>{'value': 1, 'displayName': 'FirstHalf'}</td>\n",
       "      <td>{'value': 1, 'displayName': 'Pass'}</td>\n",
       "      <td>...</td>\n",
       "      <td>37.3</td>\n",
       "      <td>NaN</td>\n",
       "      <td>NaN</td>\n",
       "      <td>NaN</td>\n",
       "      <td>NaN</td>\n",
       "      <td>NaN</td>\n",
       "      <td>NaN</td>\n",
       "      <td>NaN</td>\n",
       "      <td>NaN</td>\n",
       "      <td>NaN</td>\n",
       "    </tr>\n",
       "    <tr>\n",
       "      <th>3</th>\n",
       "      <td>2.813573e+09</td>\n",
       "      <td>4</td>\n",
       "      <td>0</td>\n",
       "      <td>3.0</td>\n",
       "      <td>52</td>\n",
       "      <td>27.7</td>\n",
       "      <td>36.7</td>\n",
       "      <td>0</td>\n",
       "      <td>{'value': 1, 'displayName': 'FirstHalf'}</td>\n",
       "      <td>{'value': 1, 'displayName': 'Pass'}</td>\n",
       "      <td>...</td>\n",
       "      <td>19.7</td>\n",
       "      <td>NaN</td>\n",
       "      <td>NaN</td>\n",
       "      <td>NaN</td>\n",
       "      <td>NaN</td>\n",
       "      <td>NaN</td>\n",
       "      <td>NaN</td>\n",
       "      <td>NaN</td>\n",
       "      <td>NaN</td>\n",
       "      <td>NaN</td>\n",
       "    </tr>\n",
       "    <tr>\n",
       "      <th>4</th>\n",
       "      <td>2.813573e+09</td>\n",
       "      <td>5</td>\n",
       "      <td>0</td>\n",
       "      <td>5.0</td>\n",
       "      <td>52</td>\n",
       "      <td>23.9</td>\n",
       "      <td>19.7</td>\n",
       "      <td>0</td>\n",
       "      <td>{'value': 1, 'displayName': 'FirstHalf'}</td>\n",
       "      <td>{'value': 1, 'displayName': 'Pass'}</td>\n",
       "      <td>...</td>\n",
       "      <td>45.7</td>\n",
       "      <td>NaN</td>\n",
       "      <td>NaN</td>\n",
       "      <td>NaN</td>\n",
       "      <td>NaN</td>\n",
       "      <td>NaN</td>\n",
       "      <td>NaN</td>\n",
       "      <td>NaN</td>\n",
       "      <td>NaN</td>\n",
       "      <td>NaN</td>\n",
       "    </tr>\n",
       "  </tbody>\n",
       "</table>\n",
       "<p>5 rows × 26 columns</p>\n",
       "</div>"
      ]
     },
     "execution_count": 79,
     "metadata": {},
     "output_type": "execute_result"
    }
   ],
   "execution_count": 79
  },
  {
   "metadata": {
    "ExecuteTime": {
     "end_time": "2025-08-16T22:28:56.205833Z",
     "start_time": "2025-08-16T22:28:56.070428Z"
    }
   },
   "cell_type": "code",
   "source": [
    "# Quick example of plotting passes\n",
    "from mplsoccer import Pitch\n",
    "pitch = Pitch(pitch_type='opta', half=True)\n",
    "\n",
    "fig, ax = pitch.draw(figsize=(8, 6))\n",
    "\n",
    "df = df[(df['isShot'] == True) & (df['teamId'] == 65)]\n",
    "\n",
    "pitch.scatter(df['x'], df['y'], s=100, ax=ax, color='red', label='Shots')\n",
    "\n",
    "goals = df[df['isGoal'] == True]\n",
    "\n",
    "pitch.scatter(goals['x'], goals['y'], s=200, ax=ax, color='green', label='Goals')"
   ],
   "id": "f445f2f07e711c6f",
   "outputs": [
    {
     "data": {
      "text/plain": [
       "<matplotlib.collections.PathCollection at 0x350046610>"
      ]
     },
     "execution_count": 80,
     "metadata": {},
     "output_type": "execute_result"
    },
    {
     "data": {
      "text/plain": [
       "<Figure size 800x600 with 1 Axes>"
      ],
      "image/png": "[encoded data removed]"
     },
     "metadata": {},
     "output_type": "display_data"
    }
   ],
   "execution_count": 80
  }
 ],
 "metadata": {
  "kernelspec": {
   "display_name": "Python 3",
   "language": "python",
   "name": "python3"
  },
  "language_info": {
   "codemirror_mode": {
    "name": "ipython",
    "version": 2
   },
   "file_extension": ".py",
   "mimetype": "text/x-python",
   "name": "python",
   "nbconvert_exporter": "python",
   "pygments_lexer": "ipython2",
   "version": "2.7.6"
  }
 },
 "nbformat": 4,
 "nbformat_minor": 5
}
